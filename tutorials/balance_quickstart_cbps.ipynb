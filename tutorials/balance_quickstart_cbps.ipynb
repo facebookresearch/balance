{
  "cells": [
    {
      "cell_type": "markdown",
      "metadata": {
        "collapsed": true,
        "originalKey": "b09e243b-4de0-4211-aee8-80ed3b05499a",
        "showInput": false
      },
      "source": [
        "# balance Quickstart (CBPS): Analyzing and adjusting the bias on a simulated toy dataset\n",
        "\n",
        "'balance' is a Python package that is maintained and released by the Core Data Science Tel-Aviv team in Meta. 'balance' performs and evaluates bias reduction by weighting for a broad set of experimental and observational use cases.\n",
        "\n",
        "Although balance is written in Python, you don't need a deep Python understanding to use it. In fact, you can just use this notebook, load your data, change some variables and re-run the notebook and produce your own weights!\n",
        "\n",
        "This quickstart demonstrates re-weighting specific simulated data, but if you have a different usecase or want more comprehensive documentation, you can check out the comprehensive balance tutorial."
      ]
    },
    {
      "cell_type": "markdown",
      "metadata": {
        "originalKey": "2433e17f-776a-48d1-8c58-dc6bed72277d",
        "showInput": false
      },
      "source": [
        "## Analysis\n",
        "\n",
        "There are four main steps to analysis with balance:\n",
        "- load data\n",
        "- check diagnostics before adjustment\n",
        "- perform adjustment + check diagnostics\n",
        "- output results\n",
        "\n",
        "Let's dive right in!"
      ]
    },
    {
      "cell_type": "markdown",
      "metadata": {
        "originalKey": "72611c31-352b-40f0-93f2-49fcbf582b50",
        "showInput": false,
        "customInput": null
      },
      "source": [
        "## Example dataset\n",
        "\n",
        "The following is a toy simulated dataset."
      ]
    },
    {
      "cell_type": "code",
      "metadata": {
        "originalKey": "a2f587e2-2dcf-42ef-be19-3c990cd4f60b",
        "showInput": true,
        "customInput": null,
        "collapsed": false,
        "requestMsgId": "b65e01a6-937e-48a9-a336-586d7315c73c",
        "customOutput": null,
        "executionStartTime": 1669112493829,
        "executionStopTime": 1669112495653
      },
      "source": [
        "from balance import load_data"
      ],
      "execution_count": 2,
      "outputs": [
        {
          "output_type": "stream",
          "name": "stderr",
          "text": [
            "INFO (2022-11-22 02:21:35,671) [__init__/<module> (line 52)]: Using balance version 0.1.1\n"
          ]
        }
      ]
    },
    {
      "cell_type": "code",
      "metadata": {
        "originalKey": "93d621f6-63de-40e1-94b1-9a9aa4c8a9b4",
        "showInput": true,
        "customInput": null,
        "collapsed": false,
        "requestMsgId": "75df764c-778a-4b31-a0c4-e7948f5c9d72",
        "customOutput": null,
        "executionStartTime": 1669112502492,
        "executionStopTime": 1669112502596
      },
      "source": [
        "target_df, sample_df = load_data()\n",
        "\n",
        "print(\"target_df: \\n\", target_df.head())\n",
        "print(\"sample_df: \\n\", sample_df.head())"
      ],
      "execution_count": 3,
      "outputs": [
        {
          "output_type": "stream",
          "name": "stdout",
          "text": [
            "target_df: \n        id gender age_group     income\n0  100000   Male       45+  10.183951\n1  100001   Male       45+   6.036858\n2  100002   Male     35-44   5.226629\n3  100003    NaN       45+   5.752147\n4  100004    NaN     25-34   4.837484\nsample_df: \n   id  gender age_group     income  happiness\n0  0  Female     25-34   1.038463  55.975764\n1  1    Male       45+   0.214603  58.645154\n2  2    Male     35-44   2.322137  42.285653\n3  3     NaN     18-24   0.086068  49.210985\n4  4     NaN     35-44  17.156958  49.330845\n"
          ]
        }
      ]
    },
    {
      "cell_type": "code",
      "metadata": {
        "originalKey": "6996e937-ad36-4ca2-9ed6-731b8243ba84",
        "showInput": true,
        "customInput": null,
        "collapsed": false,
        "requestMsgId": "ddd617ba-c792-402d-8bcf-304cedd99c37",
        "customOutput": null,
        "executionStartTime": 1669112505669,
        "executionStopTime": 1669112505677
      },
      "source": [
        "target_df.head().round(2).to_dict()\n",
        "# sample_df.shape"
      ],
      "execution_count": 4,
      "outputs": [
        {
          "output_type": "execute_result",
          "data": {
            "text/plain": "{'id': {0: '100000', 1: '100001', 2: '100002', 3: '100003', 4: '100004'},\n 'gender': {0: 'Male', 1: 'Male', 2: 'Male', 3: nan, 4: nan},\n 'age_group': {0: '45+', 1: '45+', 2: '35-44', 3: '45+', 4: '25-34'},\n 'income': {0: 10.18, 1: 6.04, 2: 5.23, 3: 5.75, 4: 4.84}}"
          },
          "metadata": {
            "bento_obj_id": "139827687393024"
          },
          "execution_count": 4
        }
      ]
    },
    {
      "cell_type": "markdown",
      "metadata": {
        "originalKey": "00b6ff3d-1b45-49ea-907a-24b73b3931f7",
        "showInput": false,
        "customInput": null
      },
      "source": [
        "In practice, one can use pandas loading function(such as `read_csv()`) to import data into the DataFrame objects `sample_df` and `target_df`."
      ],
      "attachments": {}
    },
    {
      "cell_type": "markdown",
      "metadata": {
        "originalKey": "c0ac8b78-ce71-4bf6-ae4a-a2c2f7928968",
        "showInput": false
      },
      "source": [
        "# Load data into a Sample object\n",
        "\n",
        "The first thing to do is to import the `Sample` class from balance. All of the data we're going to be working with, sample or population, will be stored in objects of the `Sample` class."
      ]
    },
    {
      "cell_type": "code",
      "metadata": {
        "originalKey": "cebf69ab-5220-4fd3-a983-3f1b96d36acc",
        "showInput": true,
        "customInput": null,
        "customOutput": null,
        "collapsed": false,
        "requestMsgId": "5bf1909f-64fc-4f38-9f4b-cf61984e66b3",
        "executionStartTime": 1669112512663,
        "executionStopTime": 1669112512769
      },
      "source": [
        "from balance import Sample"
      ],
      "execution_count": 5,
      "outputs": []
    },
    {
      "cell_type": "markdown",
      "metadata": {
        "originalKey": "e9ab2c0c-2726-49bf-b2f5-222386d5d426",
        "showInput": false
      },
      "source": [
        "Using the Sample class, we can fill it with a \"sample\" we want to adjust, and also a \"target\" we want to adjust towards."
      ]
    },
    {
      "cell_type": "markdown",
      "metadata": {
        "originalKey": "da4c009d-66bf-4980-960f-9e8bb5352c36",
        "showInput": false,
        "customInput": null
      },
      "source": [
        "We turn the two input pandas DataFrame objects we created (or loaded) into a balance.Sample objects, by using the `.from_frame()` "
      ]
    },
    {
      "cell_type": "code",
      "metadata": {
        "originalKey": "a85574e2-adb7-4c9a-b999-ee86a3bb1179",
        "showInput": true,
        "customInput": null,
        "collapsed": false,
        "requestMsgId": "ab4d2feb-971d-4058-8cba-fdd615acbdd1",
        "customOutput": null,
        "executionStartTime": 1669112514780,
        "executionStopTime": 1669112515677
      },
      "source": [
        "sample = Sample.from_frame(sample_df, outcome_columns=[\"happiness\"])\n",
        "target = Sample.from_frame(target_df)"
      ],
      "execution_count": 6,
      "outputs": [
        {
          "output_type": "stream",
          "name": "stderr",
          "text": [
            "WARNING (2022-11-22 02:21:55,352) [util/guess_id_column (line 111)]: Guessed id column name id for the data\n"
          ]
        },
        {
          "output_type": "stream",
          "name": "stderr",
          "text": [
            "WARNING (2022-11-22 02:21:55,381) [sample_class/from_frame (line 234)]: No weights passed, setting all weights to 1\n"
          ]
        },
        {
          "output_type": "stream",
          "name": "stderr",
          "text": [
            "WARNING (2022-11-22 02:21:55,418) [util/guess_id_column (line 111)]: Guessed id column name id for the data\n"
          ]
        },
        {
          "output_type": "stream",
          "name": "stderr",
          "text": [
            "WARNING (2022-11-22 02:21:55,447) [sample_class/from_frame (line 234)]: No weights passed, setting all weights to 1\n"
          ]
        }
      ]
    },
    {
      "cell_type": "markdown",
      "metadata": {
        "originalKey": "261f25c9-4027-4e29-9734-aa14b99f1293",
        "showInput": false,
        "customInput": null,
        "collapsed": false,
        "requestMsgId": "261f25c9-4027-4e29-9734-aa14b99f1293",
        "customOutput": null,
        "executionStartTime": 1667643333353,
        "executionStopTime": 1667643333368
      },
      "source": [
        "If we use the `.df` property call, we can see the DataFrame stored in sample. We can see how we have a new weight column that was added (it will all have 1s) in the importing of the DataFrames into a `balance.Sample` object."
      ],
      "attachments": {}
    },
    {
      "cell_type": "code",
      "metadata": {
        "originalKey": "6f8f16d9-4808-4781-8a50-b0e8f2f3d307",
        "showInput": true,
        "customInput": null,
        "collapsed": false,
        "requestMsgId": "fe2ca8b3-defc-4359-8b9b-5512dd631f98",
        "executionStopTime": 1669112520000,
        "customOutput": null,
        "executionStartTime": 1669112519991
      },
      "source": [
        "sample.df.info()"
      ],
      "execution_count": 7,
      "outputs": [
        {
          "output_type": "stream",
          "name": "stdout",
          "text": [
            "<class 'pandas.core.frame.DataFrame'>\nRangeIndex: 1000 entries, 0 to 999\nData columns (total 6 columns):\n #   Column     Non-Null Count  Dtype  \n---  ------     --------------  -----  \n 0   id         1000 non-null   object \n 1   gender     912 non-null    object \n 2   age_group  1000 non-null   object \n 3   income     1000 non-null   float64\n 4   happiness  1000 non-null   float64\n 5   weight     1000 non-null   int64  \ndtypes: float64(2), int64(1), object(3)\nmemory usage: 47.0+ KB\n"
          ]
        }
      ]
    },
    {
      "cell_type": "markdown",
      "metadata": {
        "originalKey": "3166f8ed-85f1-41de-b545-cb006ef40e4c",
        "showInput": false,
        "customInput": null
      },
      "source": [
        "We can get a quick overview text of each Sample object, but just calling it."
      ]
    },
    {
      "cell_type": "markdown",
      "metadata": {
        "originalKey": "72ca5928-7a45-4c1c-bf99-1eed1543c0e5",
        "showInput": false
      },
      "source": [
        "Let's take a look at what this produces:"
      ]
    },
    {
      "cell_type": "code",
      "metadata": {
        "originalKey": "94ffa211-23c0-4ffa-94bd-751ad70d87ef",
        "showInput": true,
        "customInput": null,
        "collapsed": false,
        "requestMsgId": "81ae7a44-7ac3-4397-878e-681ce87d5bfe",
        "customOutput": null,
        "executionStartTime": 1669112523495,
        "executionStopTime": 1669112523507
      },
      "source": [
        "sample"
      ],
      "execution_count": 8,
      "outputs": [
        {
          "output_type": "execute_result",
          "data": {
            "text/plain": "(balance.sample_class.Sample)\n\n        balance Sample object\n        1000 observations x 3 variables: gender,age_group,income\n        id_column: id, weight_column: weight,\n        outcome_columns: happiness\n        "
          },
          "metadata": {
            "bento_obj_id": "139827664567984"
          },
          "execution_count": 8
        }
      ]
    },
    {
      "cell_type": "code",
      "metadata": {
        "originalKey": "2106aa57-b6b1-4bbc-bb26-a3dbbc380219",
        "showInput": true,
        "customInput": null,
        "collapsed": false,
        "requestMsgId": "faab037c-b6ba-44c9-9333-835171e72d26",
        "customOutput": null,
        "executionStartTime": 1669112524045,
        "executionStopTime": 1669112524068
      },
      "source": [
        "target"
      ],
      "execution_count": 9,
      "outputs": [
        {
          "output_type": "execute_result",
          "data": {
            "text/plain": "(balance.sample_class.Sample)\n\n        balance Sample object\n        10000 observations x 3 variables: gender,age_group,income\n        id_column: id, weight_column: weight,\n        outcome_columns: None\n        "
          },
          "metadata": {
            "bento_obj_id": "139827664567408"
          },
          "execution_count": 9
        }
      ]
    },
    {
      "cell_type": "markdown",
      "metadata": {
        "originalKey": "9d10cb9c-34fa-4f24-bd70-d95d11a9a035",
        "showInput": false,
        "customInput": null
      },
      "source": [
        "Next, we combine the sample object with the target object. This is what will allow us to adjust the sample to the target."
      ]
    },
    {
      "cell_type": "code",
      "metadata": {
        "originalKey": "38083bd2-6bfb-49ac-9908-75e061e40fda",
        "showInput": true,
        "customInput": null,
        "collapsed": false,
        "requestMsgId": "7abd73a3-9a98-42ab-b6cf-fec2265f8af8",
        "customOutput": null,
        "executionStartTime": 1669112527050,
        "executionStopTime": 1669112527139
      },
      "source": [
        "sample_with_target = sample.set_target(target)"
      ],
      "execution_count": 10,
      "outputs": []
    },
    {
      "cell_type": "markdown",
      "metadata": {
        "originalKey": "92467c57-07cc-48dc-b07e-a6ca083d5ab8",
        "showInput": false,
        "customInput": null
      },
      "source": [
        "Looking on `sample_with_target` now, it has the target atteched:"
      ],
      "attachments": {}
    },
    {
      "cell_type": "code",
      "metadata": {
        "originalKey": "1b50b402-f17f-4819-89e2-d401b78d24a9",
        "showInput": true,
        "customInput": null,
        "collapsed": false,
        "requestMsgId": "10c0791e-b93d-447f-a92a-85af79e95ee2",
        "customOutput": null,
        "executionStartTime": 1669112528624,
        "executionStopTime": 1669112528724
      },
      "source": [
        "sample_with_target"
      ],
      "execution_count": 11,
      "outputs": [
        {
          "output_type": "execute_result",
          "data": {
            "text/plain": "(balance.sample_class.Sample)\n\n        balance Sample object with target set\n        1000 observations x 3 variables: gender,age_group,income\n        id_column: id, weight_column: weight,\n        outcome_columns: happiness\n        \n            target:\n                 \n\t        balance Sample object\n\t        10000 observations x 3 variables: gender,age_group,income\n\t        id_column: id, weight_column: weight,\n\t        outcome_columns: None\n\t        \n            3 common variables: age_group,gender,income\n            "
          },
          "metadata": {
            "bento_obj_id": "139827652932944"
          },
          "execution_count": 11
        }
      ]
    },
    {
      "cell_type": "markdown",
      "metadata": {
        "originalKey": "7c4b3b6f-56e9-423d-8f1b-87bb64355086",
        "showInput": false,
        "customInput": null
      },
      "source": [
        "# Pre-Adjustment Diagnostics"
      ]
    },
    {
      "cell_type": "markdown",
      "metadata": {
        "originalKey": "debd7a86-d3bc-4555-ab29-eb5380b90119",
        "showInput": false
      },
      "source": [
        "We can use `.covars()` and then followup with `.mean()` and `.plot()` (barplots and qqplots) to get some basic diagnostics on what we got.\n",
        "\n",
        "We can see how:\n",
        "- The proportion of missing values in gender is similar in sample and target.\n",
        "- We have younger people in the sample as compared to the target.\n",
        "- We have more females than males in the sample, as compared to around 50-50 split for the (non NA) target.\n",
        "- Income is more right skewed in the target as compared to the sample."
      ]
    },
    {
      "cell_type": "code",
      "metadata": {
        "originalKey": "86e9ebe2-b142-418b-af91-5080cfd551a5",
        "showInput": true,
        "customInput": null,
        "collapsed": false,
        "requestMsgId": "99d6da4a-06c1-490f-aa64-3e81971139ea",
        "customOutput": null,
        "executionStartTime": 1669112539769,
        "executionStopTime": 1669112540157
      },
      "source": [
        "print(sample_with_target.covars().mean().T)"
      ],
      "execution_count": 12,
      "outputs": [
        {
          "output_type": "stream",
          "name": "stdout",
          "text": [
            "source                    self     target\n_is_na_gender[T.True]  0.08800   0.089800\nage_group[T.25-34]     0.30900   0.297400\nage_group[T.35-44]     0.17200   0.299200\nage_group[T.45+]       0.04600   0.206300\ngender[Female]         0.26800   0.455100\ngender[Male]           0.64400   0.455100\ngender[_NA]            0.08800   0.089800\nincome                 5.99102  12.737608\n"
          ]
        }
      ]
    },
    {
      "cell_type": "code",
      "metadata": {
        "originalKey": "cb0866d4-c8a6-437f-bdcb-c5f4bf92b9c9",
        "showInput": true,
        "customInput": null,
        "collapsed": false,
        "requestMsgId": "f3d3aebc-ee11-434a-aa4a-0b1ea24aacb6",
        "executionStopTime": 1669112541467,
        "customOutput": null,
        "executionStartTime": 1669112541348
      },
      "source": [
        "print(sample_with_target.covars().asmd().T)"
      ],
      "execution_count": 13,
      "outputs": [
        {
          "output_type": "stream",
          "name": "stdout",
          "text": [
            "source                  self\nage_group[T.25-34]  0.025375\nage_group[T.35-44]  0.277771\nage_group[T.45+]    0.396127\ngender[Female]      0.375699\ngender[Male]        0.379314\ngender[_NA]         0.006296\nincome              0.517721\nmean(asmd)          0.334860\n"
          ]
        }
      ]
    },
    {
      "cell_type": "code",
      "metadata": {
        "originalKey": "00b0e7d9-3c29-4085-aaa2-231e91e5d631",
        "showInput": true,
        "customInput": null,
        "collapsed": false,
        "requestMsgId": "9f072540-26ee-4b99-b02e-9f1746ed5836",
        "customOutput": null,
        "executionStartTime": 1669112543770,
        "executionStopTime": 1669112543895
      },
      "source": [
        "print(sample_with_target.covars().asmd(aggregate_by_main_covar = True).T)"
      ],
      "execution_count": 14,
      "outputs": [
        {
          "output_type": "stream",
          "name": "stdout",
          "text": [
            "source          self\nage_group   0.233091\ngender      0.253769\nincome      0.517721\nmean(asmd)  0.334860\n"
          ]
        }
      ]
    },
    {
      "cell_type": "code",
      "metadata": {
        "trusted": true,
        "originalKey": "cc71898b-aa85-41c6-a52a-bad91532baf1",
        "collapsed": false,
        "requestMsgId": "5d53d773-c3ff-460d-870c-93d1f3e224f7",
        "customOutput": null,
        "executionStartTime": 1669112548368,
        "executionStopTime": 1669112549257
      },
      "source": [
        "sample_with_target.covars().plot()"
      ],
      "execution_count": 15,
      "outputs": [
        {
          "output_type": "display_data",
          "data": {
            "application/vnd.plotly.v1+json": {
              "data": [
                {
                  "marker": {
                    "color": "rgba(222,45,38,0.8)",
                    "line": {
                      "color": "rgba(222,45,38,1)",
                      "width": 1.5
                    }
                  },
                  "name": "sample",
                  "opacity": 0.6,
                  "visible": true,
                  "x": [
                    "18-24",
                    "25-34",
                    "35-44",
                    "45+"
                  ],
                  "y": [
                    0.473,
                    0.309,
                    0.172,
                    0.046
                  ],
                  "type": "bar"
                },
                {
                  "marker": {
                    "color": "rgb(158,202,225,.8)",
                    "line": {
                      "color": "rgb(158,202,225,1)",
                      "width": 1.5
                    }
                  },
                  "name": "population",
                  "opacity": 0.6,
                  "visible": true,
                  "x": [
                    "18-24",
                    "25-34",
                    "35-44",
                    "45+"
                  ],
                  "y": [
                    0.1971,
                    0.2974,
                    0.2992,
                    0.2063
                  ],
                  "type": "bar"
                }
              ],
              "layout": {
                "paper_bgcolor": "rgb(255, 255, 255)",
                "plot_bgcolor": "rgb(255, 255, 255)",
                "template": {
                  "data": {
                    "barpolar": [
                      {
                        "marker": {
                          "line": {
                            "color": "#E5ECF6",
                            "width": 0.5
                          },
                          "pattern": {
                            "fillmode": "overlay",
                            "size": 10,
                            "solidity": 0.2
                          }
                        },
                        "type": "barpolar"
                      }
                    ],
                    "bar": [
                      {
                        "error_x": {
                          "color": "#2a3f5f"
                        },
                        "error_y": {
                          "color": "#2a3f5f"
                        },
                        "marker": {
                          "line": {
                            "color": "#E5ECF6",
                            "width": 0.5
                          },
                          "pattern": {
                            "fillmode": "overlay",
                            "size": 10,
                            "solidity": 0.2
                          }
                        },
                        "type": "bar"
                      }
                    ],
                    "carpet": [
                      {
                        "aaxis": {
                          "endlinecolor": "#2a3f5f",
                          "gridcolor": "white",
                          "linecolor": "white",
                          "minorgridcolor": "white",
                          "startlinecolor": "#2a3f5f"
                        },
                        "baxis": {
                          "endlinecolor": "#2a3f5f",
                          "gridcolor": "white",
                          "linecolor": "white",
                          "minorgridcolor": "white",
                          "startlinecolor": "#2a3f5f"
                        },
                        "type": "carpet"
                      }
                    ],
                    "choropleth": [
                      {
                        "colorbar": {
                          "outlinewidth": 0,
                          "ticks": ""
                        },
                        "type": "choropleth"
                      }
                    ],
                    "contourcarpet": [
                      {
                        "colorbar": {
                          "outlinewidth": 0,
                          "ticks": ""
                        },
                        "type": "contourcarpet"
                      }
                    ],
                    "contour": [
                      {
                        "colorbar": {
                          "outlinewidth": 0,
                          "ticks": ""
                        },
                        "colorscale": [
                          [
                            0,
                            "#0d0887"
                          ],
                          [
                            0.1111111111111111,
                            "#46039f"
                          ],
                          [
                            0.2222222222222222,
                            "#7201a8"
                          ],
                          [
                            0.3333333333333333,
                            "#9c179e"
                          ],
                          [
                            0.4444444444444444,
                            "#bd3786"
                          ],
                          [
                            0.5555555555555556,
                            "#d8576b"
                          ],
                          [
                            0.6666666666666666,
                            "#ed7953"
                          ],
                          [
                            0.7777777777777778,
                            "#fb9f3a"
                          ],
                          [
                            0.8888888888888888,
                            "#fdca26"
                          ],
                          [
                            1,
                            "#f0f921"
                          ]
                        ],
                        "type": "contour"
                      }
                    ],
                    "heatmapgl": [
                      {
                        "colorbar": {
                          "outlinewidth": 0,
                          "ticks": ""
                        },
                        "colorscale": [
                          [
                            0,
                            "#0d0887"
                          ],
                          [
                            0.1111111111111111,
                            "#46039f"
                          ],
                          [
                            0.2222222222222222,
                            "#7201a8"
                          ],
                          [
                            0.3333333333333333,
                            "#9c179e"
                          ],
                          [
                            0.4444444444444444,
                            "#bd3786"
                          ],
                          [
                            0.5555555555555556,
                            "#d8576b"
                          ],
                          [
                            0.6666666666666666,
                            "#ed7953"
                          ],
                          [
                            0.7777777777777778,
                            "#fb9f3a"
                          ],
                          [
                            0.8888888888888888,
                            "#fdca26"
                          ],
                          [
                            1,
                            "#f0f921"
                          ]
                        ],
                        "type": "heatmapgl"
                      }
                    ],
                    "heatmap": [
                      {
                        "colorbar": {
                          "outlinewidth": 0,
                          "ticks": ""
                        },
                        "colorscale": [
                          [
                            0,
                            "#0d0887"
                          ],
                          [
                            0.1111111111111111,
                            "#46039f"
                          ],
                          [
                            0.2222222222222222,
                            "#7201a8"
                          ],
                          [
                            0.3333333333333333,
                            "#9c179e"
                          ],
                          [
                            0.4444444444444444,
                            "#bd3786"
                          ],
                          [
                            0.5555555555555556,
                            "#d8576b"
                          ],
                          [
                            0.6666666666666666,
                            "#ed7953"
                          ],
                          [
                            0.7777777777777778,
                            "#fb9f3a"
                          ],
                          [
                            0.8888888888888888,
                            "#fdca26"
                          ],
                          [
                            1,
                            "#f0f921"
                          ]
                        ],
                        "type": "heatmap"
                      }
                    ],
                    "histogram2dcontour": [
                      {
                        "colorbar": {
                          "outlinewidth": 0,
                          "ticks": ""
                        },
                        "colorscale": [
                          [
                            0,
                            "#0d0887"
                          ],
                          [
                            0.1111111111111111,
                            "#46039f"
                          ],
                          [
                            0.2222222222222222,
                            "#7201a8"
                          ],
                          [
                            0.3333333333333333,
                            "#9c179e"
                          ],
                          [
                            0.4444444444444444,
                            "#bd3786"
                          ],
                          [
                            0.5555555555555556,
                            "#d8576b"
                          ],
                          [
                            0.6666666666666666,
                            "#ed7953"
                          ],
                          [
                            0.7777777777777778,
                            "#fb9f3a"
                          ],
                          [
                            0.8888888888888888,
                            "#fdca26"
                          ],
                          [
                            1,
                            "#f0f921"
                          ]
                        ],
                        "type": "histogram2dcontour"
                      }
                    ],
                    "histogram2d": [
                      {
                        "colorbar": {
                          "outlinewidth": 0,
                          "ticks": ""
                        },
                        "colorscale": [
                          [
                            0,
                            "#0d0887"
                          ],
                          [
                            0.1111111111111111,
                            "#46039f"
                          ],
                          [
                            0.2222222222222222,
                            "#7201a8"
                          ],
                          [
                            0.3333333333333333,
                            "#9c179e"
                          ],
                          [
                            0.4444444444444444,
                            "#bd3786"
                          ],
                          [
                            0.5555555555555556,
                            "#d8576b"
                          ],
                          [
                            0.6666666666666666,
                            "#ed7953"
                          ],
                          [
                            0.7777777777777778,
                            "#fb9f3a"
                          ],
                          [
                            0.8888888888888888,
                            "#fdca26"
                          ],
                          [
                            1,
                            "#f0f921"
                          ]
                        ],
                        "type": "histogram2d"
                      }
                    ],
                    "histogram": [
                      {
                        "marker": {
                          "pattern": {
                            "fillmode": "overlay",
                            "size": 10,
                            "solidity": 0.2
                          }
                        },
                        "type": "histogram"
                      }
                    ],
                    "mesh3d": [
                      {
                        "colorbar": {
                          "outlinewidth": 0,
                          "ticks": ""
                        },
                        "type": "mesh3d"
                      }
                    ],
                    "parcoords": [
                      {
                        "line": {
                          "colorbar": {
                            "outlinewidth": 0,
                            "ticks": ""
                          }
                        },
                        "type": "parcoords"
                      }
                    ],
                    "pie": [
                      {
                        "automargin": true,
                        "type": "pie"
                      }
                    ],
                    "scatter3d": [
                      {
                        "line": {
                          "colorbar": {
                            "outlinewidth": 0,
                            "ticks": ""
                          }
                        },
                        "marker": {
                          "colorbar": {
                            "outlinewidth": 0,
                            "ticks": ""
                          }
                        },
                        "type": "scatter3d"
                      }
                    ],
                    "scattercarpet": [
                      {
                        "marker": {
                          "colorbar": {
                            "outlinewidth": 0,
                            "ticks": ""
                          }
                        },
                        "type": "scattercarpet"
                      }
                    ],
                    "scattergeo": [
                      {
                        "marker": {
                          "colorbar": {
                            "outlinewidth": 0,
                            "ticks": ""
                          }
                        },
                        "type": "scattergeo"
                      }
                    ],
                    "scattergl": [
                      {
                        "marker": {
                          "colorbar": {
                            "outlinewidth": 0,
                            "ticks": ""
                          }
                        },
                        "type": "scattergl"
                      }
                    ],
                    "scattermapbox": [
                      {
                        "marker": {
                          "colorbar": {
                            "outlinewidth": 0,
                            "ticks": ""
                          }
                        },
                        "type": "scattermapbox"
                      }
                    ],
                    "scatterpolargl": [
                      {
                        "marker": {
                          "colorbar": {
                            "outlinewidth": 0,
                            "ticks": ""
                          }
                        },
                        "type": "scatterpolargl"
                      }
                    ],
                    "scatterpolar": [
                      {
                        "marker": {
                          "colorbar": {
                            "outlinewidth": 0,
                            "ticks": ""
                          }
                        },
                        "type": "scatterpolar"
                      }
                    ],
                    "scatter": [
                      {
                        "marker": {
                          "colorbar": {
                            "outlinewidth": 0,
                            "ticks": ""
                          }
                        },
                        "type": "scatter"
                      }
                    ],
                    "scatterternary": [
                      {
                        "marker": {
                          "colorbar": {
                            "outlinewidth": 0,
                            "ticks": ""
                          }
                        },
                        "type": "scatterternary"
                      }
                    ],
                    "surface": [
                      {
                        "colorbar": {
                          "outlinewidth": 0,
                          "ticks": ""
                        },
                        "colorscale": [
                          [
                            0,
                            "#0d0887"
                          ],
                          [
                            0.1111111111111111,
                            "#46039f"
                          ],
                          [
                            0.2222222222222222,
                            "#7201a8"
                          ],
                          [
                            0.3333333333333333,
                            "#9c179e"
                          ],
                          [
                            0.4444444444444444,
                            "#bd3786"
                          ],
                          [
                            0.5555555555555556,
                            "#d8576b"
                          ],
                          [
                            0.6666666666666666,
                            "#ed7953"
                          ],
                          [
                            0.7777777777777778,
                            "#fb9f3a"
                          ],
                          [
                            0.8888888888888888,
                            "#fdca26"
                          ],
                          [
                            1,
                            "#f0f921"
                          ]
                        ],
                        "type": "surface"
                      }
                    ],
                    "table": [
                      {
                        "cells": {
                          "fill": {
                            "color": "#EBF0F8"
                          },
                          "line": {
                            "color": "white"
                          }
                        },
                        "header": {
                          "fill": {
                            "color": "#C8D4E3"
                          },
                          "line": {
                            "color": "white"
                          }
                        },
                        "type": "table"
                      }
                    ]
                  },
                  "layout": {
                    "annotationdefaults": {
                      "arrowcolor": "#2a3f5f",
                      "arrowhead": 0,
                      "arrowwidth": 1
                    },
                    "autotypenumbers": "strict",
                    "coloraxis": {
                      "colorbar": {
                        "outlinewidth": 0,
                        "ticks": ""
                      }
                    },
                    "colorscale": {
                      "diverging": [
                        [
                          0,
                          "#8e0152"
                        ],
                        [
                          0.1,
                          "#c51b7d"
                        ],
                        [
                          0.2,
                          "#de77ae"
                        ],
                        [
                          0.3,
                          "#f1b6da"
                        ],
                        [
                          0.4,
                          "#fde0ef"
                        ],
                        [
                          0.5,
                          "#f7f7f7"
                        ],
                        [
                          0.6,
                          "#e6f5d0"
                        ],
                        [
                          0.7,
                          "#b8e186"
                        ],
                        [
                          0.8,
                          "#7fbc41"
                        ],
                        [
                          0.9,
                          "#4d9221"
                        ],
                        [
                          1,
                          "#276419"
                        ]
                      ],
                      "sequential": [
                        [
                          0,
                          "#0d0887"
                        ],
                        [
                          0.1111111111111111,
                          "#46039f"
                        ],
                        [
                          0.2222222222222222,
                          "#7201a8"
                        ],
                        [
                          0.3333333333333333,
                          "#9c179e"
                        ],
                        [
                          0.4444444444444444,
                          "#bd3786"
                        ],
                        [
                          0.5555555555555556,
                          "#d8576b"
                        ],
                        [
                          0.6666666666666666,
                          "#ed7953"
                        ],
                        [
                          0.7777777777777778,
                          "#fb9f3a"
                        ],
                        [
                          0.8888888888888888,
                          "#fdca26"
                        ],
                        [
                          1,
                          "#f0f921"
                        ]
                      ],
                      "sequentialminus": [
                        [
                          0,
                          "#0d0887"
                        ],
                        [
                          0.1111111111111111,
                          "#46039f"
                        ],
                        [
                          0.2222222222222222,
                          "#7201a8"
                        ],
                        [
                          0.3333333333333333,
                          "#9c179e"
                        ],
                        [
                          0.4444444444444444,
                          "#bd3786"
                        ],
                        [
                          0.5555555555555556,
                          "#d8576b"
                        ],
                        [
                          0.6666666666666666,
                          "#ed7953"
                        ],
                        [
                          0.7777777777777778,
                          "#fb9f3a"
                        ],
                        [
                          0.8888888888888888,
                          "#fdca26"
                        ],
                        [
                          1,
                          "#f0f921"
                        ]
                      ]
                    },
                    "colorway": [
                      "#636efa",
                      "#EF553B",
                      "#00cc96",
                      "#ab63fa",
                      "#FFA15A",
                      "#19d3f3",
                      "#FF6692",
                      "#B6E880",
                      "#FF97FF",
                      "#FECB52"
                    ],
                    "font": {
                      "color": "#2a3f5f"
                    },
                    "geo": {
                      "bgcolor": "white",
                      "lakecolor": "white",
                      "landcolor": "#E5ECF6",
                      "showlakes": true,
                      "showland": true,
                      "subunitcolor": "white"
                    },
                    "hoverlabel": {
                      "align": "left"
                    },
                    "hovermode": "closest",
                    "mapbox": {
                      "style": "light"
                    },
                    "paper_bgcolor": "white",
                    "plot_bgcolor": "#E5ECF6",
                    "polar": {
                      "angularaxis": {
                        "gridcolor": "white",
                        "linecolor": "white",
                        "ticks": ""
                      },
                      "bgcolor": "#E5ECF6",
                      "radialaxis": {
                        "gridcolor": "white",
                        "linecolor": "white",
                        "ticks": ""
                      }
                    },
                    "scene": {
                      "xaxis": {
                        "backgroundcolor": "#E5ECF6",
                        "gridcolor": "white",
                        "gridwidth": 2,
                        "linecolor": "white",
                        "showbackground": true,
                        "ticks": "",
                        "zerolinecolor": "white"
                      },
                      "yaxis": {
                        "backgroundcolor": "#E5ECF6",
                        "gridcolor": "white",
                        "gridwidth": 2,
                        "linecolor": "white",
                        "showbackground": true,
                        "ticks": "",
                        "zerolinecolor": "white"
                      },
                      "zaxis": {
                        "backgroundcolor": "#E5ECF6",
                        "gridcolor": "white",
                        "gridwidth": 2,
                        "linecolor": "white",
                        "showbackground": true,
                        "ticks": "",
                        "zerolinecolor": "white"
                      }
                    },
                    "shapedefaults": {
                      "line": {
                        "color": "#2a3f5f"
                      }
                    },
                    "ternary": {
                      "aaxis": {
                        "gridcolor": "white",
                        "linecolor": "white",
                        "ticks": ""
                      },
                      "baxis": {
                        "gridcolor": "white",
                        "linecolor": "white",
                        "ticks": ""
                      },
                      "bgcolor": "#E5ECF6",
                      "caxis": {
                        "gridcolor": "white",
                        "linecolor": "white",
                        "ticks": ""
                      }
                    },
                    "title": {
                      "x": 0.05
                    },
                    "xaxis": {
                      "automargin": true,
                      "gridcolor": "white",
                      "linecolor": "white",
                      "ticks": "",
                      "title": {
                        "standoff": 15
                      },
                      "zerolinecolor": "white",
                      "zerolinewidth": 2
                    },
                    "yaxis": {
                      "automargin": true,
                      "gridcolor": "white",
                      "linecolor": "white",
                      "ticks": "",
                      "title": {
                        "standoff": 15
                      },
                      "zerolinecolor": "white",
                      "zerolinewidth": 2
                    }
                  }
                },
                "title": {
                  "text": "Sample Vs Target age_group"
                },
                "xaxis": {
                  "title": {
                    "text": "age_group"
                  },
                  "type": "category",
                  "range": [
                    -0.5,
                    3.5
                  ],
                  "autorange": true
                },
                "yaxis": {
                  "title": {
                    "text": "Proportion of Total"
                  },
                  "type": "linear",
                  "range": [
                    0,
                    0.4978947368421052
                  ],
                  "autorange": true
                }
              },
              "config": {
                "showLink": false,
                "linkText": "Export to plot.ly",
                "plotlyServerURL": "https://plot.ly"
              }
            },
            "text/html": "<div>                            <div id=\"2063b689-d0b9-4f2c-9ec5-72742522a3f8\" class=\"plotly-graph-div\" style=\"height:525px; width:100%;\"></div>            <script type=\"text/javascript\">                require([\"plotly\"], function(Plotly) {                    window.PLOTLYENV=window.PLOTLYENV || {};                                    if (document.getElementById(\"2063b689-d0b9-4f2c-9ec5-72742522a3f8\")) {                    Plotly.newPlot(                        \"2063b689-d0b9-4f2c-9ec5-72742522a3f8\",                        [{\"marker\":{\"color\":\"rgba(222,45,38,0.8)\",\"line\":{\"color\":\"rgba(222,45,38,1)\",\"width\":1.5}},\"name\":\"sample\",\"opacity\":0.6,\"visible\":true,\"x\":[\"18-24\",\"25-34\",\"35-44\",\"45+\"],\"y\":[0.473,0.309,0.172,0.046],\"type\":\"bar\"},{\"marker\":{\"color\":\"rgb(158,202,225,.8)\",\"line\":{\"color\":\"rgb(158,202,225,1)\",\"width\":1.5}},\"name\":\"population\",\"opacity\":0.6,\"visible\":true,\"x\":[\"18-24\",\"25-34\",\"35-44\",\"45+\"],\"y\":[0.1971,0.2974,0.2992,0.2063],\"type\":\"bar\"}],                        {\"paper_bgcolor\":\"rgb(255, 255, 255)\",\"plot_bgcolor\":\"rgb(255, 255, 255)\",\"template\":{\"data\":{\"barpolar\":[{\"marker\":{\"line\":{\"color\":\"#E5ECF6\",\"width\":0.5},\"pattern\":{\"fillmode\":\"overlay\",\"size\":10,\"solidity\":0.2}},\"type\":\"barpolar\"}],\"bar\":[{\"error_x\":{\"color\":\"#2a3f5f\"},\"error_y\":{\"color\":\"#2a3f5f\"},\"marker\":{\"line\":{\"color\":\"#E5ECF6\",\"width\":0.5},\"pattern\":{\"fillmode\":\"overlay\",\"size\":10,\"solidity\":0.2}},\"type\":\"bar\"}],\"carpet\":[{\"aaxis\":{\"endlinecolor\":\"#2a3f5f\",\"gridcolor\":\"white\",\"linecolor\":\"white\",\"minorgridcolor\":\"white\",\"startlinecolor\":\"#2a3f5f\"},\"baxis\":{\"endlinecolor\":\"#2a3f5f\",\"gridcolor\":\"white\",\"linecolor\":\"white\",\"minorgridcolor\":\"white\",\"startlinecolor\":\"#2a3f5f\"},\"type\":\"carpet\"}],\"choropleth\":[{\"colorbar\":{\"outlinewidth\":0,\"ticks\":\"\"},\"type\":\"choropleth\"}],\"contourcarpet\":[{\"colorbar\":{\"outlinewidth\":0,\"ticks\":\"\"},\"type\":\"contourcarpet\"}],\"contour\":[{\"colorbar\":{\"outlinewidth\":0,\"ticks\":\"\"},\"colorscale\":[[0.0,\"#0d0887\"],[0.1111111111111111,\"#46039f\"],[0.2222222222222222,\"#7201a8\"],[0.3333333333333333,\"#9c179e\"],[0.4444444444444444,\"#bd3786\"],[0.5555555555555556,\"#d8576b\"],[0.6666666666666666,\"#ed7953\"],[0.7777777777777778,\"#fb9f3a\"],[0.8888888888888888,\"#fdca26\"],[1.0,\"#f0f921\"]],\"type\":\"contour\"}],\"heatmapgl\":[{\"colorbar\":{\"outlinewidth\":0,\"ticks\":\"\"},\"colorscale\":[[0.0,\"#0d0887\"],[0.1111111111111111,\"#46039f\"],[0.2222222222222222,\"#7201a8\"],[0.3333333333333333,\"#9c179e\"],[0.4444444444444444,\"#bd3786\"],[0.5555555555555556,\"#d8576b\"],[0.6666666666666666,\"#ed7953\"],[0.7777777777777778,\"#fb9f3a\"],[0.8888888888888888,\"#fdca26\"],[1.0,\"#f0f921\"]],\"type\":\"heatmapgl\"}],\"heatmap\":[{\"colorbar\":{\"outlinewidth\":0,\"ticks\":\"\"},\"colorscale\":[[0.0,\"#0d0887\"],[0.1111111111111111,\"#46039f\"],[0.2222222222222222,\"#7201a8\"],[0.3333333333333333,\"#9c179e\"],[0.4444444444444444,\"#bd3786\"],[0.5555555555555556,\"#d8576b\"],[0.6666666666666666,\"#ed7953\"],[0.7777777777777778,\"#fb9f3a\"],[0.8888888888888888,\"#fdca26\"],[1.0,\"#f0f921\"]],\"type\":\"heatmap\"}],\"histogram2dcontour\":[{\"colorbar\":{\"outlinewidth\":0,\"ticks\":\"\"},\"colorscale\":[[0.0,\"#0d0887\"],[0.1111111111111111,\"#46039f\"],[0.2222222222222222,\"#7201a8\"],[0.3333333333333333,\"#9c179e\"],[0.4444444444444444,\"#bd3786\"],[0.5555555555555556,\"#d8576b\"],[0.6666666666666666,\"#ed7953\"],[0.7777777777777778,\"#fb9f3a\"],[0.8888888888888888,\"#fdca26\"],[1.0,\"#f0f921\"]],\"type\":\"histogram2dcontour\"}],\"histogram2d\":[{\"colorbar\":{\"outlinewidth\":0,\"ticks\":\"\"},\"colorscale\":[[0.0,\"#0d0887\"],[0.1111111111111111,\"#46039f\"],[0.2222222222222222,\"#7201a8\"],[0.3333333333333333,\"#9c179e\"],[0.4444444444444444,\"#bd3786\"],[0.5555555555555556,\"#d8576b\"],[0.6666666666666666,\"#ed7953\"],[0.7777777777777778,\"#fb9f3a\"],[0.8888888888888888,\"#fdca26\"],[1.0,\"#f0f921\"]],\"type\":\"histogram2d\"}],\"histogram\":[{\"marker\":{\"pattern\":{\"fillmode\":\"overlay\",\"size\":10,\"solidity\":0.2}},\"type\":\"histogram\"}],\"mesh3d\":[{\"colorbar\":{\"outlinewidth\":0,\"ticks\":\"\"},\"type\":\"mesh3d\"}],\"parcoords\":[{\"line\":{\"colorbar\":{\"outlinewidth\":0,\"ticks\":\"\"}},\"type\":\"parcoords\"}],\"pie\":[{\"automargin\":true,\"type\":\"pie\"}],\"scatter3d\":[{\"line\":{\"colorbar\":{\"outlinewidth\":0,\"ticks\":\"\"}},\"marker\":{\"colorbar\":{\"outlinewidth\":0,\"ticks\":\"\"}},\"type\":\"scatter3d\"}],\"scattercarpet\":[{\"marker\":{\"colorbar\":{\"outlinewidth\":0,\"ticks\":\"\"}},\"type\":\"scattercarpet\"}],\"scattergeo\":[{\"marker\":{\"colorbar\":{\"outlinewidth\":0,\"ticks\":\"\"}},\"type\":\"scattergeo\"}],\"scattergl\":[{\"marker\":{\"colorbar\":{\"outlinewidth\":0,\"ticks\":\"\"}},\"type\":\"scattergl\"}],\"scattermapbox\":[{\"marker\":{\"colorbar\":{\"outlinewidth\":0,\"ticks\":\"\"}},\"type\":\"scattermapbox\"}],\"scatterpolargl\":[{\"marker\":{\"colorbar\":{\"outlinewidth\":0,\"ticks\":\"\"}},\"type\":\"scatterpolargl\"}],\"scatterpolar\":[{\"marker\":{\"colorbar\":{\"outlinewidth\":0,\"ticks\":\"\"}},\"type\":\"scatterpolar\"}],\"scatter\":[{\"marker\":{\"colorbar\":{\"outlinewidth\":0,\"ticks\":\"\"}},\"type\":\"scatter\"}],\"scatterternary\":[{\"marker\":{\"colorbar\":{\"outlinewidth\":0,\"ticks\":\"\"}},\"type\":\"scatterternary\"}],\"surface\":[{\"colorbar\":{\"outlinewidth\":0,\"ticks\":\"\"},\"colorscale\":[[0.0,\"#0d0887\"],[0.1111111111111111,\"#46039f\"],[0.2222222222222222,\"#7201a8\"],[0.3333333333333333,\"#9c179e\"],[0.4444444444444444,\"#bd3786\"],[0.5555555555555556,\"#d8576b\"],[0.6666666666666666,\"#ed7953\"],[0.7777777777777778,\"#fb9f3a\"],[0.8888888888888888,\"#fdca26\"],[1.0,\"#f0f921\"]],\"type\":\"surface\"}],\"table\":[{\"cells\":{\"fill\":{\"color\":\"#EBF0F8\"},\"line\":{\"color\":\"white\"}},\"header\":{\"fill\":{\"color\":\"#C8D4E3\"},\"line\":{\"color\":\"white\"}},\"type\":\"table\"}]},\"layout\":{\"annotationdefaults\":{\"arrowcolor\":\"#2a3f5f\",\"arrowhead\":0,\"arrowwidth\":1},\"autotypenumbers\":\"strict\",\"coloraxis\":{\"colorbar\":{\"outlinewidth\":0,\"ticks\":\"\"}},\"colorscale\":{\"diverging\":[[0,\"#8e0152\"],[0.1,\"#c51b7d\"],[0.2,\"#de77ae\"],[0.3,\"#f1b6da\"],[0.4,\"#fde0ef\"],[0.5,\"#f7f7f7\"],[0.6,\"#e6f5d0\"],[0.7,\"#b8e186\"],[0.8,\"#7fbc41\"],[0.9,\"#4d9221\"],[1,\"#276419\"]],\"sequential\":[[0.0,\"#0d0887\"],[0.1111111111111111,\"#46039f\"],[0.2222222222222222,\"#7201a8\"],[0.3333333333333333,\"#9c179e\"],[0.4444444444444444,\"#bd3786\"],[0.5555555555555556,\"#d8576b\"],[0.6666666666666666,\"#ed7953\"],[0.7777777777777778,\"#fb9f3a\"],[0.8888888888888888,\"#fdca26\"],[1.0,\"#f0f921\"]],\"sequentialminus\":[[0.0,\"#0d0887\"],[0.1111111111111111,\"#46039f\"],[0.2222222222222222,\"#7201a8\"],[0.3333333333333333,\"#9c179e\"],[0.4444444444444444,\"#bd3786\"],[0.5555555555555556,\"#d8576b\"],[0.6666666666666666,\"#ed7953\"],[0.7777777777777778,\"#fb9f3a\"],[0.8888888888888888,\"#fdca26\"],[1.0,\"#f0f921\"]]},\"colorway\":[\"#636efa\",\"#EF553B\",\"#00cc96\",\"#ab63fa\",\"#FFA15A\",\"#19d3f3\",\"#FF6692\",\"#B6E880\",\"#FF97FF\",\"#FECB52\"],\"font\":{\"color\":\"#2a3f5f\"},\"geo\":{\"bgcolor\":\"white\",\"lakecolor\":\"white\",\"landcolor\":\"#E5ECF6\",\"showlakes\":true,\"showland\":true,\"subunitcolor\":\"white\"},\"hoverlabel\":{\"align\":\"left\"},\"hovermode\":\"closest\",\"mapbox\":{\"style\":\"light\"},\"paper_bgcolor\":\"white\",\"plot_bgcolor\":\"#E5ECF6\",\"polar\":{\"angularaxis\":{\"gridcolor\":\"white\",\"linecolor\":\"white\",\"ticks\":\"\"},\"bgcolor\":\"#E5ECF6\",\"radialaxis\":{\"gridcolor\":\"white\",\"linecolor\":\"white\",\"ticks\":\"\"}},\"scene\":{\"xaxis\":{\"backgroundcolor\":\"#E5ECF6\",\"gridcolor\":\"white\",\"gridwidth\":2,\"linecolor\":\"white\",\"showbackground\":true,\"ticks\":\"\",\"zerolinecolor\":\"white\"},\"yaxis\":{\"backgroundcolor\":\"#E5ECF6\",\"gridcolor\":\"white\",\"gridwidth\":2,\"linecolor\":\"white\",\"showbackground\":true,\"ticks\":\"\",\"zerolinecolor\":\"white\"},\"zaxis\":{\"backgroundcolor\":\"#E5ECF6\",\"gridcolor\":\"white\",\"gridwidth\":2,\"linecolor\":\"white\",\"showbackground\":true,\"ticks\":\"\",\"zerolinecolor\":\"white\"}},\"shapedefaults\":{\"line\":{\"color\":\"#2a3f5f\"}},\"ternary\":{\"aaxis\":{\"gridcolor\":\"white\",\"linecolor\":\"white\",\"ticks\":\"\"},\"baxis\":{\"gridcolor\":\"white\",\"linecolor\":\"white\",\"ticks\":\"\"},\"bgcolor\":\"#E5ECF6\",\"caxis\":{\"gridcolor\":\"white\",\"linecolor\":\"white\",\"ticks\":\"\"}},\"title\":{\"x\":0.05},\"xaxis\":{\"automargin\":true,\"gridcolor\":\"white\",\"linecolor\":\"white\",\"ticks\":\"\",\"title\":{\"standoff\":15},\"zerolinecolor\":\"white\",\"zerolinewidth\":2},\"yaxis\":{\"automargin\":true,\"gridcolor\":\"white\",\"linecolor\":\"white\",\"ticks\":\"\",\"title\":{\"standoff\":15},\"zerolinecolor\":\"white\",\"zerolinewidth\":2}}},\"title\":{\"text\":\"Sample Vs Target age_group\"},\"xaxis\":{\"title\":{\"text\":\"age_group\"}},\"yaxis\":{\"title\":{\"text\":\"Proportion of Total\"}}},                        {\"responsive\": true}                    ).then(function(){\n                            \nvar gd = document.getElementById('2063b689-d0b9-4f2c-9ec5-72742522a3f8');\nvar x = new MutationObserver(function (mutations, observer) {{\n        var display = window.getComputedStyle(gd).display;\n        if (!display || display === 'none') {{\n            console.log([gd, 'removed!']);\n            Plotly.purge(gd);\n            observer.disconnect();\n        }}\n}});\n\n// Listen for the removal of the full notebook cells\nvar notebookContainer = gd.closest('#notebook-container');\nif (notebookContainer) {{\n    x.observe(notebookContainer, {childList: true});\n}}\n\n// Listen for the clearing of the current output cell\nvar outputEl = gd.closest('.output');\nif (outputEl) {{\n    x.observe(outputEl, {childList: true});\n}}\n\n                        })                };                });            </script>        </div>"
          },
          "metadata": {}
        },
        {
          "output_type": "display_data",
          "data": {
            "application/vnd.plotly.v1+json": {
              "data": [
                {
                  "marker": {
                    "color": "rgba(222,45,38,0.8)",
                    "line": {
                      "color": "rgba(222,45,38,1)",
                      "width": 1.5
                    }
                  },
                  "name": "sample",
                  "opacity": 0.6,
                  "visible": true,
                  "x": [
                    "Female",
                    "Male"
                  ],
                  "y": [
                    0.29385964912280704,
                    0.706140350877193
                  ],
                  "type": "bar"
                },
                {
                  "marker": {
                    "color": "rgb(158,202,225,.8)",
                    "line": {
                      "color": "rgb(158,202,225,1)",
                      "width": 1.5
                    }
                  },
                  "name": "population",
                  "opacity": 0.6,
                  "visible": true,
                  "x": [
                    "Female",
                    "Male"
                  ],
                  "y": [
                    0.5,
                    0.5
                  ],
                  "type": "bar"
                }
              ],
              "layout": {
                "paper_bgcolor": "rgb(255, 255, 255)",
                "plot_bgcolor": "rgb(255, 255, 255)",
                "template": {
                  "data": {
                    "barpolar": [
                      {
                        "marker": {
                          "line": {
                            "color": "#E5ECF6",
                            "width": 0.5
                          },
                          "pattern": {
                            "fillmode": "overlay",
                            "size": 10,
                            "solidity": 0.2
                          }
                        },
                        "type": "barpolar"
                      }
                    ],
                    "bar": [
                      {
                        "error_x": {
                          "color": "#2a3f5f"
                        },
                        "error_y": {
                          "color": "#2a3f5f"
                        },
                        "marker": {
                          "line": {
                            "color": "#E5ECF6",
                            "width": 0.5
                          },
                          "pattern": {
                            "fillmode": "overlay",
                            "size": 10,
                            "solidity": 0.2
                          }
                        },
                        "type": "bar"
                      }
                    ],
                    "carpet": [
                      {
                        "aaxis": {
                          "endlinecolor": "#2a3f5f",
                          "gridcolor": "white",
                          "linecolor": "white",
                          "minorgridcolor": "white",
                          "startlinecolor": "#2a3f5f"
                        },
                        "baxis": {
                          "endlinecolor": "#2a3f5f",
                          "gridcolor": "white",
                          "linecolor": "white",
                          "minorgridcolor": "white",
                          "startlinecolor": "#2a3f5f"
                        },
                        "type": "carpet"
                      }
                    ],
                    "choropleth": [
                      {
                        "colorbar": {
                          "outlinewidth": 0,
                          "ticks": ""
                        },
                        "type": "choropleth"
                      }
                    ],
                    "contourcarpet": [
                      {
                        "colorbar": {
                          "outlinewidth": 0,
                          "ticks": ""
                        },
                        "type": "contourcarpet"
                      }
                    ],
                    "contour": [
                      {
                        "colorbar": {
                          "outlinewidth": 0,
                          "ticks": ""
                        },
                        "colorscale": [
                          [
                            0,
                            "#0d0887"
                          ],
                          [
                            0.1111111111111111,
                            "#46039f"
                          ],
                          [
                            0.2222222222222222,
                            "#7201a8"
                          ],
                          [
                            0.3333333333333333,
                            "#9c179e"
                          ],
                          [
                            0.4444444444444444,
                            "#bd3786"
                          ],
                          [
                            0.5555555555555556,
                            "#d8576b"
                          ],
                          [
                            0.6666666666666666,
                            "#ed7953"
                          ],
                          [
                            0.7777777777777778,
                            "#fb9f3a"
                          ],
                          [
                            0.8888888888888888,
                            "#fdca26"
                          ],
                          [
                            1,
                            "#f0f921"
                          ]
                        ],
                        "type": "contour"
                      }
                    ],
                    "heatmapgl": [
                      {
                        "colorbar": {
                          "outlinewidth": 0,
                          "ticks": ""
                        },
                        "colorscale": [
                          [
                            0,
                            "#0d0887"
                          ],
                          [
                            0.1111111111111111,
                            "#46039f"
                          ],
                          [
                            0.2222222222222222,
                            "#7201a8"
                          ],
                          [
                            0.3333333333333333,
                            "#9c179e"
                          ],
                          [
                            0.4444444444444444,
                            "#bd3786"
                          ],
                          [
                            0.5555555555555556,
                            "#d8576b"
                          ],
                          [
                            0.6666666666666666,
                            "#ed7953"
                          ],
                          [
                            0.7777777777777778,
                            "#fb9f3a"
                          ],
                          [
                            0.8888888888888888,
                            "#fdca26"
                          ],
                          [
                            1,
                            "#f0f921"
                          ]
                        ],
                        "type": "heatmapgl"
                      }
                    ],
                    "heatmap": [
                      {
                        "colorbar": {
                          "outlinewidth": 0,
                          "ticks": ""
                        },
                        "colorscale": [
                          [
                            0,
                            "#0d0887"
                          ],
                          [
                            0.1111111111111111,
                            "#46039f"
                          ],
                          [
                            0.2222222222222222,
                            "#7201a8"
                          ],
                          [
                            0.3333333333333333,
                            "#9c179e"
                          ],
                          [
                            0.4444444444444444,
                            "#bd3786"
                          ],
                          [
                            0.5555555555555556,
                            "#d8576b"
                          ],
                          [
                            0.6666666666666666,
                            "#ed7953"
                          ],
                          [
                            0.7777777777777778,
                            "#fb9f3a"
                          ],
                          [
                            0.8888888888888888,
                            "#fdca26"
                          ],
                          [
                            1,
                            "#f0f921"
                          ]
                        ],
                        "type": "heatmap"
                      }
                    ],
                    "histogram2dcontour": [
                      {
                        "colorbar": {
                          "outlinewidth": 0,
                          "ticks": ""
                        },
                        "colorscale": [
                          [
                            0,
                            "#0d0887"
                          ],
                          [
                            0.1111111111111111,
                            "#46039f"
                          ],
                          [
                            0.2222222222222222,
                            "#7201a8"
                          ],
                          [
                            0.3333333333333333,
                            "#9c179e"
                          ],
                          [
                            0.4444444444444444,
                            "#bd3786"
                          ],
                          [
                            0.5555555555555556,
                            "#d8576b"
                          ],
                          [
                            0.6666666666666666,
                            "#ed7953"
                          ],
                          [
                            0.7777777777777778,
                            "#fb9f3a"
                          ],
                          [
                            0.8888888888888888,
                            "#fdca26"
                          ],
                          [
                            1,
                            "#f0f921"
                          ]
                        ],
                        "type": "histogram2dcontour"
                      }
                    ],
                    "histogram2d": [
                      {
                        "colorbar": {
                          "outlinewidth": 0,
                          "ticks": ""
                        },
                        "colorscale": [
                          [
                            0,
                            "#0d0887"
                          ],
                          [
                            0.1111111111111111,
                            "#46039f"
                          ],
                          [
                            0.2222222222222222,
                            "#7201a8"
                          ],
                          [
                            0.3333333333333333,
                            "#9c179e"
                          ],
                          [
                            0.4444444444444444,
                            "#bd3786"
                          ],
                          [
                            0.5555555555555556,
                            "#d8576b"
                          ],
                          [
                            0.6666666666666666,
                            "#ed7953"
                          ],
                          [
                            0.7777777777777778,
                            "#fb9f3a"
                          ],
                          [
                            0.8888888888888888,
                            "#fdca26"
                          ],
                          [
                            1,
                            "#f0f921"
                          ]
                        ],
                        "type": "histogram2d"
                      }
                    ],
                    "histogram": [
                      {
                        "marker": {
                          "pattern": {
                            "fillmode": "overlay",
                            "size": 10,
                            "solidity": 0.2
                          }
                        },
                        "type": "histogram"
                      }
                    ],
                    "mesh3d": [
                      {
                        "colorbar": {
                          "outlinewidth": 0,
                          "ticks": ""
                        },
                        "type": "mesh3d"
                      }
                    ],
                    "parcoords": [
                      {
                        "line": {
                          "colorbar": {
                            "outlinewidth": 0,
                            "ticks": ""
                          }
                        },
                        "type": "parcoords"
                      }
                    ],
                    "pie": [
                      {
                        "automargin": true,
                        "type": "pie"
                      }
                    ],
                    "scatter3d": [
                      {
                        "line": {
                          "colorbar": {
                            "outlinewidth": 0,
                            "ticks": ""
                          }
                        },
                        "marker": {
                          "colorbar": {
                            "outlinewidth": 0,
                            "ticks": ""
                          }
                        },
                        "type": "scatter3d"
                      }
                    ],
                    "scattercarpet": [
                      {
                        "marker": {
                          "colorbar": {
                            "outlinewidth": 0,
                            "ticks": ""
                          }
                        },
                        "type": "scattercarpet"
                      }
                    ],
                    "scattergeo": [
                      {
                        "marker": {
                          "colorbar": {
                            "outlinewidth": 0,
                            "ticks": ""
                          }
                        },
                        "type": "scattergeo"
                      }
                    ],
                    "scattergl": [
                      {
                        "marker": {
                          "colorbar": {
                            "outlinewidth": 0,
                            "ticks": ""
                          }
                        },
                        "type": "scattergl"
                      }
                    ],
                    "scattermapbox": [
                      {
                        "marker": {
                          "colorbar": {
                            "outlinewidth": 0,
                            "ticks": ""
                          }
                        },
                        "type": "scattermapbox"
                      }
                    ],
                    "scatterpolargl": [
                      {
                        "marker": {
                          "colorbar": {
                            "outlinewidth": 0,
                            "ticks": ""
                          }
                        },
                        "type": "scatterpolargl"
                      }
                    ],
                    "scatterpolar": [
                      {
                        "marker": {
                          "colorbar": {
                            "outlinewidth": 0,
                            "ticks": ""
                          }
                        },
                        "type": "scatterpolar"
                      }
                    ],
                    "scatter": [
                      {
                        "marker": {
                          "colorbar": {
                            "outlinewidth": 0,
                            "ticks": ""
                          }
                        },
                        "type": "scatter"
                      }
                    ],
                    "scatterternary": [
                      {
                        "marker": {
                          "colorbar": {
                            "outlinewidth": 0,
                            "ticks": ""
                          }
                        },
                        "type": "scatterternary"
                      }
                    ],
                    "surface": [
                      {
                        "colorbar": {
                          "outlinewidth": 0,
                          "ticks": ""
                        },
                        "colorscale": [
                          [
                            0,
                            "#0d0887"
                          ],
                          [
                            0.1111111111111111,
                            "#46039f"
                          ],
                          [
                            0.2222222222222222,
                            "#7201a8"
                          ],
                          [
                            0.3333333333333333,
                            "#9c179e"
                          ],
                          [
                            0.4444444444444444,
                            "#bd3786"
                          ],
                          [
                            0.5555555555555556,
                            "#d8576b"
                          ],
                          [
                            0.6666666666666666,
                            "#ed7953"
                          ],
                          [
                            0.7777777777777778,
                            "#fb9f3a"
                          ],
                          [
                            0.8888888888888888,
                            "#fdca26"
                          ],
                          [
                            1,
                            "#f0f921"
                          ]
                        ],
                        "type": "surface"
                      }
                    ],
                    "table": [
                      {
                        "cells": {
                          "fill": {
                            "color": "#EBF0F8"
                          },
                          "line": {
                            "color": "white"
                          }
                        },
                        "header": {
                          "fill": {
                            "color": "#C8D4E3"
                          },
                          "line": {
                            "color": "white"
                          }
                        },
                        "type": "table"
                      }
                    ]
                  },
                  "layout": {
                    "annotationdefaults": {
                      "arrowcolor": "#2a3f5f",
                      "arrowhead": 0,
                      "arrowwidth": 1
                    },
                    "autotypenumbers": "strict",
                    "coloraxis": {
                      "colorbar": {
                        "outlinewidth": 0,
                        "ticks": ""
                      }
                    },
                    "colorscale": {
                      "diverging": [
                        [
                          0,
                          "#8e0152"
                        ],
                        [
                          0.1,
                          "#c51b7d"
                        ],
                        [
                          0.2,
                          "#de77ae"
                        ],
                        [
                          0.3,
                          "#f1b6da"
                        ],
                        [
                          0.4,
                          "#fde0ef"
                        ],
                        [
                          0.5,
                          "#f7f7f7"
                        ],
                        [
                          0.6,
                          "#e6f5d0"
                        ],
                        [
                          0.7,
                          "#b8e186"
                        ],
                        [
                          0.8,
                          "#7fbc41"
                        ],
                        [
                          0.9,
                          "#4d9221"
                        ],
                        [
                          1,
                          "#276419"
                        ]
                      ],
                      "sequential": [
                        [
                          0,
                          "#0d0887"
                        ],
                        [
                          0.1111111111111111,
                          "#46039f"
                        ],
                        [
                          0.2222222222222222,
                          "#7201a8"
                        ],
                        [
                          0.3333333333333333,
                          "#9c179e"
                        ],
                        [
                          0.4444444444444444,
                          "#bd3786"
                        ],
                        [
                          0.5555555555555556,
                          "#d8576b"
                        ],
                        [
                          0.6666666666666666,
                          "#ed7953"
                        ],
                        [
                          0.7777777777777778,
                          "#fb9f3a"
                        ],
                        [
                          0.8888888888888888,
                          "#fdca26"
                        ],
                        [
                          1,
                          "#f0f921"
                        ]
                      ],
                      "sequentialminus": [
                        [
                          0,
                          "#0d0887"
                        ],
                        [
                          0.1111111111111111,
                          "#46039f"
                        ],
                        [
                          0.2222222222222222,
                          "#7201a8"
                        ],
                        [
                          0.3333333333333333,
                          "#9c179e"
                        ],
                        [
                          0.4444444444444444,
                          "#bd3786"
                        ],
                        [
                          0.5555555555555556,
                          "#d8576b"
                        ],
                        [
                          0.6666666666666666,
                          "#ed7953"
                        ],
                        [
                          0.7777777777777778,
                          "#fb9f3a"
                        ],
                        [
                          0.8888888888888888,
                          "#fdca26"
                        ],
                        [
                          1,
                          "#f0f921"
                        ]
                      ]
                    },
                    "colorway": [
                      "#636efa",
                      "#EF553B",
                      "#00cc96",
                      "#ab63fa",
                      "#FFA15A",
                      "#19d3f3",
                      "#FF6692",
                      "#B6E880",
                      "#FF97FF",
                      "#FECB52"
                    ],
                    "font": {
                      "color": "#2a3f5f"
                    },
                    "geo": {
                      "bgcolor": "white",
                      "lakecolor": "white",
                      "landcolor": "#E5ECF6",
                      "showlakes": true,
                      "showland": true,
                      "subunitcolor": "white"
                    },
                    "hoverlabel": {
                      "align": "left"
                    },
                    "hovermode": "closest",
                    "mapbox": {
                      "style": "light"
                    },
                    "paper_bgcolor": "white",
                    "plot_bgcolor": "#E5ECF6",
                    "polar": {
                      "angularaxis": {
                        "gridcolor": "white",
                        "linecolor": "white",
                        "ticks": ""
                      },
                      "bgcolor": "#E5ECF6",
                      "radialaxis": {
                        "gridcolor": "white",
                        "linecolor": "white",
                        "ticks": ""
                      }
                    },
                    "scene": {
                      "xaxis": {
                        "backgroundcolor": "#E5ECF6",
                        "gridcolor": "white",
                        "gridwidth": 2,
                        "linecolor": "white",
                        "showbackground": true,
                        "ticks": "",
                        "zerolinecolor": "white"
                      },
                      "yaxis": {
                        "backgroundcolor": "#E5ECF6",
                        "gridcolor": "white",
                        "gridwidth": 2,
                        "linecolor": "white",
                        "showbackground": true,
                        "ticks": "",
                        "zerolinecolor": "white"
                      },
                      "zaxis": {
                        "backgroundcolor": "#E5ECF6",
                        "gridcolor": "white",
                        "gridwidth": 2,
                        "linecolor": "white",
                        "showbackground": true,
                        "ticks": "",
                        "zerolinecolor": "white"
                      }
                    },
                    "shapedefaults": {
                      "line": {
                        "color": "#2a3f5f"
                      }
                    },
                    "ternary": {
                      "aaxis": {
                        "gridcolor": "white",
                        "linecolor": "white",
                        "ticks": ""
                      },
                      "baxis": {
                        "gridcolor": "white",
                        "linecolor": "white",
                        "ticks": ""
                      },
                      "bgcolor": "#E5ECF6",
                      "caxis": {
                        "gridcolor": "white",
                        "linecolor": "white",
                        "ticks": ""
                      }
                    },
                    "title": {
                      "x": 0.05
                    },
                    "xaxis": {
                      "automargin": true,
                      "gridcolor": "white",
                      "linecolor": "white",
                      "ticks": "",
                      "title": {
                        "standoff": 15
                      },
                      "zerolinecolor": "white",
                      "zerolinewidth": 2
                    },
                    "yaxis": {
                      "automargin": true,
                      "gridcolor": "white",
                      "linecolor": "white",
                      "ticks": "",
                      "title": {
                        "standoff": 15
                      },
                      "zerolinecolor": "white",
                      "zerolinewidth": 2
                    }
                  }
                },
                "title": {
                  "text": "Sample Vs Target gender"
                },
                "xaxis": {
                  "title": {
                    "text": "gender"
                  },
                  "type": "category",
                  "range": [
                    -0.5,
                    1.5
                  ],
                  "autorange": true
                },
                "yaxis": {
                  "title": {
                    "text": "Proportion of Total"
                  },
                  "type": "linear",
                  "range": [
                    0,
                    0.7433056325023084
                  ],
                  "autorange": true
                }
              },
              "config": {
                "showLink": false,
                "linkText": "Export to plot.ly",
                "plotlyServerURL": "https://plot.ly"
              }
            },
            "text/html": "<div>                            <div id=\"80bdce21-2114-493d-99a2-d3352844316b\" class=\"plotly-graph-div\" style=\"height:525px; width:100%;\"></div>            <script type=\"text/javascript\">                require([\"plotly\"], function(Plotly) {                    window.PLOTLYENV=window.PLOTLYENV || {};                                    if (document.getElementById(\"80bdce21-2114-493d-99a2-d3352844316b\")) {                    Plotly.newPlot(                        \"80bdce21-2114-493d-99a2-d3352844316b\",                        [{\"marker\":{\"color\":\"rgba(222,45,38,0.8)\",\"line\":{\"color\":\"rgba(222,45,38,1)\",\"width\":1.5}},\"name\":\"sample\",\"opacity\":0.6,\"visible\":true,\"x\":[\"Female\",\"Male\"],\"y\":[0.29385964912280704,0.706140350877193],\"type\":\"bar\"},{\"marker\":{\"color\":\"rgb(158,202,225,.8)\",\"line\":{\"color\":\"rgb(158,202,225,1)\",\"width\":1.5}},\"name\":\"population\",\"opacity\":0.6,\"visible\":true,\"x\":[\"Female\",\"Male\"],\"y\":[0.5,0.5],\"type\":\"bar\"}],                        {\"paper_bgcolor\":\"rgb(255, 255, 255)\",\"plot_bgcolor\":\"rgb(255, 255, 255)\",\"template\":{\"data\":{\"barpolar\":[{\"marker\":{\"line\":{\"color\":\"#E5ECF6\",\"width\":0.5},\"pattern\":{\"fillmode\":\"overlay\",\"size\":10,\"solidity\":0.2}},\"type\":\"barpolar\"}],\"bar\":[{\"error_x\":{\"color\":\"#2a3f5f\"},\"error_y\":{\"color\":\"#2a3f5f\"},\"marker\":{\"line\":{\"color\":\"#E5ECF6\",\"width\":0.5},\"pattern\":{\"fillmode\":\"overlay\",\"size\":10,\"solidity\":0.2}},\"type\":\"bar\"}],\"carpet\":[{\"aaxis\":{\"endlinecolor\":\"#2a3f5f\",\"gridcolor\":\"white\",\"linecolor\":\"white\",\"minorgridcolor\":\"white\",\"startlinecolor\":\"#2a3f5f\"},\"baxis\":{\"endlinecolor\":\"#2a3f5f\",\"gridcolor\":\"white\",\"linecolor\":\"white\",\"minorgridcolor\":\"white\",\"startlinecolor\":\"#2a3f5f\"},\"type\":\"carpet\"}],\"choropleth\":[{\"colorbar\":{\"outlinewidth\":0,\"ticks\":\"\"},\"type\":\"choropleth\"}],\"contourcarpet\":[{\"colorbar\":{\"outlinewidth\":0,\"ticks\":\"\"},\"type\":\"contourcarpet\"}],\"contour\":[{\"colorbar\":{\"outlinewidth\":0,\"ticks\":\"\"},\"colorscale\":[[0.0,\"#0d0887\"],[0.1111111111111111,\"#46039f\"],[0.2222222222222222,\"#7201a8\"],[0.3333333333333333,\"#9c179e\"],[0.4444444444444444,\"#bd3786\"],[0.5555555555555556,\"#d8576b\"],[0.6666666666666666,\"#ed7953\"],[0.7777777777777778,\"#fb9f3a\"],[0.8888888888888888,\"#fdca26\"],[1.0,\"#f0f921\"]],\"type\":\"contour\"}],\"heatmapgl\":[{\"colorbar\":{\"outlinewidth\":0,\"ticks\":\"\"},\"colorscale\":[[0.0,\"#0d0887\"],[0.1111111111111111,\"#46039f\"],[0.2222222222222222,\"#7201a8\"],[0.3333333333333333,\"#9c179e\"],[0.4444444444444444,\"#bd3786\"],[0.5555555555555556,\"#d8576b\"],[0.6666666666666666,\"#ed7953\"],[0.7777777777777778,\"#fb9f3a\"],[0.8888888888888888,\"#fdca26\"],[1.0,\"#f0f921\"]],\"type\":\"heatmapgl\"}],\"heatmap\":[{\"colorbar\":{\"outlinewidth\":0,\"ticks\":\"\"},\"colorscale\":[[0.0,\"#0d0887\"],[0.1111111111111111,\"#46039f\"],[0.2222222222222222,\"#7201a8\"],[0.3333333333333333,\"#9c179e\"],[0.4444444444444444,\"#bd3786\"],[0.5555555555555556,\"#d8576b\"],[0.6666666666666666,\"#ed7953\"],[0.7777777777777778,\"#fb9f3a\"],[0.8888888888888888,\"#fdca26\"],[1.0,\"#f0f921\"]],\"type\":\"heatmap\"}],\"histogram2dcontour\":[{\"colorbar\":{\"outlinewidth\":0,\"ticks\":\"\"},\"colorscale\":[[0.0,\"#0d0887\"],[0.1111111111111111,\"#46039f\"],[0.2222222222222222,\"#7201a8\"],[0.3333333333333333,\"#9c179e\"],[0.4444444444444444,\"#bd3786\"],[0.5555555555555556,\"#d8576b\"],[0.6666666666666666,\"#ed7953\"],[0.7777777777777778,\"#fb9f3a\"],[0.8888888888888888,\"#fdca26\"],[1.0,\"#f0f921\"]],\"type\":\"histogram2dcontour\"}],\"histogram2d\":[{\"colorbar\":{\"outlinewidth\":0,\"ticks\":\"\"},\"colorscale\":[[0.0,\"#0d0887\"],[0.1111111111111111,\"#46039f\"],[0.2222222222222222,\"#7201a8\"],[0.3333333333333333,\"#9c179e\"],[0.4444444444444444,\"#bd3786\"],[0.5555555555555556,\"#d8576b\"],[0.6666666666666666,\"#ed7953\"],[0.7777777777777778,\"#fb9f3a\"],[0.8888888888888888,\"#fdca26\"],[1.0,\"#f0f921\"]],\"type\":\"histogram2d\"}],\"histogram\":[{\"marker\":{\"pattern\":{\"fillmode\":\"overlay\",\"size\":10,\"solidity\":0.2}},\"type\":\"histogram\"}],\"mesh3d\":[{\"colorbar\":{\"outlinewidth\":0,\"ticks\":\"\"},\"type\":\"mesh3d\"}],\"parcoords\":[{\"line\":{\"colorbar\":{\"outlinewidth\":0,\"ticks\":\"\"}},\"type\":\"parcoords\"}],\"pie\":[{\"automargin\":true,\"type\":\"pie\"}],\"scatter3d\":[{\"line\":{\"colorbar\":{\"outlinewidth\":0,\"ticks\":\"\"}},\"marker\":{\"colorbar\":{\"outlinewidth\":0,\"ticks\":\"\"}},\"type\":\"scatter3d\"}],\"scattercarpet\":[{\"marker\":{\"colorbar\":{\"outlinewidth\":0,\"ticks\":\"\"}},\"type\":\"scattercarpet\"}],\"scattergeo\":[{\"marker\":{\"colorbar\":{\"outlinewidth\":0,\"ticks\":\"\"}},\"type\":\"scattergeo\"}],\"scattergl\":[{\"marker\":{\"colorbar\":{\"outlinewidth\":0,\"ticks\":\"\"}},\"type\":\"scattergl\"}],\"scattermapbox\":[{\"marker\":{\"colorbar\":{\"outlinewidth\":0,\"ticks\":\"\"}},\"type\":\"scattermapbox\"}],\"scatterpolargl\":[{\"marker\":{\"colorbar\":{\"outlinewidth\":0,\"ticks\":\"\"}},\"type\":\"scatterpolargl\"}],\"scatterpolar\":[{\"marker\":{\"colorbar\":{\"outlinewidth\":0,\"ticks\":\"\"}},\"type\":\"scatterpolar\"}],\"scatter\":[{\"marker\":{\"colorbar\":{\"outlinewidth\":0,\"ticks\":\"\"}},\"type\":\"scatter\"}],\"scatterternary\":[{\"marker\":{\"colorbar\":{\"outlinewidth\":0,\"ticks\":\"\"}},\"type\":\"scatterternary\"}],\"surface\":[{\"colorbar\":{\"outlinewidth\":0,\"ticks\":\"\"},\"colorscale\":[[0.0,\"#0d0887\"],[0.1111111111111111,\"#46039f\"],[0.2222222222222222,\"#7201a8\"],[0.3333333333333333,\"#9c179e\"],[0.4444444444444444,\"#bd3786\"],[0.5555555555555556,\"#d8576b\"],[0.6666666666666666,\"#ed7953\"],[0.7777777777777778,\"#fb9f3a\"],[0.8888888888888888,\"#fdca26\"],[1.0,\"#f0f921\"]],\"type\":\"surface\"}],\"table\":[{\"cells\":{\"fill\":{\"color\":\"#EBF0F8\"},\"line\":{\"color\":\"white\"}},\"header\":{\"fill\":{\"color\":\"#C8D4E3\"},\"line\":{\"color\":\"white\"}},\"type\":\"table\"}]},\"layout\":{\"annotationdefaults\":{\"arrowcolor\":\"#2a3f5f\",\"arrowhead\":0,\"arrowwidth\":1},\"autotypenumbers\":\"strict\",\"coloraxis\":{\"colorbar\":{\"outlinewidth\":0,\"ticks\":\"\"}},\"colorscale\":{\"diverging\":[[0,\"#8e0152\"],[0.1,\"#c51b7d\"],[0.2,\"#de77ae\"],[0.3,\"#f1b6da\"],[0.4,\"#fde0ef\"],[0.5,\"#f7f7f7\"],[0.6,\"#e6f5d0\"],[0.7,\"#b8e186\"],[0.8,\"#7fbc41\"],[0.9,\"#4d9221\"],[1,\"#276419\"]],\"sequential\":[[0.0,\"#0d0887\"],[0.1111111111111111,\"#46039f\"],[0.2222222222222222,\"#7201a8\"],[0.3333333333333333,\"#9c179e\"],[0.4444444444444444,\"#bd3786\"],[0.5555555555555556,\"#d8576b\"],[0.6666666666666666,\"#ed7953\"],[0.7777777777777778,\"#fb9f3a\"],[0.8888888888888888,\"#fdca26\"],[1.0,\"#f0f921\"]],\"sequentialminus\":[[0.0,\"#0d0887\"],[0.1111111111111111,\"#46039f\"],[0.2222222222222222,\"#7201a8\"],[0.3333333333333333,\"#9c179e\"],[0.4444444444444444,\"#bd3786\"],[0.5555555555555556,\"#d8576b\"],[0.6666666666666666,\"#ed7953\"],[0.7777777777777778,\"#fb9f3a\"],[0.8888888888888888,\"#fdca26\"],[1.0,\"#f0f921\"]]},\"colorway\":[\"#636efa\",\"#EF553B\",\"#00cc96\",\"#ab63fa\",\"#FFA15A\",\"#19d3f3\",\"#FF6692\",\"#B6E880\",\"#FF97FF\",\"#FECB52\"],\"font\":{\"color\":\"#2a3f5f\"},\"geo\":{\"bgcolor\":\"white\",\"lakecolor\":\"white\",\"landcolor\":\"#E5ECF6\",\"showlakes\":true,\"showland\":true,\"subunitcolor\":\"white\"},\"hoverlabel\":{\"align\":\"left\"},\"hovermode\":\"closest\",\"mapbox\":{\"style\":\"light\"},\"paper_bgcolor\":\"white\",\"plot_bgcolor\":\"#E5ECF6\",\"polar\":{\"angularaxis\":{\"gridcolor\":\"white\",\"linecolor\":\"white\",\"ticks\":\"\"},\"bgcolor\":\"#E5ECF6\",\"radialaxis\":{\"gridcolor\":\"white\",\"linecolor\":\"white\",\"ticks\":\"\"}},\"scene\":{\"xaxis\":{\"backgroundcolor\":\"#E5ECF6\",\"gridcolor\":\"white\",\"gridwidth\":2,\"linecolor\":\"white\",\"showbackground\":true,\"ticks\":\"\",\"zerolinecolor\":\"white\"},\"yaxis\":{\"backgroundcolor\":\"#E5ECF6\",\"gridcolor\":\"white\",\"gridwidth\":2,\"linecolor\":\"white\",\"showbackground\":true,\"ticks\":\"\",\"zerolinecolor\":\"white\"},\"zaxis\":{\"backgroundcolor\":\"#E5ECF6\",\"gridcolor\":\"white\",\"gridwidth\":2,\"linecolor\":\"white\",\"showbackground\":true,\"ticks\":\"\",\"zerolinecolor\":\"white\"}},\"shapedefaults\":{\"line\":{\"color\":\"#2a3f5f\"}},\"ternary\":{\"aaxis\":{\"gridcolor\":\"white\",\"linecolor\":\"white\",\"ticks\":\"\"},\"baxis\":{\"gridcolor\":\"white\",\"linecolor\":\"white\",\"ticks\":\"\"},\"bgcolor\":\"#E5ECF6\",\"caxis\":{\"gridcolor\":\"white\",\"linecolor\":\"white\",\"ticks\":\"\"}},\"title\":{\"x\":0.05},\"xaxis\":{\"automargin\":true,\"gridcolor\":\"white\",\"linecolor\":\"white\",\"ticks\":\"\",\"title\":{\"standoff\":15},\"zerolinecolor\":\"white\",\"zerolinewidth\":2},\"yaxis\":{\"automargin\":true,\"gridcolor\":\"white\",\"linecolor\":\"white\",\"ticks\":\"\",\"title\":{\"standoff\":15},\"zerolinecolor\":\"white\",\"zerolinewidth\":2}}},\"title\":{\"text\":\"Sample Vs Target gender\"},\"xaxis\":{\"title\":{\"text\":\"gender\"}},\"yaxis\":{\"title\":{\"text\":\"Proportion of Total\"}}},                        {\"responsive\": true}                    ).then(function(){\n                            \nvar gd = document.getElementById('80bdce21-2114-493d-99a2-d3352844316b');\nvar x = new MutationObserver(function (mutations, observer) {{\n        var display = window.getComputedStyle(gd).display;\n        if (!display || display === 'none') {{\n            console.log([gd, 'removed!']);\n            Plotly.purge(gd);\n            observer.disconnect();\n        }}\n}});\n\n// Listen for the removal of the full notebook cells\nvar notebookContainer = gd.closest('#notebook-container');\nif (notebookContainer) {{\n    x.observe(notebookContainer, {childList: true});\n}}\n\n// Listen for the clearing of the current output cell\nvar outputEl = gd.closest('.output');\nif (outputEl) {{\n    x.observe(outputEl, {childList: true});\n}}\n\n                        })                };                });            </script>        </div>"
          },
          "metadata": {}
        },
        {
          "output_type": "display_data",
          "data": {
            "application/vnd.plotly.v1+json": {
              "data": [
                {
                  "marker": {
                    "color": "rgba(222,45,38,0.8)"
                  },
                  "mode": "markers",
                  "name": "sample",
                  "opacity": 0.6,
                  "x": [
                    2.562894280491009e-7,
                    0.00002453311665112591,
                    0.0002135306007952836,
                    0.00039384040718099824,
                    0.0006446596421196675,
                    0.0009765532963779371,
                    0.0014992163052517777,
                    0.0020349388611332333,
                    0.0024605972523927995,
                    0.0035658371777849062,
                    0.004242061346301566,
                    0.004953358734139277,
                    0.0059825901571242315,
                    0.007596148757515743,
                    0.009261195035428152,
                    0.012398747429523623,
                    0.013717621997527872,
                    0.015430710109774856,
                    0.0171991097863383,
                    0.01862934212915148,
                    0.021758185715905286,
                    0.023517277557960955,
                    0.025236206140657233,
                    0.027384401177840495,
                    0.028706900556297918,
                    0.0316069372888953,
                    0.03370356931401851,
                    0.035995072990522056,
                    0.037656098809024104,
                    0.038771317807521036,
                    0.04142510333435936,
                    0.045799570240821694,
                    0.04782961708828526,
                    0.05127014164313634,
                    0.05451469603152355,
                    0.057828270487346435,
                    0.0607451306186586,
                    0.06382215128478391,
                    0.06734860667789719,
                    0.0712173802590027,
                    0.07378024154256095,
                    0.08166363488393,
                    0.0849921282828289,
                    0.08987928267850782,
                    0.09344916392136288,
                    0.09599527942101402,
                    0.10063205166480185,
                    0.10513252547923534,
                    0.10848934854736703,
                    0.11429779734840367,
                    0.12206551535895549,
                    0.12616510069876802,
                    0.1341605604941959,
                    0.13974656225561644,
                    0.14864720507261195,
                    0.15585703916691646,
                    0.16248312701864337,
                    0.16854980366424666,
                    0.17475826580763248,
                    0.18258435991510985,
                    0.1879732779759572,
                    0.1985876830811404,
                    0.20586445017743077,
                    0.21180881127436957,
                    0.21624972152133665,
                    0.2249994651682714,
                    0.2353765750177811,
                    0.24231119503652265,
                    0.2515189133511089,
                    0.25952120570184517,
                    0.264911565469389,
                    0.27505113172606344,
                    0.2842586740371545,
                    0.29127777495572044,
                    0.29956117742701016,
                    0.3056732036239137,
                    0.31162073143531077,
                    0.31590975181095626,
                    0.3245628069555666,
                    0.33288217638376993,
                    0.34127524158184813,
                    0.34544262870740383,
                    0.3515905246282719,
                    0.3549438365415142,
                    0.36139055961849265,
                    0.3688501670629612,
                    0.3786304832960535,
                    0.388616663584427,
                    0.3965069617127737,
                    0.40217956019095114,
                    0.4097409911261094,
                    0.42029114693587855,
                    0.42453062986094847,
                    0.43514058097929653,
                    0.4443411040880378,
                    0.46065450490377496,
                    0.4693777386024087,
                    0.479748238468023,
                    0.4902233655721262,
                    0.4957460669004042,
                    0.5059695622134119,
                    0.5187013126953225,
                    0.5273825905754747,
                    0.5416733305066821,
                    0.5485239039467467,
                    0.5549361658541881,
                    0.5674482156378875,
                    0.5765576671520627,
                    0.5881093840424274,
                    0.6052914909938993,
                    0.6201308289869102,
                    0.6297715285411472,
                    0.6402477816086704,
                    0.6529158762423564,
                    0.6622001945415656,
                    0.6724755266760881,
                    0.6907109398081144,
                    0.6989228342874139,
                    0.7101292194751909,
                    0.7174405689366332,
                    0.724169155777318,
                    0.7333364755286245,
                    0.7498856859884063,
                    0.7545732244955359,
                    0.762495987955406,
                    0.7731397376455666,
                    0.7827017300692929,
                    0.8001268984768024,
                    0.8120131760942875,
                    0.8188733056827336,
                    0.831424518938312,
                    0.8400450017282295,
                    0.8470979280098201,
                    0.8592767194756927,
                    0.870770080642278,
                    0.8825983187433382,
                    0.8964223305559964,
                    0.9007451232016981,
                    0.9110896890216954,
                    0.9276645825500269,
                    0.9424617545078628,
                    0.9533422245079016,
                    0.9674026980317316,
                    0.9775140340251073,
                    0.9912700623006491,
                    1.0027794952688704,
                    1.0177166608702737,
                    1.0329442402551443,
                    1.0417828789468628,
                    1.0511448259996348,
                    1.0719234982248027,
                    1.0806313602844186,
                    1.0980019925220001,
                    1.1142249407029472,
                    1.1297527027268521,
                    1.1468308077572273,
                    1.1583023140139599,
                    1.1747904728261513,
                    1.1888497264530924,
                    1.2013968658696839,
                    1.2266711050300612,
                    1.2370893502060794,
                    1.2494219239849844,
                    1.2581943734624685,
                    1.2742955083004102,
                    1.2849478264404204,
                    1.2934181550961947,
                    1.3120297370173803,
                    1.3288133459674174,
                    1.3415402567160983,
                    1.3514626013905353,
                    1.3725760400065075,
                    1.3917827469655415,
                    1.4010476510760195,
                    1.4191974994561622,
                    1.432105795314213,
                    1.4529196490419625,
                    1.4678169021354024,
                    1.4778561436791353,
                    1.5002473271355963,
                    1.5215718138632135,
                    1.54295878717976,
                    1.5568370174388044,
                    1.5699038378352337,
                    1.5853495443619612,
                    1.6062733162471687,
                    1.6269988370812105,
                    1.656297732057546,
                    1.6683527562855653,
                    1.6860173525601336,
                    1.7002535228136328,
                    1.7156187699621968,
                    1.7244012463608085,
                    1.739825374437208,
                    1.75975954737812,
                    1.7849101218420897,
                    1.7994664387269328,
                    1.812804744067542,
                    1.829971884392334,
                    1.8461035816087534,
                    1.8640467796678228,
                    1.8893454954680642,
                    1.9004295771069553,
                    1.9196596081565662,
                    1.9365429891470685,
                    1.9499300743652839,
                    1.9679147481830785,
                    1.9849658738037692,
                    2.0048270290207775,
                    2.018874801087022,
                    2.0443487807544845,
                    2.0677306910812208,
                    2.0801191006396937,
                    2.114763967188591,
                    2.131630642240842,
                    2.148352380070762,
                    2.1690742415840747,
                    2.1837140064328326,
                    2.1983208342279994,
                    2.2153206395256717,
                    2.236185683377358,
                    2.2492338848781843,
                    2.265621255147999,
                    2.2856659103696115,
                    2.3098131823779857,
                    2.330356696702708,
                    2.342731260654133,
                    2.3578453278364497,
                    2.376603613639471,
                    2.3933312118291656,
                    2.4202583573723233,
                    2.4445476285341767,
                    2.4594708019070493,
                    2.477123381224041,
                    2.5011430781110713,
                    2.5198943582383087,
                    2.5505565028296155,
                    2.5653917609601393,
                    2.586640989973745,
                    2.610814507375981,
                    2.6231303642534276,
                    2.6378582757564852,
                    2.658685988911699,
                    2.676153216380085,
                    2.6943113154632043,
                    2.714530335830802,
                    2.7371593191122168,
                    2.7569330281104683,
                    2.781209221972637,
                    2.8026795940138127,
                    2.8146802373145214,
                    2.8302337092354337,
                    2.8701567772626304,
                    2.8988125184946583,
                    2.919891706885337,
                    2.9431038154319076,
                    2.9541408505487734,
                    2.971960157751332,
                    2.98826357479556,
                    3.0094603890164717,
                    3.0224040008738458,
                    3.03728633253324,
                    3.0535604186032663,
                    3.0713491745774757,
                    3.101909247647004,
                    3.123461083840695,
                    3.1372550326122792,
                    3.156539671504401,
                    3.1679266801042214,
                    3.1774994147613294,
                    3.1953009344043,
                    3.2121245032817933,
                    3.2317811242337475,
                    3.258400358146905,
                    3.278084177630324,
                    3.2934591570900102,
                    3.316434253682376,
                    3.3344187472316786,
                    3.3465233160270884,
                    3.375280009912983,
                    3.391668913901752,
                    3.415829664781696,
                    3.4301046031836107,
                    3.4536043937061818,
                    3.473120429672501,
                    3.4856080126497346,
                    3.509587258877075,
                    3.5362347363524425,
                    3.5566578860869353,
                    3.5797122560962142,
                    3.59491682553356,
                    3.61169775132137,
                    3.6331151990595227,
                    3.6512227509346644,
                    3.6827956925711316,
                    3.7071087509925587,
                    3.728584685687634,
                    3.745684352911559,
                    3.772860211518053,
                    3.792517240098183,
                    3.8153394360655133,
                    3.847785107470563,
                    3.8745720397046717,
                    3.898456793980727,
                    3.9135055102400385,
                    3.9272806440532326,
                    3.967704570757318,
                    3.9957848910095537,
                    4.025806877445636,
                    4.041874996365177,
                    4.065416505645578,
                    4.08954992434817,
                    4.104449385339281,
                    4.131677262111573,
                    4.157004862525195,
                    4.191620577712651,
                    4.214654990055063,
                    4.241436712891979,
                    4.259107351308463,
                    4.283423266859815,
                    4.291880725937097,
                    4.319289963412284,
                    4.347497132874074,
                    4.360818913836482,
                    4.377137435389101,
                    4.393205160401189,
                    4.425726901578278,
                    4.446984799255723,
                    4.476288405580569,
                    4.493507877193437,
                    4.517858191325537,
                    4.549344890055883,
                    4.572261528160688,
                    4.600813064153355,
                    4.619027790760812,
                    4.657352965277699,
                    4.6827942504273725,
                    4.703350488543325,
                    4.721072870561867,
                    4.744991386441493,
                    4.754007279802479,
                    4.768295698646365,
                    4.784889241686271,
                    4.803792108345134,
                    4.814856634436708,
                    4.843769938286818,
                    4.867812529016976,
                    4.908147910742304,
                    4.934781029597556,
                    4.967236759528256,
                    5.001327235267709,
                    5.013162285453271,
                    5.02953493242209,
                    5.055374216948395,
                    5.07420958320953,
                    5.112064070188707,
                    5.130101279688121,
                    5.145223269576734,
                    5.181542295069805,
                    5.213142473545832,
                    5.239891404079014,
                    5.261440061920839,
                    5.273985145985756,
                    5.2872971554374,
                    5.31171380012367,
                    5.3325300731434355,
                    5.368861389250463,
                    5.3861344832281715,
                    5.400501855112088,
                    5.415505252606167,
                    5.435515895762462,
                    5.4673845102821375,
                    5.4879505623779625,
                    5.5056557359322404,
                    5.532185920512864,
                    5.549729217029125,
                    5.566742337256906,
                    5.60079979254621,
                    5.609611876591917,
                    5.631673469263544,
                    5.662266277997476,
                    5.687555985298573,
                    5.699099828926975,
                    5.71761385894926,
                    5.744430402482258,
                    5.770375853216313,
                    5.784207923242947,
                    5.7974953556075475,
                    5.820059513882951,
                    5.848497315978442,
                    5.870013335269361,
                    5.888907692174257,
                    5.927595377554704,
                    5.957224577312674,
                    5.9800249314603695,
                    6.000053527749317,
                    6.01536281646111,
                    6.029668320413437,
                    6.052167287405124,
                    6.076151558736944,
                    6.0891107678624925,
                    6.111167704991201,
                    6.1302446350705155,
                    6.161052149218913,
                    6.182444926997914,
                    6.219751020735755,
                    6.245811684824273,
                    6.288016163790699,
                    6.309320916478761,
                    6.354709639349399,
                    6.394259112545289,
                    6.413817705553433,
                    6.430012358625838,
                    6.463880221474085,
                    6.479696536269982,
                    6.507954726302474,
                    6.540259081476319,
                    6.571736685882668,
                    6.593313117346977,
                    6.624538242945757,
                    6.654100472327583,
                    6.672352325738077,
                    6.700058885331282,
                    6.728700949247965,
                    6.739815077847688,
                    6.765840240232812,
                    6.797867748140928,
                    6.8293721572777955,
                    6.878770636171017,
                    6.906235548777998,
                    6.9278273234235375,
                    6.953132638817149,
                    6.988455885708157,
                    7.015554211132974,
                    7.041466850907241,
                    7.068387897430409,
                    7.1003772182195615,
                    7.13335465152268,
                    7.148887007615148,
                    7.166124627466676,
                    7.184911232259757,
                    7.203359110753127,
                    7.2340294222338954,
                    7.283672815519216,
                    7.307829460429177,
                    7.3327022286388654,
                    7.3667428873975815,
                    7.387803812539488,
                    7.416941387591605,
                    7.443166265395151,
                    7.466002829066454,
                    7.49045636413658,
                    7.519442960289055,
                    7.528294376183172,
                    7.54487421645015,
                    7.562950562317749,
                    7.582639445676831,
                    7.616196154177204,
                    7.654913222456479,
                    7.696412242308998,
                    7.730267093758664,
                    7.769303577398931,
                    7.806380910728697,
                    7.835396351473827,
                    7.864954955216559,
                    7.884255609302549,
                    7.902528439659928,
                    7.930157797464295,
                    7.954970866624773,
                    8.002050624028968,
                    8.025021181786133,
                    8.037714820959698,
                    8.057746579151136,
                    8.078679665657733,
                    8.107720500453523,
                    8.145056270028295,
                    8.176220755216697,
                    8.194450337098232,
                    8.210710164284613,
                    8.224616444670996,
                    8.246445011327545,
                    8.281562781051075,
                    8.299355599303627,
                    8.324142644557352,
                    8.350777537600727,
                    8.382402381552254,
                    8.417707267786032,
                    8.451634699038337,
                    8.481079882371292,
                    8.519171991804647,
                    8.553529592864066,
                    8.584213157424152,
                    8.611871642683568,
                    8.652014052210948,
                    8.682505658777641,
                    8.718283227305623,
                    8.762664848818378,
                    8.781327319661806,
                    8.7954948751859,
                    8.83267425464497,
                    8.8551374711912,
                    8.888665368186079,
                    8.906513972160944,
                    8.926439263041338,
                    8.947577477004685,
                    8.978036432802092,
                    9.006711082553036,
                    9.035804040286973,
                    9.058847961954008,
                    9.079281118597326,
                    9.133177351217647,
                    9.15143211570486,
                    9.173199682862723,
                    9.19725292615134,
                    9.21516948078471,
                    9.238059339007922,
                    9.280027944782777,
                    9.322597957408998,
                    9.356973721030828,
                    9.372464929934278,
                    9.391699973931512,
                    9.427807460688724,
                    9.458970893245604,
                    9.477784938751526,
                    9.53671560283969,
                    9.568020235048373,
                    9.598738175044431,
                    9.624132963166431,
                    9.677495374048583,
                    9.708070609593332,
                    9.749233881574426,
                    9.796187953148706,
                    9.834849894464092,
                    9.85749101036258,
                    9.90146957438057,
                    9.94634671873103,
                    9.989190422950415,
                    10.014928952887932,
                    10.033624946465036,
                    10.074051523792074,
                    10.110819555049076,
                    10.143208419575814,
                    10.17770802759955,
                    10.209597905712315,
                    10.230782503498727,
                    10.266181465335686,
                    10.300879421888155,
                    10.335219101926636,
                    10.35740222196137,
                    10.386436033388842,
                    10.415789223765929,
                    10.443813660602064,
                    10.483647668253816,
                    10.503276294325758,
                    10.540156349569667,
                    10.562106328600118,
                    10.606969004094866,
                    10.632659488661194,
                    10.654480468296558,
                    10.678690325177445,
                    10.714239133824053,
                    10.754232566030561,
                    10.785605329193935,
                    10.806407737022093,
                    10.839332675956522,
                    10.887329446893133,
                    10.919928987041125,
                    10.946093116538785,
                    10.98094699131189,
                    11.006411013997937,
                    11.03459627150061,
                    11.07340120663502,
                    11.112405239192647,
                    11.148523438248017,
                    11.198995714031497,
                    11.240652837539956,
                    11.265429962811057,
                    11.2920257214538,
                    11.312266135970265,
                    11.345271659778494,
                    11.35742850978146,
                    11.393079808531636,
                    11.434559621368617,
                    11.45889035670336,
                    11.494073912565844,
                    11.521276686020329,
                    11.53513619086553,
                    11.56191494806313,
                    11.588752675066885,
                    11.627798490987137,
                    11.693724573237748,
                    11.71974293287302,
                    11.749134588615451,
                    11.7675679778683,
                    11.819604442077104,
                    11.86612277779891,
                    11.897817067839007,
                    11.929141405751958,
                    11.963571679694073,
                    11.99234138213075,
                    12.025400606735234,
                    12.060298793985545,
                    12.091254506230067,
                    12.141259928962361,
                    12.191147379727717,
                    12.21250409287034,
                    12.239426540806477,
                    12.26988671437997,
                    12.302602137225662,
                    12.333834952156078,
                    12.360462751474188,
                    12.392918522936942,
                    12.419651830109707,
                    12.456002409683446,
                    12.492164316205077,
                    12.532678822610281,
                    12.558472888699114,
                    12.586145227500499,
                    12.60998311677419,
                    12.632453506409298,
                    12.676190570787874,
                    12.720809389648414,
                    12.750269169259427,
                    12.770733600294573,
                    12.811898367805611,
                    12.864666491890663,
                    12.88993137318985,
                    12.93154183496717,
                    12.964806205521029,
                    13.01035384789438,
                    13.04332345407953,
                    13.06899318907738,
                    13.1053079304216,
                    13.14996253832242,
                    13.198514417641988,
                    13.232136754124156,
                    13.273210046141728,
                    13.31334756645282,
                    13.338893119444151,
                    13.372118199147085,
                    13.407649723547191,
                    13.458732363454674,
                    13.517312110375162,
                    13.568022844413328,
                    13.59948653774241,
                    13.63637703184783,
                    13.687936090396331,
                    13.729494215716555,
                    13.774405471649686,
                    13.800169236103725,
                    13.821357397462585,
                    13.874801165487852,
                    13.936017437097924,
                    13.979860419970844,
                    14.017828410733655,
                    14.056485883735258,
                    14.122443268108526,
                    14.137908577218957,
                    14.171169165013158,
                    14.239908981469384,
                    14.29907494831117,
                    14.360612811456418,
                    14.403358301987016,
                    14.437331718469146,
                    14.493249917174793,
                    14.527971714174502,
                    14.557404379550624,
                    14.592047404786966,
                    14.633212471227498,
                    14.677823018492763,
                    14.698368182035303,
                    14.728250801995301,
                    14.79321454390075,
                    14.827856000789712,
                    14.894706206194904,
                    14.92284846194351,
                    14.94260040460663,
                    14.985940848445416,
                    15.023677785358577,
                    15.05182092971037,
                    15.137202151889703,
                    15.183438390611277,
                    15.209261221539021,
                    15.299768724132322,
                    15.360344004139042,
                    15.435894391042137,
                    15.472075152467422,
                    15.520366116825492,
                    15.568779068291892,
                    15.62736509580111,
                    15.666115224300157,
                    15.698803495500055,
                    15.753555588677095,
                    15.784275456307334,
                    15.82189820953701,
                    15.856421262228382,
                    15.90119041973623,
                    15.937686614115293,
                    15.979043148240173,
                    16.013685629432484,
                    16.074574686294007,
                    16.11137949761322,
                    16.142318360156125,
                    16.177929008014658,
                    16.206875400502753,
                    16.256607642704274,
                    16.309628644472834,
                    16.386743226860787,
                    16.42390350252588,
                    16.47064062028704,
                    16.529235252532477,
                    16.613045868165003,
                    16.64870940067439,
                    16.667172491667532,
                    16.713305323477595,
                    16.782940630360727,
                    16.815528209594696,
                    16.890659864994987,
                    16.97792852164757,
                    17.02490366823197,
                    17.069596720399545,
                    17.12966802610442,
                    17.183546935005037,
                    17.234391731005154,
                    17.27162001384933,
                    17.324124514358537,
                    17.379798450198823,
                    17.426744309185786,
                    17.505288961425038,
                    17.54809420194062,
                    17.5748084234339,
                    17.62534811650604,
                    17.69129865237202,
                    17.756616372427033,
                    17.831068325425836,
                    17.87735051085754,
                    17.914348116183078,
                    17.9707251603229,
                    18.025650190933383,
                    18.090735301436887,
                    18.1618762850917,
                    18.20775120114873,
                    18.27074884090262,
                    18.290627824028977,
                    18.342202967892085,
                    18.437632459472695,
                    18.475746058440404,
                    18.547401035039037,
                    18.620134919649324,
                    18.669227568053905,
                    18.728829606801348,
                    18.77158242446881,
                    18.83931857755457,
                    18.893220843156598,
                    18.942577327107088,
                    19.006096580963344,
                    19.046219570317383,
                    19.072552883554508,
                    19.121006904723494,
                    19.176544382869338,
                    19.221115541260914,
                    19.25252918511197,
                    19.309658344538594,
                    19.37823196021296,
                    19.41412726197973,
                    19.49154572244747,
                    19.543979862326353,
                    19.60393750896438,
                    19.657880903184946,
                    19.7058595464864,
                    19.75725121315547,
                    19.789327870890624,
                    19.849599016046362,
                    19.896138050317134,
                    19.940942067000478,
                    20.014849976562346,
                    20.071132814623823,
                    20.146231748826466,
                    20.194272635761678,
                    20.250003146501186,
                    20.342976104396598,
                    20.388111172714275,
                    20.440562645840927,
                    20.46924091629104,
                    20.504584371551466,
                    20.56551900787285,
                    20.611508157668297,
                    20.690835123093557,
                    20.755870617156358,
                    20.790286446988762,
                    20.9190691287749,
                    20.951306445387715,
                    21.01001803843622,
                    21.055192873817198,
                    21.09746475137786,
                    21.157532452089832,
                    21.211386226071156,
                    21.278705997596372,
                    21.360959558285572,
                    21.450438416859953,
                    21.520447623808877,
                    21.60108506316408,
                    21.67044092615696,
                    21.733171239580674,
                    21.780263837496502,
                    21.854932455182833,
                    21.922439989308867,
                    21.977527115437272,
                    22.038075341632627,
                    22.112665380212253,
                    22.207450820438606,
                    22.2674642277727,
                    22.30861295870227,
                    22.358332576520127,
                    22.45590973789993,
                    22.57624307098791,
                    22.639864934799757,
                    22.712403028964687,
                    22.80495391324014,
                    22.876492681489456,
                    22.936224712727523,
                    22.986495636516196,
                    23.039262299785605,
                    23.137555387128156,
                    23.279795555933738,
                    23.339599315787794,
                    23.409417473870477,
                    23.47164943712294,
                    23.52848465036535,
                    23.618096883198092,
                    23.67686276465232,
                    23.77831570315598,
                    23.83026846440062,
                    23.893792952710342,
                    23.946399553568604,
                    24.04487097537252,
                    24.135565698853718,
                    24.21480740897288,
                    24.28652769688269,
                    24.331213161672622,
                    24.388758215598955,
                    24.532056785582483,
                    24.63328900297387,
                    24.68733018269936,
                    24.805995336121594,
                    24.88102173713069,
                    25.017093158388136,
                    25.07254720670789,
                    25.225206887981862,
                    25.330562347181328,
                    25.41798935392562,
                    25.530446147517445,
                    25.654248718392957,
                    25.69382621348935,
                    25.745410094974137,
                    25.845283779548403,
                    25.9291786994587,
                    26.012013177656435,
                    26.07461652485307,
                    26.15758275774847,
                    26.290691183138165,
                    26.377148161895608,
                    26.481095652372915,
                    26.611274959381607,
                    26.67208630924067,
                    26.78337918895673,
                    26.855575588191535,
                    26.954273418416655,
                    27.009533144410145,
                    27.078916886186107,
                    27.147856827600876,
                    27.293576603775254,
                    27.401459313565987,
                    27.46729743470469,
                    27.56428579238792,
                    27.65157563702885,
                    27.762385140159502,
                    27.842824242255652,
                    28.003688925100903,
                    28.097791897191353,
                    28.239714654787534,
                    28.33428805280085,
                    28.392886480479035,
                    28.537263087989395,
                    28.621059591072797,
                    28.81213443347272,
                    28.93143880164972,
                    29.043459890466966,
                    29.13981684796652,
                    29.223034892120296,
                    29.342228077421726,
                    29.458094758810027,
                    29.58345059914217,
                    29.71616896047252,
                    29.86332383020136,
                    29.99929576025784,
                    30.090729442354323,
                    30.204691348545463,
                    30.386060419394536,
                    30.539003712401534,
                    30.66517058449167,
                    30.80325783283225,
                    30.909445144085975,
                    31.02602056568437,
                    31.116571771552685,
                    31.32349723547339,
                    31.420793043557655,
                    31.632539932002004,
                    31.726771934457332,
                    31.92221702287313,
                    32.00474407168811,
                    32.130405821762594,
                    32.243943336969686,
                    32.38242302887414,
                    32.49832162633659,
                    32.614335099633436,
                    32.72441148872074,
                    32.85113969751153,
                    32.99540148406993,
                    33.11403177056107,
                    33.30893685447525,
                    33.48040784170867,
                    33.62792857283178,
                    33.70012597297401,
                    33.87036437137681,
                    34.004824927513056,
                    34.21849416728396,
                    34.35649718387428,
                    34.48415032910048,
                    34.58784828734619,
                    34.72118082519448,
                    34.87528265522779,
                    35.01861763920846,
                    35.29997258742112,
                    35.508501756750924,
                    35.64362118663704,
                    35.89417817847903,
                    36.01862438670874,
                    36.2079441952003,
                    36.34248926285322,
                    36.521492063161,
                    36.72783972762318,
                    36.94173744570054,
                    37.11956797047927,
                    37.337813507411354,
                    37.49897462541143,
                    37.76760769094015,
                    37.97649506004001,
                    38.24546511689729,
                    38.708165651538884,
                    38.97434412405062,
                    39.200914857739264,
                    39.49877842892069,
                    39.69662697611254,
                    40.02358511907592,
                    40.29245994224475,
                    40.559238614452326,
                    40.83338645140145,
                    41.10737603200546,
                    41.24527567863662,
                    41.52495246729028,
                    41.80963762451114,
                    42.04902812402795,
                    42.298835096094116,
                    42.531947299319,
                    42.78160796405176,
                    42.965200933046575,
                    43.229153857436195,
                    43.488013706846694,
                    43.92744076425193,
                    44.315283929645034,
                    44.84078574563037,
                    45.44468674756915,
                    45.75807744354869,
                    46.588372367150455,
                    47.12671787015603,
                    47.64298769420465,
                    48.258239363109084,
                    48.77915149207047,
                    49.128030436323975,
                    49.52619179814065,
                    49.89434692431778,
                    50.40534182774531,
                    50.97030090799552,
                    52.1529200253796,
                    53.09957669169265,
                    53.686611958993424,
                    54.53598077495552,
                    55.4128958051448,
                    56.87022402617223,
                    57.54173566164168,
                    58.81084401336375,
                    59.859557628609195,
                    60.98420235998752,
                    62.719385353595904,
                    63.64570843457854,
                    67.07971182734937,
                    70.39863958333831,
                    73.76621057678516,
                    81.37003321449481
                  ],
                  "y": [
                    0.00010592070459672281,
                    0.00026728675705235845,
                    0.0006059210748471423,
                    0.0008786770313143229,
                    0.0010974599909376894,
                    0.0014672305947702313,
                    0.0024777796341803647,
                    0.003297436570739007,
                    0.003579891313497513,
                    0.0039024198446600115,
                    0.003910824155013254,
                    0.003923896614332254,
                    0.004095543016026638,
                    0.005026181756971462,
                    0.005300343472336675,
                    0.0064654987919962915,
                    0.008818396026467182,
                    0.01034077373329338,
                    0.013386154155906082,
                    0.013493186157048663,
                    0.015540029730675382,
                    0.01776163254283742,
                    0.018424606190170653,
                    0.01890676973549204,
                    0.019078357328411136,
                    0.01936741084758381,
                    0.020234059645779356,
                    0.02044146466018547,
                    0.02066598749820567,
                    0.02178887140539782,
                    0.023213656093071057,
                    0.02484146307267001,
                    0.02616923659185346,
                    0.027074788311419296,
                    0.028627163156741117,
                    0.030514313068878526,
                    0.03210900159785081,
                    0.0321970106390852,
                    0.03352564617363876,
                    0.03651983520217669,
                    0.04003468935397157,
                    0.04278829421625745,
                    0.04391250724725973,
                    0.044924623159659186,
                    0.04665849900882933,
                    0.04825572713251085,
                    0.04987318457873788,
                    0.0532479095502576,
                    0.0616203313167544,
                    0.06759408407145523,
                    0.07294536451132788,
                    0.07845300646606698,
                    0.08309328848195868,
                    0.08340421328337089,
                    0.08386575090408041,
                    0.08483383173249798,
                    0.08583728457605239,
                    0.08604564770315279,
                    0.08846195115736984,
                    0.09360789548835229,
                    0.09392355197973312,
                    0.09429134937475962,
                    0.09440634702054887,
                    0.09599510891304397,
                    0.09858942416675578,
                    0.09983543508136121,
                    0.1003933935158643,
                    0.10571959538688808,
                    0.1110035618458033,
                    0.11595386437906663,
                    0.12251976483279217,
                    0.12459333141755864,
                    0.12536970424799987,
                    0.12606481648832585,
                    0.1272236821533041,
                    0.12811398616082253,
                    0.12914374717598795,
                    0.1323846782304813,
                    0.13843848918868523,
                    0.14187938262916033,
                    0.1435738318258809,
                    0.1493043185172233,
                    0.15359677859042742,
                    0.15476768346140302,
                    0.1560227247878188,
                    0.15677933138047961,
                    0.1591849962030023,
                    0.16368654955024325,
                    0.16506712635891574,
                    0.16779273387748367,
                    0.17194055407606995,
                    0.17609056309010934,
                    0.17779998679123252,
                    0.17943256205993524,
                    0.18598646234254254,
                    0.19251086002767503,
                    0.20178066617800927,
                    0.21202617464174006,
                    0.21442311587343277,
                    0.21480865677731661,
                    0.21636941018659353,
                    0.22020794537677102,
                    0.2271101538611801,
                    0.23297428248019464,
                    0.23381255255667405,
                    0.23655269939941354,
                    0.24197095363972893,
                    0.24522841048699678,
                    0.24729081555502902,
                    0.2508037019268935,
                    0.2529191646861045,
                    0.2532511558889753,
                    0.255122216948923,
                    0.2692423498026271,
                    0.2836012328723987,
                    0.28603370996368327,
                    0.2870595292344017,
                    0.2882875715266602,
                    0.2898283620430799,
                    0.29509068357712104,
                    0.29546568666354867,
                    0.29607597206186864,
                    0.2981416433590088,
                    0.30155509649756673,
                    0.30598060404181887,
                    0.3105597804749381,
                    0.3139105330657447,
                    0.31593213643072604,
                    0.3167326597507295,
                    0.31718341244084747,
                    0.31899875445914144,
                    0.3214975647737986,
                    0.326396415938578,
                    0.33372832483996295,
                    0.338276019644136,
                    0.3423371974716898,
                    0.3462620553108366,
                    0.35309765497522705,
                    0.3611779805796578,
                    0.3639271165423575,
                    0.3672088047709864,
                    0.3709590082249036,
                    0.3732376828132961,
                    0.3810566571318034,
                    0.3840131571348108,
                    0.3846749241883419,
                    0.38948677814018534,
                    0.39444309010210454,
                    0.39698590853573085,
                    0.3999348916668364,
                    0.40118978113684256,
                    0.4013396631281253,
                    0.40331490249828644,
                    0.40673300053599526,
                    0.41179327909521457,
                    0.41659891702937946,
                    0.420478108886641,
                    0.42733242365110236,
                    0.43185019607498465,
                    0.43239600259025707,
                    0.4334696810013027,
                    0.44058266052607503,
                    0.4474902402888591,
                    0.44858584384076583,
                    0.4520637371602501,
                    0.4642199338889249,
                    0.4808995059382333,
                    0.48877119770230126,
                    0.49422397197581536,
                    0.5001799164379583,
                    0.502115220311636,
                    0.5086602766071969,
                    0.5142481325266437,
                    0.5332168136526516,
                    0.5376753004281692,
                    0.551747115366471,
                    0.5582877978080324,
                    0.5705171057881582,
                    0.5782741345415968,
                    0.5860859494449342,
                    0.5923275008157345,
                    0.5956147917275072,
                    0.5991787644593463,
                    0.6011738144656124,
                    0.6031855489628279,
                    0.6040835116393543,
                    0.6131726656852772,
                    0.6229922872555829,
                    0.6370130653960071,
                    0.6565549821631538,
                    0.6636276544587774,
                    0.6711615311573804,
                    0.6866704561820183,
                    0.696324485328278,
                    0.6975832650717457,
                    0.7021812565723183,
                    0.7117957625891977,
                    0.7195574058126936,
                    0.7226056765809291,
                    0.7277034566281628,
                    0.7346136186862757,
                    0.7382502979896951,
                    0.7465710414035205,
                    0.7678485334505925,
                    0.7919395883127877,
                    0.7950782353515201,
                    0.8070207305349034,
                    0.807409876596199,
                    0.8176362560392375,
                    0.8274707150757616,
                    0.8394389625636135,
                    0.8438916520183739,
                    0.8469180931523812,
                    0.8491542359254385,
                    0.8616605539073803,
                    0.8732879401379586,
                    0.8739914086535328,
                    0.8800124688201811,
                    0.8932660453235906,
                    0.9012555843891681,
                    0.9096411104281672,
                    0.9177028224210296,
                    0.9192505905722672,
                    0.9205008134512717,
                    0.9253785139032544,
                    0.9306046878590053,
                    0.9348427523070414,
                    0.9576915734413909,
                    0.9790314054960081,
                    0.9887275303592653,
                    1.002708846279528,
                    1.016123174145346,
                    1.0233394465607568,
                    1.0258829512025023,
                    1.0321909508479772,
                    1.0384632065106263,
                    1.0428219114911932,
                    1.0480428042934395,
                    1.0561816859678594,
                    1.062676006664625,
                    1.063514092660938,
                    1.0676153563378374,
                    1.074455696694332,
                    1.0795129152485528,
                    1.081204003757024,
                    1.0814158086794114,
                    1.0829354794986454,
                    1.0855682191770084,
                    1.089381414103956,
                    1.0965760491632608,
                    1.1020986380950082,
                    1.108060938755536,
                    1.113785885924289,
                    1.1145911409548643,
                    1.1154282118963565,
                    1.1184937982055996,
                    1.122973559642838,
                    1.1253494999359002,
                    1.125804149210778,
                    1.1294067993509527,
                    1.1431304372833546,
                    1.154749394208019,
                    1.1657727877856192,
                    1.1787659689290462,
                    1.206895635462956,
                    1.2322251415278718,
                    1.233787076757464,
                    1.2367520851215348,
                    1.2396928617809575,
                    1.2413559249643662,
                    1.25307642348199,
                    1.265886825782709,
                    1.272462537298115,
                    1.2798151351728484,
                    1.2827928200045149,
                    1.2924025920096998,
                    1.3091483978147664,
                    1.31870534275855,
                    1.3259373339825467,
                    1.334331264968698,
                    1.343800834261458,
                    1.36703830820599,
                    1.3885374684023635,
                    1.4113568050277903,
                    1.4180239148347538,
                    1.4197836627704097,
                    1.420519533244661,
                    1.4240832987158676,
                    1.4299848468722296,
                    1.4309281135372176,
                    1.4339457974945082,
                    1.4441231838782094,
                    1.4586351418660475,
                    1.475863383092348,
                    1.4869994987651594,
                    1.4919024277793285,
                    1.5113808905838053,
                    1.526926255627838,
                    1.5377820983988717,
                    1.5502993087698194,
                    1.5596353295892451,
                    1.570131181268971,
                    1.573828744508045,
                    1.5741369844521702,
                    1.5852714320337058,
                    1.599457279706518,
                    1.6032464148504406,
                    1.6078315820519027,
                    1.6142579331341256,
                    1.6178654149406906,
                    1.6210186681870855,
                    1.6234046066971721,
                    1.6335397984991957,
                    1.6467153579517373,
                    1.65414373522185,
                    1.6604319594269563,
                    1.6697836954734102,
                    1.6795255273081957,
                    1.6956598521314414,
                    1.7101532875397338,
                    1.7135207578967622,
                    1.7211385440393228,
                    1.726453141285134,
                    1.7335775702416467,
                    1.7436769526427143,
                    1.7531936660227396,
                    1.760589394466248,
                    1.7690797794768685,
                    1.7803730887094749,
                    1.7862681003630976,
                    1.7890020460754839,
                    1.790353696382844,
                    1.796103191254109,
                    1.8093535971677868,
                    1.8261919919793557,
                    1.8352699731862128,
                    1.8395024651694794,
                    1.8476150233600594,
                    1.8561306519228833,
                    1.8730386503453782,
                    1.886895251826013,
                    1.8893915487763584,
                    1.897755061626326,
                    1.9174458477264387,
                    1.9305378607437094,
                    1.935208954001327,
                    1.9428154865812197,
                    1.9504985659031864,
                    1.966917868904445,
                    1.9669990061841203,
                    1.9691218407708986,
                    1.9750516481227975,
                    1.9871412956567371,
                    2.008343667728041,
                    2.028825818481705,
                    2.041119032130978,
                    2.042282752086198,
                    2.062629701211886,
                    2.0913209835454865,
                    2.1001504989544744,
                    2.1082920549316064,
                    2.1295147830754866,
                    2.14335187346234,
                    2.1478410660672878,
                    2.1523493866041745,
                    2.1536087496435465,
                    2.154899451361517,
                    2.1572683280797555,
                    2.1619584552771354,
                    2.165361280989606,
                    2.1666342668027525,
                    2.1717683644098242,
                    2.1812111235619858,
                    2.1937134806838006,
                    2.213609315677033,
                    2.229983926537818,
                    2.268817386828311,
                    2.3052138070921595,
                    2.314252160181513,
                    2.3219724436588187,
                    2.326366575502473,
                    2.3337197590757963,
                    2.3403020681445508,
                    2.3555383160774395,
                    2.3707051230731766,
                    2.3750531529021224,
                    2.3900784762220404,
                    2.406513228501252,
                    2.424254778455494,
                    2.4464706626398494,
                    2.455550440763097,
                    2.4581574776761976,
                    2.4748300267535934,
                    2.49140306113278,
                    2.4971786967240197,
                    2.5041169351028367,
                    2.514966430169858,
                    2.5427664540346266,
                    2.562452756860294,
                    2.5640259211649004,
                    2.5674226820713484,
                    2.572856894089843,
                    2.5753752881442944,
                    2.581710773825761,
                    2.5879422385052404,
                    2.6058287850796464,
                    2.6307842677096533,
                    2.6411165238447696,
                    2.6483171440586206,
                    2.674649484761166,
                    2.6834798773753614,
                    2.697166771347854,
                    2.7247084240836448,
                    2.743143054910496,
                    2.7624089165257746,
                    2.770205573994806,
                    2.7781542340884275,
                    2.7811803165036117,
                    2.7918637464793816,
                    2.8009890196634317,
                    2.807788329538648,
                    2.814267984485097,
                    2.8210016264809368,
                    2.8279663702002225,
                    2.8299664911009925,
                    2.8525766725992803,
                    2.877055331452662,
                    2.8805250552484334,
                    2.8888195744461536,
                    2.904462273370084,
                    2.920003782917624,
                    2.9339590868850003,
                    2.9480647430033216,
                    2.958060842680171,
                    2.965043170935358,
                    2.994308330995678,
                    3.0195814606797087,
                    3.02341193588843,
                    3.0321749962545264,
                    3.0403737329190514,
                    3.04722463121872,
                    3.051837555544774,
                    3.0536231018395226,
                    3.0548598518227363,
                    3.061401066640003,
                    3.0713731722517013,
                    3.0756638214990346,
                    3.080855714935568,
                    3.0853831802500036,
                    3.085786306658889,
                    3.0895655748207616,
                    3.0996964053364846,
                    3.1096871212910955,
                    3.123494946973735,
                    3.1537335993153395,
                    3.176763754051886,
                    3.1819946991141714,
                    3.191800852733983,
                    3.229935545967302,
                    3.2670834172976404,
                    3.2764181773537686,
                    3.2905606974647488,
                    3.309745647557622,
                    3.320369440475117,
                    3.3265780061339116,
                    3.335376184686031,
                    3.353066933923575,
                    3.3755737178306298,
                    3.3867901478285054,
                    3.3909591979067226,
                    3.396346825771341,
                    3.408844665381069,
                    3.4092099391487234,
                    3.42333066278535,
                    3.443395394836335,
                    3.448133789350431,
                    3.4502732796629894,
                    3.458224354674032,
                    3.4615128395251684,
                    3.5422550334051217,
                    3.544188273899582,
                    3.5461491156806346,
                    3.5461808349745603,
                    3.5542064048734496,
                    3.571524207356161,
                    3.583863733874762,
                    3.5975198575622267,
                    3.6201124310174677,
                    3.6437706504029777,
                    3.658218038698649,
                    3.6625015022900076,
                    3.669402413501369,
                    3.6892293759203247,
                    3.709190410171894,
                    3.7257707604277255,
                    3.7416770962171113,
                    3.7473115297866917,
                    3.7549608146939857,
                    3.7682253901847007,
                    3.7780132054291125,
                    3.8049424444987165,
                    3.828844104477894,
                    3.8337470420837785,
                    3.8435801361702255,
                    3.8667734475775584,
                    3.8853486864641615,
                    3.889945059027963,
                    3.9077279098880693,
                    3.9218774026108214,
                    3.933124044078971,
                    3.959398431685369,
                    3.991097487579629,
                    4.0081938528988434,
                    4.018529696131663,
                    4.03748795538688,
                    4.0518351884341985,
                    4.060496304992577,
                    4.071607585802672,
                    4.080849071024192,
                    4.089518032038823,
                    4.100437496015522,
                    4.118743708346926,
                    4.157859994428298,
                    4.186543890266416,
                    4.194098763060106,
                    4.201413698375481,
                    4.2073028743291605,
                    4.213468726324361,
                    4.219252758253844,
                    4.221875718032378,
                    4.222890869127154,
                    4.2263530799697175,
                    4.230162014494036,
                    4.2312987952787395,
                    4.236857351354608,
                    4.245867358498631,
                    4.2534688807398044,
                    4.261418857153467,
                    4.283327798239263,
                    4.302401440227609,
                    4.310480956895468,
                    4.321229662309516,
                    4.343762771825053,
                    4.363241793626216,
                    4.382584326057351,
                    4.400866615161833,
                    4.403077136386704,
                    4.409698868482459,
                    4.45414831724356,
                    4.506884992690067,
                    4.521398560772207,
                    4.527963919424966,
                    4.5334652558741935,
                    4.565689231933447,
                    4.6052263335811645,
                    4.619129101020074,
                    4.626080521936747,
                    4.628363417078282,
                    4.633374712095111,
                    4.656676114038315,
                    4.681533984770708,
                    4.688840203149363,
                    4.693154343918385,
                    4.699104355753918,
                    4.72744335299938,
                    4.759327907293586,
                    4.793109714935051,
                    4.817849975495094,
                    4.832619407497214,
                    4.850947543080936,
                    4.887638073452471,
                    4.900986517619061,
                    4.946108594824416,
                    4.947925485955672,
                    4.9804060645900154,
                    5.013505316360049,
                    5.049527144265752,
                    5.050095229958729,
                    5.051343227668793,
                    5.056568279485139,
                    5.065814022932225,
                    5.0758487687960345,
                    5.08243091869466,
                    5.088288215136024,
                    5.093280438372094,
                    5.1140981880158485,
                    5.139405867767931,
                    5.152931767239661,
                    5.164439513720959,
                    5.185732267728573,
                    5.218771228828284,
                    5.233468237718274,
                    5.233609430888794,
                    5.233704161515521,
                    5.234535152481833,
                    5.238157102757846,
                    5.253601992934535,
                    5.285780181383553,
                    5.3060814460371875,
                    5.332049945376058,
                    5.36679299302638,
                    5.378357992464635,
                    5.414846918525411,
                    5.450170197659112,
                    5.455885524241751,
                    5.469109606247962,
                    5.47963430523439,
                    5.483023217062717,
                    5.497194615048752,
                    5.517820998843897,
                    5.541005977345639,
                    5.582484501566938,
                    5.610095280904857,
                    5.6290547094620775,
                    5.64934727005516,
                    5.657111801935827,
                    5.672319293381207,
                    5.683967502136857,
                    5.691112147737831,
                    5.697627275060208,
                    5.698350336756963,
                    5.7110171897005175,
                    5.725189537370747,
                    5.72699688367563,
                    5.7275996933438265,
                    5.7396574898806465,
                    5.765160049847556,
                    5.784965695276076,
                    5.791861853252675,
                    5.812808069072291,
                    5.835536590001789,
                    5.846586462392494,
                    5.878195122915473,
                    5.917612506411848,
                    5.93693485136581,
                    5.957152034963999,
                    5.99205539917094,
                    6.016720758623095,
                    6.03412374021789,
                    6.053325600438645,
                    6.086440185034855,
                    6.124785917105809,
                    6.139797759349337,
                    6.158206664518984,
                    6.179454152597949,
                    6.192588453784744,
                    6.211440542522283,
                    6.240025890789802,
                    6.262175598707398,
                    6.308731432997982,
                    6.353687783435389,
                    6.3697872816022585,
                    6.39184383950409,
                    6.4187746699999,
                    6.456774303356738,
                    6.481394173345778,
                    6.490835280016223,
                    6.525084306470739,
                    6.560308220895452,
                    6.570985862657805,
                    6.592973338557769,
                    6.608803239062617,
                    6.615089758419513,
                    6.625466406702966,
                    6.637932354132879,
                    6.646886198188794,
                    6.661855163164942,
                    6.715483236186466,
                    6.7550122602822205,
                    6.774921817221818,
                    6.798086618576036,
                    6.801888811901765,
                    6.808372025836361,
                    6.820218681655721,
                    6.84045504104701,
                    6.861391145554432,
                    6.876285140356781,
                    6.896250113640834,
                    6.928323276316612,
                    6.9664884163103045,
                    6.993740188905877,
                    7.0071379165005805,
                    7.015241058616358,
                    7.038341648716878,
                    7.066696072076235,
                    7.086781825921991,
                    7.101743424342381,
                    7.10968196517094,
                    7.126862334551834,
                    7.1409084508701755,
                    7.1682745308723765,
                    7.185884950117829,
                    7.205221567951426,
                    7.207730735272122,
                    7.243444720086109,
                    7.243604445079062,
                    7.259999721829295,
                    7.281764019243661,
                    7.290493214812249,
                    7.300237823849632,
                    7.312239453206744,
                    7.315190074327002,
                    7.3285353024363165,
                    7.339804105455499,
                    7.362136624690001,
                    7.394238367945258,
                    7.435481389398728,
                    7.474162600511699,
                    7.506398765875669,
                    7.544084743657016,
                    7.561730402546969,
                    7.577459693141504,
                    7.5941791405233285,
                    7.602986673840361,
                    7.626640503552607,
                    7.654577463160147,
                    7.662790430236837,
                    7.667797284778057,
                    7.677023662477872,
                    7.706351728345037,
                    7.741418473677811,
                    7.7729962709421025,
                    7.820039496527329,
                    7.872340700441268,
                    7.91151398765315,
                    7.938960301381984,
                    7.973208483682885,
                    8.01760013512248,
                    8.046770015522515,
                    8.051907980820758,
                    8.070314411658433,
                    8.090158500677004,
                    8.142781118575932,
                    8.201069577646056,
                    8.213088736635815,
                    8.225238973094868,
                    8.233645449377368,
                    8.258966998624903,
                    8.28344361972311,
                    8.290678156829056,
                    8.309366672597132,
                    8.323202536192298,
                    8.331153817187452,
                    8.33761485534902,
                    8.347099988689935,
                    8.386854851854029,
                    8.420421356339485,
                    8.424318722173512,
                    8.42579491202851,
                    8.44929584140522,
                    8.487882611534989,
                    8.524867044578421,
                    8.555958512871918,
                    8.570487160361747,
                    8.578487555557789,
                    8.598535362903927,
                    8.6189121989989,
                    8.623961578722728,
                    8.642368509235077,
                    8.66549577566502,
                    8.680438442101043,
                    8.689243480319501,
                    8.71208570477593,
                    8.742963395394206,
                    8.768740917646243,
                    8.798907970042215,
                    8.83230603195203,
                    8.85399371850077,
                    8.87081166712726,
                    8.893501405340956,
                    8.92755497545578,
                    8.956625021706255,
                    8.966009199766363,
                    8.986862592255994,
                    9.00719373607308,
                    9.015160679666224,
                    9.021885877265676,
                    9.029680325929446,
                    9.039645534265134,
                    9.059490992306316,
                    9.086754827296645,
                    9.161302880487526,
                    9.255665894558888,
                    9.32638677666401,
                    9.369910954268022,
                    9.398196397739373,
                    9.434594892232454,
                    9.470923159473864,
                    9.492532105982777,
                    9.521271820644515,
                    9.548945604988235,
                    9.552141037120453,
                    9.556352756996766,
                    9.64393312721973,
                    9.73655684369999,
                    9.751287357081573,
                    9.762665973343477,
                    9.78697724899889,
                    9.826555103579505,
                    9.883076292459775,
                    9.939981243001547,
                    9.995202766150413,
                    10.03639884883492,
                    10.046753740878398,
                    10.056995623791385,
                    10.065272634279278,
                    10.080731369058652,
                    10.097983101350753,
                    10.138052457956926,
                    10.175399593212326,
                    10.331361708082248,
                    10.512815028900498,
                    10.548239030919884,
                    10.584304324251086,
                    10.616209017790359,
                    10.701624391035374,
                    10.708151464754607,
                    10.927747896740184,
                    11.03493472318138,
                    11.07871222158363,
                    11.079425924978503,
                    11.154089728709575,
                    11.161035728304135,
                    11.216749871755617,
                    11.254419065826415,
                    11.316346292180993,
                    11.323134398844918,
                    11.325787766662858,
                    11.367396143528413,
                    11.398503762535832,
                    11.51631026884675,
                    11.522095046818096,
                    11.606386011135099,
                    11.661573373327439,
                    11.721935992758056,
                    11.733244614822723,
                    11.762409881856293,
                    11.803988469054925,
                    11.823103097195936,
                    11.842889804299396,
                    11.880584160068823,
                    11.932952985812681,
                    12.01593586886441,
                    12.07580083721064,
                    12.165490041386892,
                    12.249313318615219,
                    12.257036881949755,
                    12.277932928953458,
                    12.305380368879518,
                    12.336874955780115,
                    12.373294669527514,
                    12.42372495886457,
                    12.479014832519027,
                    12.500943206859866,
                    12.54621312950713,
                    12.596230943724962,
                    12.612629309544428,
                    12.632960932278312,
                    12.667618404677093,
                    12.719115307520688,
                    12.74991318033013,
                    12.77766772865662,
                    12.868407800166029,
                    12.977750321663638,
                    13.04445811092942,
                    13.081433608217782,
                    13.10869805324523,
                    13.13083136610096,
                    13.226318250307152,
                    13.332369071306942,
                    13.37284294755117,
                    13.394715904972966,
                    13.426404384226636,
                    13.484704304272148,
                    13.583051867217293,
                    13.666645252404127,
                    13.694942535954883,
                    13.737542487723147,
                    13.788114435998745,
                    13.848961943051474,
                    13.915298320583872,
                    14.01735459408582,
                    14.128527855165963,
                    14.1778472581642,
                    14.192391195205236,
                    14.243590519598353,
                    14.295000665319531,
                    14.319646887282213,
                    14.370231183182419,
                    14.452370539926907,
                    14.522736011372462,
                    14.596995089288262,
                    14.680451409600472,
                    14.765252951857857,
                    14.847409264311654,
                    14.916802062252685,
                    15.006943846454146,
                    15.105986033904943,
                    15.199468358200237,
                    15.239490312264124,
                    15.280308664773921,
                    15.365037647855262,
                    15.415543866529099,
                    15.492445846795029,
                    15.567891712449143,
                    15.57702331831549,
                    15.625647756755122,
                    15.69566676925207,
                    15.728656357259354,
                    15.737426362847746,
                    15.774144255223852,
                    15.868760741187629,
                    15.936498456791647,
                    15.972524720010153,
                    16.00084923871533,
                    16.064087356764457,
                    16.151184458813074,
                    16.230223346884227,
                    16.35794355017475,
                    16.490147084667832,
                    16.60552815684894,
                    16.751081789963628,
                    16.860437751598674,
                    16.956705029808376,
                    17.095030441689087,
                    17.166699525436876,
                    17.215583521047392,
                    17.349445148288694,
                    17.471667316781964,
                    17.52819089477113,
                    17.6368855540268,
                    17.752934057095477,
                    17.79586072391239,
                    17.857526212844455,
                    17.935537977965335,
                    18.054596219384756,
                    18.17904327283572,
                    18.264911065588834,
                    18.345995182622463,
                    18.494547518616436,
                    18.815395899159466,
                    18.928603648281708,
                    19.04861371425763,
                    19.062353082526126,
                    19.124205589004816,
                    19.12890037019871,
                    19.506908010680505,
                    19.50948520890765,
                    19.5342618080369,
                    19.555048905336662,
                    19.62623672614948,
                    19.86285580477931,
                    19.89333716413982,
                    20.138230557170914,
                    20.180369754802296,
                    20.364247296996165,
                    20.8139056726898,
                    20.897478819881627,
                    20.941046143191752,
                    21.112158886547974,
                    21.132209084514088,
                    21.15286928398782,
                    21.15797033395843,
                    21.222613099215828,
                    21.30631704841969,
                    21.484139125689033,
                    21.89874210840788,
                    22.27803217374209,
                    22.443661180608636,
                    22.553063924468887,
                    22.667978023825317,
                    22.869201175500052,
                    23.026531858114957,
                    23.083253117224878,
                    23.170807590693393,
                    23.547585721197088,
                    23.911418968350898,
                    24.273318827316803,
                    24.83661450354996,
                    25.07635340247216,
                    25.270690836083933,
                    25.661908744492038,
                    25.9934571311047,
                    26.429067495467805,
                    26.846374630455752,
                    27.03686290528588,
                    27.70381452397782,
                    28.43113504390598,
                    29.017316156286824,
                    29.709335229043482,
                    30.055834368747167,
                    30.2269741260919,
                    30.467114984773005,
                    30.93324116223403,
                    31.686583189568374,
                    32.25508182780878,
                    33.4377447880335,
                    34.89290875642841,
                    35.748445465931354,
                    38.097029862767
                  ],
                  "type": "scatter"
                },
                {
                  "line": {
                    "color": "blue",
                    "dash": "dash",
                    "width": 2
                  },
                  "showlegend": false,
                  "x": [
                    2.562894280491009e-7,
                    0.00002453311665112591,
                    0.0002135306007952836,
                    0.00039384040718099824,
                    0.0006446596421196675,
                    0.0009765532963779371,
                    0.0014992163052517777,
                    0.0020349388611332333,
                    0.0024605972523927995,
                    0.0035658371777849062,
                    0.004242061346301566,
                    0.004953358734139277,
                    0.0059825901571242315,
                    0.007596148757515743,
                    0.009261195035428152,
                    0.012398747429523623,
                    0.013717621997527872,
                    0.015430710109774856,
                    0.0171991097863383,
                    0.01862934212915148,
                    0.021758185715905286,
                    0.023517277557960955,
                    0.025236206140657233,
                    0.027384401177840495,
                    0.028706900556297918,
                    0.0316069372888953,
                    0.03370356931401851,
                    0.035995072990522056,
                    0.037656098809024104,
                    0.038771317807521036,
                    0.04142510333435936,
                    0.045799570240821694,
                    0.04782961708828526,
                    0.05127014164313634,
                    0.05451469603152355,
                    0.057828270487346435,
                    0.0607451306186586,
                    0.06382215128478391,
                    0.06734860667789719,
                    0.0712173802590027,
                    0.07378024154256095,
                    0.08166363488393,
                    0.0849921282828289,
                    0.08987928267850782,
                    0.09344916392136288,
                    0.09599527942101402,
                    0.10063205166480185,
                    0.10513252547923534,
                    0.10848934854736703,
                    0.11429779734840367,
                    0.12206551535895549,
                    0.12616510069876802,
                    0.1341605604941959,
                    0.13974656225561644,
                    0.14864720507261195,
                    0.15585703916691646,
                    0.16248312701864337,
                    0.16854980366424666,
                    0.17475826580763248,
                    0.18258435991510985,
                    0.1879732779759572,
                    0.1985876830811404,
                    0.20586445017743077,
                    0.21180881127436957,
                    0.21624972152133665,
                    0.2249994651682714,
                    0.2353765750177811,
                    0.24231119503652265,
                    0.2515189133511089,
                    0.25952120570184517,
                    0.264911565469389,
                    0.27505113172606344,
                    0.2842586740371545,
                    0.29127777495572044,
                    0.29956117742701016,
                    0.3056732036239137,
                    0.31162073143531077,
                    0.31590975181095626,
                    0.3245628069555666,
                    0.33288217638376993,
                    0.34127524158184813,
                    0.34544262870740383,
                    0.3515905246282719,
                    0.3549438365415142,
                    0.36139055961849265,
                    0.3688501670629612,
                    0.3786304832960535,
                    0.388616663584427,
                    0.3965069617127737,
                    0.40217956019095114,
                    0.4097409911261094,
                    0.42029114693587855,
                    0.42453062986094847,
                    0.43514058097929653,
                    0.4443411040880378,
                    0.46065450490377496,
                    0.4693777386024087,
                    0.479748238468023,
                    0.4902233655721262,
                    0.4957460669004042,
                    0.5059695622134119,
                    0.5187013126953225,
                    0.5273825905754747,
                    0.5416733305066821,
                    0.5485239039467467,
                    0.5549361658541881,
                    0.5674482156378875,
                    0.5765576671520627,
                    0.5881093840424274,
                    0.6052914909938993,
                    0.6201308289869102,
                    0.6297715285411472,
                    0.6402477816086704,
                    0.6529158762423564,
                    0.6622001945415656,
                    0.6724755266760881,
                    0.6907109398081144,
                    0.6989228342874139,
                    0.7101292194751909,
                    0.7174405689366332,
                    0.724169155777318,
                    0.7333364755286245,
                    0.7498856859884063,
                    0.7545732244955359,
                    0.762495987955406,
                    0.7731397376455666,
                    0.7827017300692929,
                    0.8001268984768024,
                    0.8120131760942875,
                    0.8188733056827336,
                    0.831424518938312,
                    0.8400450017282295,
                    0.8470979280098201,
                    0.8592767194756927,
                    0.870770080642278,
                    0.8825983187433382,
                    0.8964223305559964,
                    0.9007451232016981,
                    0.9110896890216954,
                    0.9276645825500269,
                    0.9424617545078628,
                    0.9533422245079016,
                    0.9674026980317316,
                    0.9775140340251073,
                    0.9912700623006491,
                    1.0027794952688704,
                    1.0177166608702737,
                    1.0329442402551443,
                    1.0417828789468628,
                    1.0511448259996348,
                    1.0719234982248027,
                    1.0806313602844186,
                    1.0980019925220001,
                    1.1142249407029472,
                    1.1297527027268521,
                    1.1468308077572273,
                    1.1583023140139599,
                    1.1747904728261513,
                    1.1888497264530924,
                    1.2013968658696839,
                    1.2266711050300612,
                    1.2370893502060794,
                    1.2494219239849844,
                    1.2581943734624685,
                    1.2742955083004102,
                    1.2849478264404204,
                    1.2934181550961947,
                    1.3120297370173803,
                    1.3288133459674174,
                    1.3415402567160983,
                    1.3514626013905353,
                    1.3725760400065075,
                    1.3917827469655415,
                    1.4010476510760195,
                    1.4191974994561622,
                    1.432105795314213,
                    1.4529196490419625,
                    1.4678169021354024,
                    1.4778561436791353,
                    1.5002473271355963,
                    1.5215718138632135,
                    1.54295878717976,
                    1.5568370174388044,
                    1.5699038378352337,
                    1.5853495443619612,
                    1.6062733162471687,
                    1.6269988370812105,
                    1.656297732057546,
                    1.6683527562855653,
                    1.6860173525601336,
                    1.7002535228136328,
                    1.7156187699621968,
                    1.7244012463608085,
                    1.739825374437208,
                    1.75975954737812,
                    1.7849101218420897,
                    1.7994664387269328,
                    1.812804744067542,
                    1.829971884392334,
                    1.8461035816087534,
                    1.8640467796678228,
                    1.8893454954680642,
                    1.9004295771069553,
                    1.9196596081565662,
                    1.9365429891470685,
                    1.9499300743652839,
                    1.9679147481830785,
                    1.9849658738037692,
                    2.0048270290207775,
                    2.018874801087022,
                    2.0443487807544845,
                    2.0677306910812208,
                    2.0801191006396937,
                    2.114763967188591,
                    2.131630642240842,
                    2.148352380070762,
                    2.1690742415840747,
                    2.1837140064328326,
                    2.1983208342279994,
                    2.2153206395256717,
                    2.236185683377358,
                    2.2492338848781843,
                    2.265621255147999,
                    2.2856659103696115,
                    2.3098131823779857,
                    2.330356696702708,
                    2.342731260654133,
                    2.3578453278364497,
                    2.376603613639471,
                    2.3933312118291656,
                    2.4202583573723233,
                    2.4445476285341767,
                    2.4594708019070493,
                    2.477123381224041,
                    2.5011430781110713,
                    2.5198943582383087,
                    2.5505565028296155,
                    2.5653917609601393,
                    2.586640989973745,
                    2.610814507375981,
                    2.6231303642534276,
                    2.6378582757564852,
                    2.658685988911699,
                    2.676153216380085,
                    2.6943113154632043,
                    2.714530335830802,
                    2.7371593191122168,
                    2.7569330281104683,
                    2.781209221972637,
                    2.8026795940138127,
                    2.8146802373145214,
                    2.8302337092354337,
                    2.8701567772626304,
                    2.8988125184946583,
                    2.919891706885337,
                    2.9431038154319076,
                    2.9541408505487734,
                    2.971960157751332,
                    2.98826357479556,
                    3.0094603890164717,
                    3.0224040008738458,
                    3.03728633253324,
                    3.0535604186032663,
                    3.0713491745774757,
                    3.101909247647004,
                    3.123461083840695,
                    3.1372550326122792,
                    3.156539671504401,
                    3.1679266801042214,
                    3.1774994147613294,
                    3.1953009344043,
                    3.2121245032817933,
                    3.2317811242337475,
                    3.258400358146905,
                    3.278084177630324,
                    3.2934591570900102,
                    3.316434253682376,
                    3.3344187472316786,
                    3.3465233160270884,
                    3.375280009912983,
                    3.391668913901752,
                    3.415829664781696,
                    3.4301046031836107,
                    3.4536043937061818,
                    3.473120429672501,
                    3.4856080126497346,
                    3.509587258877075,
                    3.5362347363524425,
                    3.5566578860869353,
                    3.5797122560962142,
                    3.59491682553356,
                    3.61169775132137,
                    3.6331151990595227,
                    3.6512227509346644,
                    3.6827956925711316,
                    3.7071087509925587,
                    3.728584685687634,
                    3.745684352911559,
                    3.772860211518053,
                    3.792517240098183,
                    3.8153394360655133,
                    3.847785107470563,
                    3.8745720397046717,
                    3.898456793980727,
                    3.9135055102400385,
                    3.9272806440532326,
                    3.967704570757318,
                    3.9957848910095537,
                    4.025806877445636,
                    4.041874996365177,
                    4.065416505645578,
                    4.08954992434817,
                    4.104449385339281,
                    4.131677262111573,
                    4.157004862525195,
                    4.191620577712651,
                    4.214654990055063,
                    4.241436712891979,
                    4.259107351308463,
                    4.283423266859815,
                    4.291880725937097,
                    4.319289963412284,
                    4.347497132874074,
                    4.360818913836482,
                    4.377137435389101,
                    4.393205160401189,
                    4.425726901578278,
                    4.446984799255723,
                    4.476288405580569,
                    4.493507877193437,
                    4.517858191325537,
                    4.549344890055883,
                    4.572261528160688,
                    4.600813064153355,
                    4.619027790760812,
                    4.657352965277699,
                    4.6827942504273725,
                    4.703350488543325,
                    4.721072870561867,
                    4.744991386441493,
                    4.754007279802479,
                    4.768295698646365,
                    4.784889241686271,
                    4.803792108345134,
                    4.814856634436708,
                    4.843769938286818,
                    4.867812529016976,
                    4.908147910742304,
                    4.934781029597556,
                    4.967236759528256,
                    5.001327235267709,
                    5.013162285453271,
                    5.02953493242209,
                    5.055374216948395,
                    5.07420958320953,
                    5.112064070188707,
                    5.130101279688121,
                    5.145223269576734,
                    5.181542295069805,
                    5.213142473545832,
                    5.239891404079014,
                    5.261440061920839,
                    5.273985145985756,
                    5.2872971554374,
                    5.31171380012367,
                    5.3325300731434355,
                    5.368861389250463,
                    5.3861344832281715,
                    5.400501855112088,
                    5.415505252606167,
                    5.435515895762462,
                    5.4673845102821375,
                    5.4879505623779625,
                    5.5056557359322404,
                    5.532185920512864,
                    5.549729217029125,
                    5.566742337256906,
                    5.60079979254621,
                    5.609611876591917,
                    5.631673469263544,
                    5.662266277997476,
                    5.687555985298573,
                    5.699099828926975,
                    5.71761385894926,
                    5.744430402482258,
                    5.770375853216313,
                    5.784207923242947,
                    5.7974953556075475,
                    5.820059513882951,
                    5.848497315978442,
                    5.870013335269361,
                    5.888907692174257,
                    5.927595377554704,
                    5.957224577312674,
                    5.9800249314603695,
                    6.000053527749317,
                    6.01536281646111,
                    6.029668320413437,
                    6.052167287405124,
                    6.076151558736944,
                    6.0891107678624925,
                    6.111167704991201,
                    6.1302446350705155,
                    6.161052149218913,
                    6.182444926997914,
                    6.219751020735755,
                    6.245811684824273,
                    6.288016163790699,
                    6.309320916478761,
                    6.354709639349399,
                    6.394259112545289,
                    6.413817705553433,
                    6.430012358625838,
                    6.463880221474085,
                    6.479696536269982,
                    6.507954726302474,
                    6.540259081476319,
                    6.571736685882668,
                    6.593313117346977,
                    6.624538242945757,
                    6.654100472327583,
                    6.672352325738077,
                    6.700058885331282,
                    6.728700949247965,
                    6.739815077847688,
                    6.765840240232812,
                    6.797867748140928,
                    6.8293721572777955,
                    6.878770636171017,
                    6.906235548777998,
                    6.9278273234235375,
                    6.953132638817149,
                    6.988455885708157,
                    7.015554211132974,
                    7.041466850907241,
                    7.068387897430409,
                    7.1003772182195615,
                    7.13335465152268,
                    7.148887007615148,
                    7.166124627466676,
                    7.184911232259757,
                    7.203359110753127,
                    7.2340294222338954,
                    7.283672815519216,
                    7.307829460429177,
                    7.3327022286388654,
                    7.3667428873975815,
                    7.387803812539488,
                    7.416941387591605,
                    7.443166265395151,
                    7.466002829066454,
                    7.49045636413658,
                    7.519442960289055,
                    7.528294376183172,
                    7.54487421645015,
                    7.562950562317749,
                    7.582639445676831,
                    7.616196154177204,
                    7.654913222456479,
                    7.696412242308998,
                    7.730267093758664,
                    7.769303577398931,
                    7.806380910728697,
                    7.835396351473827,
                    7.864954955216559,
                    7.884255609302549,
                    7.902528439659928,
                    7.930157797464295,
                    7.954970866624773,
                    8.002050624028968,
                    8.025021181786133,
                    8.037714820959698,
                    8.057746579151136,
                    8.078679665657733,
                    8.107720500453523,
                    8.145056270028295,
                    8.176220755216697,
                    8.194450337098232,
                    8.210710164284613,
                    8.224616444670996,
                    8.246445011327545,
                    8.281562781051075,
                    8.299355599303627,
                    8.324142644557352,
                    8.350777537600727,
                    8.382402381552254,
                    8.417707267786032,
                    8.451634699038337,
                    8.481079882371292,
                    8.519171991804647,
                    8.553529592864066,
                    8.584213157424152,
                    8.611871642683568,
                    8.652014052210948,
                    8.682505658777641,
                    8.718283227305623,
                    8.762664848818378,
                    8.781327319661806,
                    8.7954948751859,
                    8.83267425464497,
                    8.8551374711912,
                    8.888665368186079,
                    8.906513972160944,
                    8.926439263041338,
                    8.947577477004685,
                    8.978036432802092,
                    9.006711082553036,
                    9.035804040286973,
                    9.058847961954008,
                    9.079281118597326,
                    9.133177351217647,
                    9.15143211570486,
                    9.173199682862723,
                    9.19725292615134,
                    9.21516948078471,
                    9.238059339007922,
                    9.280027944782777,
                    9.322597957408998,
                    9.356973721030828,
                    9.372464929934278,
                    9.391699973931512,
                    9.427807460688724,
                    9.458970893245604,
                    9.477784938751526,
                    9.53671560283969,
                    9.568020235048373,
                    9.598738175044431,
                    9.624132963166431,
                    9.677495374048583,
                    9.708070609593332,
                    9.749233881574426,
                    9.796187953148706,
                    9.834849894464092,
                    9.85749101036258,
                    9.90146957438057,
                    9.94634671873103,
                    9.989190422950415,
                    10.014928952887932,
                    10.033624946465036,
                    10.074051523792074,
                    10.110819555049076,
                    10.143208419575814,
                    10.17770802759955,
                    10.209597905712315,
                    10.230782503498727,
                    10.266181465335686,
                    10.300879421888155,
                    10.335219101926636,
                    10.35740222196137,
                    10.386436033388842,
                    10.415789223765929,
                    10.443813660602064,
                    10.483647668253816,
                    10.503276294325758,
                    10.540156349569667,
                    10.562106328600118,
                    10.606969004094866,
                    10.632659488661194,
                    10.654480468296558,
                    10.678690325177445,
                    10.714239133824053,
                    10.754232566030561,
                    10.785605329193935,
                    10.806407737022093,
                    10.839332675956522,
                    10.887329446893133,
                    10.919928987041125,
                    10.946093116538785,
                    10.98094699131189,
                    11.006411013997937,
                    11.03459627150061,
                    11.07340120663502,
                    11.112405239192647,
                    11.148523438248017,
                    11.198995714031497,
                    11.240652837539956,
                    11.265429962811057,
                    11.2920257214538,
                    11.312266135970265,
                    11.345271659778494,
                    11.35742850978146,
                    11.393079808531636,
                    11.434559621368617,
                    11.45889035670336,
                    11.494073912565844,
                    11.521276686020329,
                    11.53513619086553,
                    11.56191494806313,
                    11.588752675066885,
                    11.627798490987137,
                    11.693724573237748,
                    11.71974293287302,
                    11.749134588615451,
                    11.7675679778683,
                    11.819604442077104,
                    11.86612277779891,
                    11.897817067839007,
                    11.929141405751958,
                    11.963571679694073,
                    11.99234138213075,
                    12.025400606735234,
                    12.060298793985545,
                    12.091254506230067,
                    12.141259928962361,
                    12.191147379727717,
                    12.21250409287034,
                    12.239426540806477,
                    12.26988671437997,
                    12.302602137225662,
                    12.333834952156078,
                    12.360462751474188,
                    12.392918522936942,
                    12.419651830109707,
                    12.456002409683446,
                    12.492164316205077,
                    12.532678822610281,
                    12.558472888699114,
                    12.586145227500499,
                    12.60998311677419,
                    12.632453506409298,
                    12.676190570787874,
                    12.720809389648414,
                    12.750269169259427,
                    12.770733600294573,
                    12.811898367805611,
                    12.864666491890663,
                    12.88993137318985,
                    12.93154183496717,
                    12.964806205521029,
                    13.01035384789438,
                    13.04332345407953,
                    13.06899318907738,
                    13.1053079304216,
                    13.14996253832242,
                    13.198514417641988,
                    13.232136754124156,
                    13.273210046141728,
                    13.31334756645282,
                    13.338893119444151,
                    13.372118199147085,
                    13.407649723547191,
                    13.458732363454674,
                    13.517312110375162,
                    13.568022844413328,
                    13.59948653774241,
                    13.63637703184783,
                    13.687936090396331,
                    13.729494215716555,
                    13.774405471649686,
                    13.800169236103725,
                    13.821357397462585,
                    13.874801165487852,
                    13.936017437097924,
                    13.979860419970844,
                    14.017828410733655,
                    14.056485883735258,
                    14.122443268108526,
                    14.137908577218957,
                    14.171169165013158,
                    14.239908981469384,
                    14.29907494831117,
                    14.360612811456418,
                    14.403358301987016,
                    14.437331718469146,
                    14.493249917174793,
                    14.527971714174502,
                    14.557404379550624,
                    14.592047404786966,
                    14.633212471227498,
                    14.677823018492763,
                    14.698368182035303,
                    14.728250801995301,
                    14.79321454390075,
                    14.827856000789712,
                    14.894706206194904,
                    14.92284846194351,
                    14.94260040460663,
                    14.985940848445416,
                    15.023677785358577,
                    15.05182092971037,
                    15.137202151889703,
                    15.183438390611277,
                    15.209261221539021,
                    15.299768724132322,
                    15.360344004139042,
                    15.435894391042137,
                    15.472075152467422,
                    15.520366116825492,
                    15.568779068291892,
                    15.62736509580111,
                    15.666115224300157,
                    15.698803495500055,
                    15.753555588677095,
                    15.784275456307334,
                    15.82189820953701,
                    15.856421262228382,
                    15.90119041973623,
                    15.937686614115293,
                    15.979043148240173,
                    16.013685629432484,
                    16.074574686294007,
                    16.11137949761322,
                    16.142318360156125,
                    16.177929008014658,
                    16.206875400502753,
                    16.256607642704274,
                    16.309628644472834,
                    16.386743226860787,
                    16.42390350252588,
                    16.47064062028704,
                    16.529235252532477,
                    16.613045868165003,
                    16.64870940067439,
                    16.667172491667532,
                    16.713305323477595,
                    16.782940630360727,
                    16.815528209594696,
                    16.890659864994987,
                    16.97792852164757,
                    17.02490366823197,
                    17.069596720399545,
                    17.12966802610442,
                    17.183546935005037,
                    17.234391731005154,
                    17.27162001384933,
                    17.324124514358537,
                    17.379798450198823,
                    17.426744309185786,
                    17.505288961425038,
                    17.54809420194062,
                    17.5748084234339,
                    17.62534811650604,
                    17.69129865237202,
                    17.756616372427033,
                    17.831068325425836,
                    17.87735051085754,
                    17.914348116183078,
                    17.9707251603229,
                    18.025650190933383,
                    18.090735301436887,
                    18.1618762850917,
                    18.20775120114873,
                    18.27074884090262,
                    18.290627824028977,
                    18.342202967892085,
                    18.437632459472695,
                    18.475746058440404,
                    18.547401035039037,
                    18.620134919649324,
                    18.669227568053905,
                    18.728829606801348,
                    18.77158242446881,
                    18.83931857755457,
                    18.893220843156598,
                    18.942577327107088,
                    19.006096580963344,
                    19.046219570317383,
                    19.072552883554508,
                    19.121006904723494,
                    19.176544382869338,
                    19.221115541260914,
                    19.25252918511197,
                    19.309658344538594,
                    19.37823196021296,
                    19.41412726197973,
                    19.49154572244747,
                    19.543979862326353,
                    19.60393750896438,
                    19.657880903184946,
                    19.7058595464864,
                    19.75725121315547,
                    19.789327870890624,
                    19.849599016046362,
                    19.896138050317134,
                    19.940942067000478,
                    20.014849976562346,
                    20.071132814623823,
                    20.146231748826466,
                    20.194272635761678,
                    20.250003146501186,
                    20.342976104396598,
                    20.388111172714275,
                    20.440562645840927,
                    20.46924091629104,
                    20.504584371551466,
                    20.56551900787285,
                    20.611508157668297,
                    20.690835123093557,
                    20.755870617156358,
                    20.790286446988762,
                    20.9190691287749,
                    20.951306445387715,
                    21.01001803843622,
                    21.055192873817198,
                    21.09746475137786,
                    21.157532452089832,
                    21.211386226071156,
                    21.278705997596372,
                    21.360959558285572,
                    21.450438416859953,
                    21.520447623808877,
                    21.60108506316408,
                    21.67044092615696,
                    21.733171239580674,
                    21.780263837496502,
                    21.854932455182833,
                    21.922439989308867,
                    21.977527115437272,
                    22.038075341632627,
                    22.112665380212253,
                    22.207450820438606,
                    22.2674642277727,
                    22.30861295870227,
                    22.358332576520127,
                    22.45590973789993,
                    22.57624307098791,
                    22.639864934799757,
                    22.712403028964687,
                    22.80495391324014,
                    22.876492681489456,
                    22.936224712727523,
                    22.986495636516196,
                    23.039262299785605,
                    23.137555387128156,
                    23.279795555933738,
                    23.339599315787794,
                    23.409417473870477,
                    23.47164943712294,
                    23.52848465036535,
                    23.618096883198092,
                    23.67686276465232,
                    23.77831570315598,
                    23.83026846440062,
                    23.893792952710342,
                    23.946399553568604,
                    24.04487097537252,
                    24.135565698853718,
                    24.21480740897288,
                    24.28652769688269,
                    24.331213161672622,
                    24.388758215598955,
                    24.532056785582483,
                    24.63328900297387,
                    24.68733018269936,
                    24.805995336121594,
                    24.88102173713069,
                    25.017093158388136,
                    25.07254720670789,
                    25.225206887981862,
                    25.330562347181328,
                    25.41798935392562,
                    25.530446147517445,
                    25.654248718392957,
                    25.69382621348935,
                    25.745410094974137,
                    25.845283779548403,
                    25.9291786994587,
                    26.012013177656435,
                    26.07461652485307,
                    26.15758275774847,
                    26.290691183138165,
                    26.377148161895608,
                    26.481095652372915,
                    26.611274959381607,
                    26.67208630924067,
                    26.78337918895673,
                    26.855575588191535,
                    26.954273418416655,
                    27.009533144410145,
                    27.078916886186107,
                    27.147856827600876,
                    27.293576603775254,
                    27.401459313565987,
                    27.46729743470469,
                    27.56428579238792,
                    27.65157563702885,
                    27.762385140159502,
                    27.842824242255652,
                    28.003688925100903,
                    28.097791897191353,
                    28.239714654787534,
                    28.33428805280085,
                    28.392886480479035,
                    28.537263087989395,
                    28.621059591072797,
                    28.81213443347272,
                    28.93143880164972,
                    29.043459890466966,
                    29.13981684796652,
                    29.223034892120296,
                    29.342228077421726,
                    29.458094758810027,
                    29.58345059914217,
                    29.71616896047252,
                    29.86332383020136,
                    29.99929576025784,
                    30.090729442354323,
                    30.204691348545463,
                    30.386060419394536,
                    30.539003712401534,
                    30.66517058449167,
                    30.80325783283225,
                    30.909445144085975,
                    31.02602056568437,
                    31.116571771552685,
                    31.32349723547339,
                    31.420793043557655,
                    31.632539932002004,
                    31.726771934457332,
                    31.92221702287313,
                    32.00474407168811,
                    32.130405821762594,
                    32.243943336969686,
                    32.38242302887414,
                    32.49832162633659,
                    32.614335099633436,
                    32.72441148872074,
                    32.85113969751153,
                    32.99540148406993,
                    33.11403177056107,
                    33.30893685447525,
                    33.48040784170867,
                    33.62792857283178,
                    33.70012597297401,
                    33.87036437137681,
                    34.004824927513056,
                    34.21849416728396,
                    34.35649718387428,
                    34.48415032910048,
                    34.58784828734619,
                    34.72118082519448,
                    34.87528265522779,
                    35.01861763920846,
                    35.29997258742112,
                    35.508501756750924,
                    35.64362118663704,
                    35.89417817847903,
                    36.01862438670874,
                    36.2079441952003,
                    36.34248926285322,
                    36.521492063161,
                    36.72783972762318,
                    36.94173744570054,
                    37.11956797047927,
                    37.337813507411354,
                    37.49897462541143,
                    37.76760769094015,
                    37.97649506004001,
                    38.24546511689729,
                    38.708165651538884,
                    38.97434412405062,
                    39.200914857739264,
                    39.49877842892069,
                    39.69662697611254,
                    40.02358511907592,
                    40.29245994224475,
                    40.559238614452326,
                    40.83338645140145,
                    41.10737603200546,
                    41.24527567863662,
                    41.52495246729028,
                    41.80963762451114,
                    42.04902812402795,
                    42.298835096094116,
                    42.531947299319,
                    42.78160796405176,
                    42.965200933046575,
                    43.229153857436195,
                    43.488013706846694,
                    43.92744076425193,
                    44.315283929645034,
                    44.84078574563037,
                    45.44468674756915,
                    45.75807744354869,
                    46.588372367150455,
                    47.12671787015603,
                    47.64298769420465,
                    48.258239363109084,
                    48.77915149207047,
                    49.128030436323975,
                    49.52619179814065,
                    49.89434692431778,
                    50.40534182774531,
                    50.97030090799552,
                    52.1529200253796,
                    53.09957669169265,
                    53.686611958993424,
                    54.53598077495552,
                    55.4128958051448,
                    56.87022402617223,
                    57.54173566164168,
                    58.81084401336375,
                    59.859557628609195,
                    60.98420235998752,
                    62.719385353595904,
                    63.64570843457854,
                    67.07971182734937,
                    70.39863958333831,
                    73.76621057678516,
                    81.37003321449481
                  ],
                  "y": [
                    2.562894280491009e-7,
                    0.00002453311665112591,
                    0.0002135306007952836,
                    0.00039384040718099824,
                    0.0006446596421196675,
                    0.0009765532963779371,
                    0.0014992163052517777,
                    0.0020349388611332333,
                    0.0024605972523927995,
                    0.0035658371777849062,
                    0.004242061346301566,
                    0.004953358734139277,
                    0.0059825901571242315,
                    0.007596148757515743,
                    0.009261195035428152,
                    0.012398747429523623,
                    0.013717621997527872,
                    0.015430710109774856,
                    0.0171991097863383,
                    0.01862934212915148,
                    0.021758185715905286,
                    0.023517277557960955,
                    0.025236206140657233,
                    0.027384401177840495,
                    0.028706900556297918,
                    0.0316069372888953,
                    0.03370356931401851,
                    0.035995072990522056,
                    0.037656098809024104,
                    0.038771317807521036,
                    0.04142510333435936,
                    0.045799570240821694,
                    0.04782961708828526,
                    0.05127014164313634,
                    0.05451469603152355,
                    0.057828270487346435,
                    0.0607451306186586,
                    0.06382215128478391,
                    0.06734860667789719,
                    0.0712173802590027,
                    0.07378024154256095,
                    0.08166363488393,
                    0.0849921282828289,
                    0.08987928267850782,
                    0.09344916392136288,
                    0.09599527942101402,
                    0.10063205166480185,
                    0.10513252547923534,
                    0.10848934854736703,
                    0.11429779734840367,
                    0.12206551535895549,
                    0.12616510069876802,
                    0.1341605604941959,
                    0.13974656225561644,
                    0.14864720507261195,
                    0.15585703916691646,
                    0.16248312701864337,
                    0.16854980366424666,
                    0.17475826580763248,
                    0.18258435991510985,
                    0.1879732779759572,
                    0.1985876830811404,
                    0.20586445017743077,
                    0.21180881127436957,
                    0.21624972152133665,
                    0.2249994651682714,
                    0.2353765750177811,
                    0.24231119503652265,
                    0.2515189133511089,
                    0.25952120570184517,
                    0.264911565469389,
                    0.27505113172606344,
                    0.2842586740371545,
                    0.29127777495572044,
                    0.29956117742701016,
                    0.3056732036239137,
                    0.31162073143531077,
                    0.31590975181095626,
                    0.3245628069555666,
                    0.33288217638376993,
                    0.34127524158184813,
                    0.34544262870740383,
                    0.3515905246282719,
                    0.3549438365415142,
                    0.36139055961849265,
                    0.3688501670629612,
                    0.3786304832960535,
                    0.388616663584427,
                    0.3965069617127737,
                    0.40217956019095114,
                    0.4097409911261094,
                    0.42029114693587855,
                    0.42453062986094847,
                    0.43514058097929653,
                    0.4443411040880378,
                    0.46065450490377496,
                    0.4693777386024087,
                    0.479748238468023,
                    0.4902233655721262,
                    0.4957460669004042,
                    0.5059695622134119,
                    0.5187013126953225,
                    0.5273825905754747,
                    0.5416733305066821,
                    0.5485239039467467,
                    0.5549361658541881,
                    0.5674482156378875,
                    0.5765576671520627,
                    0.5881093840424274,
                    0.6052914909938993,
                    0.6201308289869102,
                    0.6297715285411472,
                    0.6402477816086704,
                    0.6529158762423564,
                    0.6622001945415656,
                    0.6724755266760881,
                    0.6907109398081144,
                    0.6989228342874139,
                    0.7101292194751909,
                    0.7174405689366332,
                    0.724169155777318,
                    0.7333364755286245,
                    0.7498856859884063,
                    0.7545732244955359,
                    0.762495987955406,
                    0.7731397376455666,
                    0.7827017300692929,
                    0.8001268984768024,
                    0.8120131760942875,
                    0.8188733056827336,
                    0.831424518938312,
                    0.8400450017282295,
                    0.8470979280098201,
                    0.8592767194756927,
                    0.870770080642278,
                    0.8825983187433382,
                    0.8964223305559964,
                    0.9007451232016981,
                    0.9110896890216954,
                    0.9276645825500269,
                    0.9424617545078628,
                    0.9533422245079016,
                    0.9674026980317316,
                    0.9775140340251073,
                    0.9912700623006491,
                    1.0027794952688704,
                    1.0177166608702737,
                    1.0329442402551443,
                    1.0417828789468628,
                    1.0511448259996348,
                    1.0719234982248027,
                    1.0806313602844186,
                    1.0980019925220001,
                    1.1142249407029472,
                    1.1297527027268521,
                    1.1468308077572273,
                    1.1583023140139599,
                    1.1747904728261513,
                    1.1888497264530924,
                    1.2013968658696839,
                    1.2266711050300612,
                    1.2370893502060794,
                    1.2494219239849844,
                    1.2581943734624685,
                    1.2742955083004102,
                    1.2849478264404204,
                    1.2934181550961947,
                    1.3120297370173803,
                    1.3288133459674174,
                    1.3415402567160983,
                    1.3514626013905353,
                    1.3725760400065075,
                    1.3917827469655415,
                    1.4010476510760195,
                    1.4191974994561622,
                    1.432105795314213,
                    1.4529196490419625,
                    1.4678169021354024,
                    1.4778561436791353,
                    1.5002473271355963,
                    1.5215718138632135,
                    1.54295878717976,
                    1.5568370174388044,
                    1.5699038378352337,
                    1.5853495443619612,
                    1.6062733162471687,
                    1.6269988370812105,
                    1.656297732057546,
                    1.6683527562855653,
                    1.6860173525601336,
                    1.7002535228136328,
                    1.7156187699621968,
                    1.7244012463608085,
                    1.739825374437208,
                    1.75975954737812,
                    1.7849101218420897,
                    1.7994664387269328,
                    1.812804744067542,
                    1.829971884392334,
                    1.8461035816087534,
                    1.8640467796678228,
                    1.8893454954680642,
                    1.9004295771069553,
                    1.9196596081565662,
                    1.9365429891470685,
                    1.9499300743652839,
                    1.9679147481830785,
                    1.9849658738037692,
                    2.0048270290207775,
                    2.018874801087022,
                    2.0443487807544845,
                    2.0677306910812208,
                    2.0801191006396937,
                    2.114763967188591,
                    2.131630642240842,
                    2.148352380070762,
                    2.1690742415840747,
                    2.1837140064328326,
                    2.1983208342279994,
                    2.2153206395256717,
                    2.236185683377358,
                    2.2492338848781843,
                    2.265621255147999,
                    2.2856659103696115,
                    2.3098131823779857,
                    2.330356696702708,
                    2.342731260654133,
                    2.3578453278364497,
                    2.376603613639471,
                    2.3933312118291656,
                    2.4202583573723233,
                    2.4445476285341767,
                    2.4594708019070493,
                    2.477123381224041,
                    2.5011430781110713,
                    2.5198943582383087,
                    2.5505565028296155,
                    2.5653917609601393,
                    2.586640989973745,
                    2.610814507375981,
                    2.6231303642534276,
                    2.6378582757564852,
                    2.658685988911699,
                    2.676153216380085,
                    2.6943113154632043,
                    2.714530335830802,
                    2.7371593191122168,
                    2.7569330281104683,
                    2.781209221972637,
                    2.8026795940138127,
                    2.8146802373145214,
                    2.8302337092354337,
                    2.8701567772626304,
                    2.8988125184946583,
                    2.919891706885337,
                    2.9431038154319076,
                    2.9541408505487734,
                    2.971960157751332,
                    2.98826357479556,
                    3.0094603890164717,
                    3.0224040008738458,
                    3.03728633253324,
                    3.0535604186032663,
                    3.0713491745774757,
                    3.101909247647004,
                    3.123461083840695,
                    3.1372550326122792,
                    3.156539671504401,
                    3.1679266801042214,
                    3.1774994147613294,
                    3.1953009344043,
                    3.2121245032817933,
                    3.2317811242337475,
                    3.258400358146905,
                    3.278084177630324,
                    3.2934591570900102,
                    3.316434253682376,
                    3.3344187472316786,
                    3.3465233160270884,
                    3.375280009912983,
                    3.391668913901752,
                    3.415829664781696,
                    3.4301046031836107,
                    3.4536043937061818,
                    3.473120429672501,
                    3.4856080126497346,
                    3.509587258877075,
                    3.5362347363524425,
                    3.5566578860869353,
                    3.5797122560962142,
                    3.59491682553356,
                    3.61169775132137,
                    3.6331151990595227,
                    3.6512227509346644,
                    3.6827956925711316,
                    3.7071087509925587,
                    3.728584685687634,
                    3.745684352911559,
                    3.772860211518053,
                    3.792517240098183,
                    3.8153394360655133,
                    3.847785107470563,
                    3.8745720397046717,
                    3.898456793980727,
                    3.9135055102400385,
                    3.9272806440532326,
                    3.967704570757318,
                    3.9957848910095537,
                    4.025806877445636,
                    4.041874996365177,
                    4.065416505645578,
                    4.08954992434817,
                    4.104449385339281,
                    4.131677262111573,
                    4.157004862525195,
                    4.191620577712651,
                    4.214654990055063,
                    4.241436712891979,
                    4.259107351308463,
                    4.283423266859815,
                    4.291880725937097,
                    4.319289963412284,
                    4.347497132874074,
                    4.360818913836482,
                    4.377137435389101,
                    4.393205160401189,
                    4.425726901578278,
                    4.446984799255723,
                    4.476288405580569,
                    4.493507877193437,
                    4.517858191325537,
                    4.549344890055883,
                    4.572261528160688,
                    4.600813064153355,
                    4.619027790760812,
                    4.657352965277699,
                    4.6827942504273725,
                    4.703350488543325,
                    4.721072870561867,
                    4.744991386441493,
                    4.754007279802479,
                    4.768295698646365,
                    4.784889241686271,
                    4.803792108345134,
                    4.814856634436708,
                    4.843769938286818,
                    4.867812529016976,
                    4.908147910742304,
                    4.934781029597556,
                    4.967236759528256,
                    5.001327235267709,
                    5.013162285453271,
                    5.02953493242209,
                    5.055374216948395,
                    5.07420958320953,
                    5.112064070188707,
                    5.130101279688121,
                    5.145223269576734,
                    5.181542295069805,
                    5.213142473545832,
                    5.239891404079014,
                    5.261440061920839,
                    5.273985145985756,
                    5.2872971554374,
                    5.31171380012367,
                    5.3325300731434355,
                    5.368861389250463,
                    5.3861344832281715,
                    5.400501855112088,
                    5.415505252606167,
                    5.435515895762462,
                    5.4673845102821375,
                    5.4879505623779625,
                    5.5056557359322404,
                    5.532185920512864,
                    5.549729217029125,
                    5.566742337256906,
                    5.60079979254621,
                    5.609611876591917,
                    5.631673469263544,
                    5.662266277997476,
                    5.687555985298573,
                    5.699099828926975,
                    5.71761385894926,
                    5.744430402482258,
                    5.770375853216313,
                    5.784207923242947,
                    5.7974953556075475,
                    5.820059513882951,
                    5.848497315978442,
                    5.870013335269361,
                    5.888907692174257,
                    5.927595377554704,
                    5.957224577312674,
                    5.9800249314603695,
                    6.000053527749317,
                    6.01536281646111,
                    6.029668320413437,
                    6.052167287405124,
                    6.076151558736944,
                    6.0891107678624925,
                    6.111167704991201,
                    6.1302446350705155,
                    6.161052149218913,
                    6.182444926997914,
                    6.219751020735755,
                    6.245811684824273,
                    6.288016163790699,
                    6.309320916478761,
                    6.354709639349399,
                    6.394259112545289,
                    6.413817705553433,
                    6.430012358625838,
                    6.463880221474085,
                    6.479696536269982,
                    6.507954726302474,
                    6.540259081476319,
                    6.571736685882668,
                    6.593313117346977,
                    6.624538242945757,
                    6.654100472327583,
                    6.672352325738077,
                    6.700058885331282,
                    6.728700949247965,
                    6.739815077847688,
                    6.765840240232812,
                    6.797867748140928,
                    6.8293721572777955,
                    6.878770636171017,
                    6.906235548777998,
                    6.9278273234235375,
                    6.953132638817149,
                    6.988455885708157,
                    7.015554211132974,
                    7.041466850907241,
                    7.068387897430409,
                    7.1003772182195615,
                    7.13335465152268,
                    7.148887007615148,
                    7.166124627466676,
                    7.184911232259757,
                    7.203359110753127,
                    7.2340294222338954,
                    7.283672815519216,
                    7.307829460429177,
                    7.3327022286388654,
                    7.3667428873975815,
                    7.387803812539488,
                    7.416941387591605,
                    7.443166265395151,
                    7.466002829066454,
                    7.49045636413658,
                    7.519442960289055,
                    7.528294376183172,
                    7.54487421645015,
                    7.562950562317749,
                    7.582639445676831,
                    7.616196154177204,
                    7.654913222456479,
                    7.696412242308998,
                    7.730267093758664,
                    7.769303577398931,
                    7.806380910728697,
                    7.835396351473827,
                    7.864954955216559,
                    7.884255609302549,
                    7.902528439659928,
                    7.930157797464295,
                    7.954970866624773,
                    8.002050624028968,
                    8.025021181786133,
                    8.037714820959698,
                    8.057746579151136,
                    8.078679665657733,
                    8.107720500453523,
                    8.145056270028295,
                    8.176220755216697,
                    8.194450337098232,
                    8.210710164284613,
                    8.224616444670996,
                    8.246445011327545,
                    8.281562781051075,
                    8.299355599303627,
                    8.324142644557352,
                    8.350777537600727,
                    8.382402381552254,
                    8.417707267786032,
                    8.451634699038337,
                    8.481079882371292,
                    8.519171991804647,
                    8.553529592864066,
                    8.584213157424152,
                    8.611871642683568,
                    8.652014052210948,
                    8.682505658777641,
                    8.718283227305623,
                    8.762664848818378,
                    8.781327319661806,
                    8.7954948751859,
                    8.83267425464497,
                    8.8551374711912,
                    8.888665368186079,
                    8.906513972160944,
                    8.926439263041338,
                    8.947577477004685,
                    8.978036432802092,
                    9.006711082553036,
                    9.035804040286973,
                    9.058847961954008,
                    9.079281118597326,
                    9.133177351217647,
                    9.15143211570486,
                    9.173199682862723,
                    9.19725292615134,
                    9.21516948078471,
                    9.238059339007922,
                    9.280027944782777,
                    9.322597957408998,
                    9.356973721030828,
                    9.372464929934278,
                    9.391699973931512,
                    9.427807460688724,
                    9.458970893245604,
                    9.477784938751526,
                    9.53671560283969,
                    9.568020235048373,
                    9.598738175044431,
                    9.624132963166431,
                    9.677495374048583,
                    9.708070609593332,
                    9.749233881574426,
                    9.796187953148706,
                    9.834849894464092,
                    9.85749101036258,
                    9.90146957438057,
                    9.94634671873103,
                    9.989190422950415,
                    10.014928952887932,
                    10.033624946465036,
                    10.074051523792074,
                    10.110819555049076,
                    10.143208419575814,
                    10.17770802759955,
                    10.209597905712315,
                    10.230782503498727,
                    10.266181465335686,
                    10.300879421888155,
                    10.335219101926636,
                    10.35740222196137,
                    10.386436033388842,
                    10.415789223765929,
                    10.443813660602064,
                    10.483647668253816,
                    10.503276294325758,
                    10.540156349569667,
                    10.562106328600118,
                    10.606969004094866,
                    10.632659488661194,
                    10.654480468296558,
                    10.678690325177445,
                    10.714239133824053,
                    10.754232566030561,
                    10.785605329193935,
                    10.806407737022093,
                    10.839332675956522,
                    10.887329446893133,
                    10.919928987041125,
                    10.946093116538785,
                    10.98094699131189,
                    11.006411013997937,
                    11.03459627150061,
                    11.07340120663502,
                    11.112405239192647,
                    11.148523438248017,
                    11.198995714031497,
                    11.240652837539956,
                    11.265429962811057,
                    11.2920257214538,
                    11.312266135970265,
                    11.345271659778494,
                    11.35742850978146,
                    11.393079808531636,
                    11.434559621368617,
                    11.45889035670336,
                    11.494073912565844,
                    11.521276686020329,
                    11.53513619086553,
                    11.56191494806313,
                    11.588752675066885,
                    11.627798490987137,
                    11.693724573237748,
                    11.71974293287302,
                    11.749134588615451,
                    11.7675679778683,
                    11.819604442077104,
                    11.86612277779891,
                    11.897817067839007,
                    11.929141405751958,
                    11.963571679694073,
                    11.99234138213075,
                    12.025400606735234,
                    12.060298793985545,
                    12.091254506230067,
                    12.141259928962361,
                    12.191147379727717,
                    12.21250409287034,
                    12.239426540806477,
                    12.26988671437997,
                    12.302602137225662,
                    12.333834952156078,
                    12.360462751474188,
                    12.392918522936942,
                    12.419651830109707,
                    12.456002409683446,
                    12.492164316205077,
                    12.532678822610281,
                    12.558472888699114,
                    12.586145227500499,
                    12.60998311677419,
                    12.632453506409298,
                    12.676190570787874,
                    12.720809389648414,
                    12.750269169259427,
                    12.770733600294573,
                    12.811898367805611,
                    12.864666491890663,
                    12.88993137318985,
                    12.93154183496717,
                    12.964806205521029,
                    13.01035384789438,
                    13.04332345407953,
                    13.06899318907738,
                    13.1053079304216,
                    13.14996253832242,
                    13.198514417641988,
                    13.232136754124156,
                    13.273210046141728,
                    13.31334756645282,
                    13.338893119444151,
                    13.372118199147085,
                    13.407649723547191,
                    13.458732363454674,
                    13.517312110375162,
                    13.568022844413328,
                    13.59948653774241,
                    13.63637703184783,
                    13.687936090396331,
                    13.729494215716555,
                    13.774405471649686,
                    13.800169236103725,
                    13.821357397462585,
                    13.874801165487852,
                    13.936017437097924,
                    13.979860419970844,
                    14.017828410733655,
                    14.056485883735258,
                    14.122443268108526,
                    14.137908577218957,
                    14.171169165013158,
                    14.239908981469384,
                    14.29907494831117,
                    14.360612811456418,
                    14.403358301987016,
                    14.437331718469146,
                    14.493249917174793,
                    14.527971714174502,
                    14.557404379550624,
                    14.592047404786966,
                    14.633212471227498,
                    14.677823018492763,
                    14.698368182035303,
                    14.728250801995301,
                    14.79321454390075,
                    14.827856000789712,
                    14.894706206194904,
                    14.92284846194351,
                    14.94260040460663,
                    14.985940848445416,
                    15.023677785358577,
                    15.05182092971037,
                    15.137202151889703,
                    15.183438390611277,
                    15.209261221539021,
                    15.299768724132322,
                    15.360344004139042,
                    15.435894391042137,
                    15.472075152467422,
                    15.520366116825492,
                    15.568779068291892,
                    15.62736509580111,
                    15.666115224300157,
                    15.698803495500055,
                    15.753555588677095,
                    15.784275456307334,
                    15.82189820953701,
                    15.856421262228382,
                    15.90119041973623,
                    15.937686614115293,
                    15.979043148240173,
                    16.013685629432484,
                    16.074574686294007,
                    16.11137949761322,
                    16.142318360156125,
                    16.177929008014658,
                    16.206875400502753,
                    16.256607642704274,
                    16.309628644472834,
                    16.386743226860787,
                    16.42390350252588,
                    16.47064062028704,
                    16.529235252532477,
                    16.613045868165003,
                    16.64870940067439,
                    16.667172491667532,
                    16.713305323477595,
                    16.782940630360727,
                    16.815528209594696,
                    16.890659864994987,
                    16.97792852164757,
                    17.02490366823197,
                    17.069596720399545,
                    17.12966802610442,
                    17.183546935005037,
                    17.234391731005154,
                    17.27162001384933,
                    17.324124514358537,
                    17.379798450198823,
                    17.426744309185786,
                    17.505288961425038,
                    17.54809420194062,
                    17.5748084234339,
                    17.62534811650604,
                    17.69129865237202,
                    17.756616372427033,
                    17.831068325425836,
                    17.87735051085754,
                    17.914348116183078,
                    17.9707251603229,
                    18.025650190933383,
                    18.090735301436887,
                    18.1618762850917,
                    18.20775120114873,
                    18.27074884090262,
                    18.290627824028977,
                    18.342202967892085,
                    18.437632459472695,
                    18.475746058440404,
                    18.547401035039037,
                    18.620134919649324,
                    18.669227568053905,
                    18.728829606801348,
                    18.77158242446881,
                    18.83931857755457,
                    18.893220843156598,
                    18.942577327107088,
                    19.006096580963344,
                    19.046219570317383,
                    19.072552883554508,
                    19.121006904723494,
                    19.176544382869338,
                    19.221115541260914,
                    19.25252918511197,
                    19.309658344538594,
                    19.37823196021296,
                    19.41412726197973,
                    19.49154572244747,
                    19.543979862326353,
                    19.60393750896438,
                    19.657880903184946,
                    19.7058595464864,
                    19.75725121315547,
                    19.789327870890624,
                    19.849599016046362,
                    19.896138050317134,
                    19.940942067000478,
                    20.014849976562346,
                    20.071132814623823,
                    20.146231748826466,
                    20.194272635761678,
                    20.250003146501186,
                    20.342976104396598,
                    20.388111172714275,
                    20.440562645840927,
                    20.46924091629104,
                    20.504584371551466,
                    20.56551900787285,
                    20.611508157668297,
                    20.690835123093557,
                    20.755870617156358,
                    20.790286446988762,
                    20.9190691287749,
                    20.951306445387715,
                    21.01001803843622,
                    21.055192873817198,
                    21.09746475137786,
                    21.157532452089832,
                    21.211386226071156,
                    21.278705997596372,
                    21.360959558285572,
                    21.450438416859953,
                    21.520447623808877,
                    21.60108506316408,
                    21.67044092615696,
                    21.733171239580674,
                    21.780263837496502,
                    21.854932455182833,
                    21.922439989308867,
                    21.977527115437272,
                    22.038075341632627,
                    22.112665380212253,
                    22.207450820438606,
                    22.2674642277727,
                    22.30861295870227,
                    22.358332576520127,
                    22.45590973789993,
                    22.57624307098791,
                    22.639864934799757,
                    22.712403028964687,
                    22.80495391324014,
                    22.876492681489456,
                    22.936224712727523,
                    22.986495636516196,
                    23.039262299785605,
                    23.137555387128156,
                    23.279795555933738,
                    23.339599315787794,
                    23.409417473870477,
                    23.47164943712294,
                    23.52848465036535,
                    23.618096883198092,
                    23.67686276465232,
                    23.77831570315598,
                    23.83026846440062,
                    23.893792952710342,
                    23.946399553568604,
                    24.04487097537252,
                    24.135565698853718,
                    24.21480740897288,
                    24.28652769688269,
                    24.331213161672622,
                    24.388758215598955,
                    24.532056785582483,
                    24.63328900297387,
                    24.68733018269936,
                    24.805995336121594,
                    24.88102173713069,
                    25.017093158388136,
                    25.07254720670789,
                    25.225206887981862,
                    25.330562347181328,
                    25.41798935392562,
                    25.530446147517445,
                    25.654248718392957,
                    25.69382621348935,
                    25.745410094974137,
                    25.845283779548403,
                    25.9291786994587,
                    26.012013177656435,
                    26.07461652485307,
                    26.15758275774847,
                    26.290691183138165,
                    26.377148161895608,
                    26.481095652372915,
                    26.611274959381607,
                    26.67208630924067,
                    26.78337918895673,
                    26.855575588191535,
                    26.954273418416655,
                    27.009533144410145,
                    27.078916886186107,
                    27.147856827600876,
                    27.293576603775254,
                    27.401459313565987,
                    27.46729743470469,
                    27.56428579238792,
                    27.65157563702885,
                    27.762385140159502,
                    27.842824242255652,
                    28.003688925100903,
                    28.097791897191353,
                    28.239714654787534,
                    28.33428805280085,
                    28.392886480479035,
                    28.537263087989395,
                    28.621059591072797,
                    28.81213443347272,
                    28.93143880164972,
                    29.043459890466966,
                    29.13981684796652,
                    29.223034892120296,
                    29.342228077421726,
                    29.458094758810027,
                    29.58345059914217,
                    29.71616896047252,
                    29.86332383020136,
                    29.99929576025784,
                    30.090729442354323,
                    30.204691348545463,
                    30.386060419394536,
                    30.539003712401534,
                    30.66517058449167,
                    30.80325783283225,
                    30.909445144085975,
                    31.02602056568437,
                    31.116571771552685,
                    31.32349723547339,
                    31.420793043557655,
                    31.632539932002004,
                    31.726771934457332,
                    31.92221702287313,
                    32.00474407168811,
                    32.130405821762594,
                    32.243943336969686,
                    32.38242302887414,
                    32.49832162633659,
                    32.614335099633436,
                    32.72441148872074,
                    32.85113969751153,
                    32.99540148406993,
                    33.11403177056107,
                    33.30893685447525,
                    33.48040784170867,
                    33.62792857283178,
                    33.70012597297401,
                    33.87036437137681,
                    34.004824927513056,
                    34.21849416728396,
                    34.35649718387428,
                    34.48415032910048,
                    34.58784828734619,
                    34.72118082519448,
                    34.87528265522779,
                    35.01861763920846,
                    35.29997258742112,
                    35.508501756750924,
                    35.64362118663704,
                    35.89417817847903,
                    36.01862438670874,
                    36.2079441952003,
                    36.34248926285322,
                    36.521492063161,
                    36.72783972762318,
                    36.94173744570054,
                    37.11956797047927,
                    37.337813507411354,
                    37.49897462541143,
                    37.76760769094015,
                    37.97649506004001,
                    38.24546511689729,
                    38.708165651538884,
                    38.97434412405062,
                    39.200914857739264,
                    39.49877842892069,
                    39.69662697611254,
                    40.02358511907592,
                    40.29245994224475,
                    40.559238614452326,
                    40.83338645140145,
                    41.10737603200546,
                    41.24527567863662,
                    41.52495246729028,
                    41.80963762451114,
                    42.04902812402795,
                    42.298835096094116,
                    42.531947299319,
                    42.78160796405176,
                    42.965200933046575,
                    43.229153857436195,
                    43.488013706846694,
                    43.92744076425193,
                    44.315283929645034,
                    44.84078574563037,
                    45.44468674756915,
                    45.75807744354869,
                    46.588372367150455,
                    47.12671787015603,
                    47.64298769420465,
                    48.258239363109084,
                    48.77915149207047,
                    49.128030436323975,
                    49.52619179814065,
                    49.89434692431778,
                    50.40534182774531,
                    50.97030090799552,
                    52.1529200253796,
                    53.09957669169265,
                    53.686611958993424,
                    54.53598077495552,
                    55.4128958051448,
                    56.87022402617223,
                    57.54173566164168,
                    58.81084401336375,
                    59.859557628609195,
                    60.98420235998752,
                    62.719385353595904,
                    63.64570843457854,
                    67.07971182734937,
                    70.39863958333831,
                    73.76621057678516,
                    81.37003321449481
                  ],
                  "type": "scatter"
                }
              ],
              "layout": {
                "paper_bgcolor": "rgb(255, 255, 255)",
                "plot_bgcolor": "rgb(255, 255, 255)",
                "template": {
                  "data": {
                    "barpolar": [
                      {
                        "marker": {
                          "line": {
                            "color": "#E5ECF6",
                            "width": 0.5
                          },
                          "pattern": {
                            "fillmode": "overlay",
                            "size": 10,
                            "solidity": 0.2
                          }
                        },
                        "type": "barpolar"
                      }
                    ],
                    "bar": [
                      {
                        "error_x": {
                          "color": "#2a3f5f"
                        },
                        "error_y": {
                          "color": "#2a3f5f"
                        },
                        "marker": {
                          "line": {
                            "color": "#E5ECF6",
                            "width": 0.5
                          },
                          "pattern": {
                            "fillmode": "overlay",
                            "size": 10,
                            "solidity": 0.2
                          }
                        },
                        "type": "bar"
                      }
                    ],
                    "carpet": [
                      {
                        "aaxis": {
                          "endlinecolor": "#2a3f5f",
                          "gridcolor": "white",
                          "linecolor": "white",
                          "minorgridcolor": "white",
                          "startlinecolor": "#2a3f5f"
                        },
                        "baxis": {
                          "endlinecolor": "#2a3f5f",
                          "gridcolor": "white",
                          "linecolor": "white",
                          "minorgridcolor": "white",
                          "startlinecolor": "#2a3f5f"
                        },
                        "type": "carpet"
                      }
                    ],
                    "choropleth": [
                      {
                        "colorbar": {
                          "outlinewidth": 0,
                          "ticks": ""
                        },
                        "type": "choropleth"
                      }
                    ],
                    "contourcarpet": [
                      {
                        "colorbar": {
                          "outlinewidth": 0,
                          "ticks": ""
                        },
                        "type": "contourcarpet"
                      }
                    ],
                    "contour": [
                      {
                        "colorbar": {
                          "outlinewidth": 0,
                          "ticks": ""
                        },
                        "colorscale": [
                          [
                            0,
                            "#0d0887"
                          ],
                          [
                            0.1111111111111111,
                            "#46039f"
                          ],
                          [
                            0.2222222222222222,
                            "#7201a8"
                          ],
                          [
                            0.3333333333333333,
                            "#9c179e"
                          ],
                          [
                            0.4444444444444444,
                            "#bd3786"
                          ],
                          [
                            0.5555555555555556,
                            "#d8576b"
                          ],
                          [
                            0.6666666666666666,
                            "#ed7953"
                          ],
                          [
                            0.7777777777777778,
                            "#fb9f3a"
                          ],
                          [
                            0.8888888888888888,
                            "#fdca26"
                          ],
                          [
                            1,
                            "#f0f921"
                          ]
                        ],
                        "type": "contour"
                      }
                    ],
                    "heatmapgl": [
                      {
                        "colorbar": {
                          "outlinewidth": 0,
                          "ticks": ""
                        },
                        "colorscale": [
                          [
                            0,
                            "#0d0887"
                          ],
                          [
                            0.1111111111111111,
                            "#46039f"
                          ],
                          [
                            0.2222222222222222,
                            "#7201a8"
                          ],
                          [
                            0.3333333333333333,
                            "#9c179e"
                          ],
                          [
                            0.4444444444444444,
                            "#bd3786"
                          ],
                          [
                            0.5555555555555556,
                            "#d8576b"
                          ],
                          [
                            0.6666666666666666,
                            "#ed7953"
                          ],
                          [
                            0.7777777777777778,
                            "#fb9f3a"
                          ],
                          [
                            0.8888888888888888,
                            "#fdca26"
                          ],
                          [
                            1,
                            "#f0f921"
                          ]
                        ],
                        "type": "heatmapgl"
                      }
                    ],
                    "heatmap": [
                      {
                        "colorbar": {
                          "outlinewidth": 0,
                          "ticks": ""
                        },
                        "colorscale": [
                          [
                            0,
                            "#0d0887"
                          ],
                          [
                            0.1111111111111111,
                            "#46039f"
                          ],
                          [
                            0.2222222222222222,
                            "#7201a8"
                          ],
                          [
                            0.3333333333333333,
                            "#9c179e"
                          ],
                          [
                            0.4444444444444444,
                            "#bd3786"
                          ],
                          [
                            0.5555555555555556,
                            "#d8576b"
                          ],
                          [
                            0.6666666666666666,
                            "#ed7953"
                          ],
                          [
                            0.7777777777777778,
                            "#fb9f3a"
                          ],
                          [
                            0.8888888888888888,
                            "#fdca26"
                          ],
                          [
                            1,
                            "#f0f921"
                          ]
                        ],
                        "type": "heatmap"
                      }
                    ],
                    "histogram2dcontour": [
                      {
                        "colorbar": {
                          "outlinewidth": 0,
                          "ticks": ""
                        },
                        "colorscale": [
                          [
                            0,
                            "#0d0887"
                          ],
                          [
                            0.1111111111111111,
                            "#46039f"
                          ],
                          [
                            0.2222222222222222,
                            "#7201a8"
                          ],
                          [
                            0.3333333333333333,
                            "#9c179e"
                          ],
                          [
                            0.4444444444444444,
                            "#bd3786"
                          ],
                          [
                            0.5555555555555556,
                            "#d8576b"
                          ],
                          [
                            0.6666666666666666,
                            "#ed7953"
                          ],
                          [
                            0.7777777777777778,
                            "#fb9f3a"
                          ],
                          [
                            0.8888888888888888,
                            "#fdca26"
                          ],
                          [
                            1,
                            "#f0f921"
                          ]
                        ],
                        "type": "histogram2dcontour"
                      }
                    ],
                    "histogram2d": [
                      {
                        "colorbar": {
                          "outlinewidth": 0,
                          "ticks": ""
                        },
                        "colorscale": [
                          [
                            0,
                            "#0d0887"
                          ],
                          [
                            0.1111111111111111,
                            "#46039f"
                          ],
                          [
                            0.2222222222222222,
                            "#7201a8"
                          ],
                          [
                            0.3333333333333333,
                            "#9c179e"
                          ],
                          [
                            0.4444444444444444,
                            "#bd3786"
                          ],
                          [
                            0.5555555555555556,
                            "#d8576b"
                          ],
                          [
                            0.6666666666666666,
                            "#ed7953"
                          ],
                          [
                            0.7777777777777778,
                            "#fb9f3a"
                          ],
                          [
                            0.8888888888888888,
                            "#fdca26"
                          ],
                          [
                            1,
                            "#f0f921"
                          ]
                        ],
                        "type": "histogram2d"
                      }
                    ],
                    "histogram": [
                      {
                        "marker": {
                          "pattern": {
                            "fillmode": "overlay",
                            "size": 10,
                            "solidity": 0.2
                          }
                        },
                        "type": "histogram"
                      }
                    ],
                    "mesh3d": [
                      {
                        "colorbar": {
                          "outlinewidth": 0,
                          "ticks": ""
                        },
                        "type": "mesh3d"
                      }
                    ],
                    "parcoords": [
                      {
                        "line": {
                          "colorbar": {
                            "outlinewidth": 0,
                            "ticks": ""
                          }
                        },
                        "type": "parcoords"
                      }
                    ],
                    "pie": [
                      {
                        "automargin": true,
                        "type": "pie"
                      }
                    ],
                    "scatter3d": [
                      {
                        "line": {
                          "colorbar": {
                            "outlinewidth": 0,
                            "ticks": ""
                          }
                        },
                        "marker": {
                          "colorbar": {
                            "outlinewidth": 0,
                            "ticks": ""
                          }
                        },
                        "type": "scatter3d"
                      }
                    ],
                    "scattercarpet": [
                      {
                        "marker": {
                          "colorbar": {
                            "outlinewidth": 0,
                            "ticks": ""
                          }
                        },
                        "type": "scattercarpet"
                      }
                    ],
                    "scattergeo": [
                      {
                        "marker": {
                          "colorbar": {
                            "outlinewidth": 0,
                            "ticks": ""
                          }
                        },
                        "type": "scattergeo"
                      }
                    ],
                    "scattergl": [
                      {
                        "marker": {
                          "colorbar": {
                            "outlinewidth": 0,
                            "ticks": ""
                          }
                        },
                        "type": "scattergl"
                      }
                    ],
                    "scattermapbox": [
                      {
                        "marker": {
                          "colorbar": {
                            "outlinewidth": 0,
                            "ticks": ""
                          }
                        },
                        "type": "scattermapbox"
                      }
                    ],
                    "scatterpolargl": [
                      {
                        "marker": {
                          "colorbar": {
                            "outlinewidth": 0,
                            "ticks": ""
                          }
                        },
                        "type": "scatterpolargl"
                      }
                    ],
                    "scatterpolar": [
                      {
                        "marker": {
                          "colorbar": {
                            "outlinewidth": 0,
                            "ticks": ""
                          }
                        },
                        "type": "scatterpolar"
                      }
                    ],
                    "scatter": [
                      {
                        "marker": {
                          "colorbar": {
                            "outlinewidth": 0,
                            "ticks": ""
                          }
                        },
                        "type": "scatter"
                      }
                    ],
                    "scatterternary": [
                      {
                        "marker": {
                          "colorbar": {
                            "outlinewidth": 0,
                            "ticks": ""
                          }
                        },
                        "type": "scatterternary"
                      }
                    ],
                    "surface": [
                      {
                        "colorbar": {
                          "outlinewidth": 0,
                          "ticks": ""
                        },
                        "colorscale": [
                          [
                            0,
                            "#0d0887"
                          ],
                          [
                            0.1111111111111111,
                            "#46039f"
                          ],
                          [
                            0.2222222222222222,
                            "#7201a8"
                          ],
                          [
                            0.3333333333333333,
                            "#9c179e"
                          ],
                          [
                            0.4444444444444444,
                            "#bd3786"
                          ],
                          [
                            0.5555555555555556,
                            "#d8576b"
                          ],
                          [
                            0.6666666666666666,
                            "#ed7953"
                          ],
                          [
                            0.7777777777777778,
                            "#fb9f3a"
                          ],
                          [
                            0.8888888888888888,
                            "#fdca26"
                          ],
                          [
                            1,
                            "#f0f921"
                          ]
                        ],
                        "type": "surface"
                      }
                    ],
                    "table": [
                      {
                        "cells": {
                          "fill": {
                            "color": "#EBF0F8"
                          },
                          "line": {
                            "color": "white"
                          }
                        },
                        "header": {
                          "fill": {
                            "color": "#C8D4E3"
                          },
                          "line": {
                            "color": "white"
                          }
                        },
                        "type": "table"
                      }
                    ]
                  },
                  "layout": {
                    "annotationdefaults": {
                      "arrowcolor": "#2a3f5f",
                      "arrowhead": 0,
                      "arrowwidth": 1
                    },
                    "autotypenumbers": "strict",
                    "coloraxis": {
                      "colorbar": {
                        "outlinewidth": 0,
                        "ticks": ""
                      }
                    },
                    "colorscale": {
                      "diverging": [
                        [
                          0,
                          "#8e0152"
                        ],
                        [
                          0.1,
                          "#c51b7d"
                        ],
                        [
                          0.2,
                          "#de77ae"
                        ],
                        [
                          0.3,
                          "#f1b6da"
                        ],
                        [
                          0.4,
                          "#fde0ef"
                        ],
                        [
                          0.5,
                          "#f7f7f7"
                        ],
                        [
                          0.6,
                          "#e6f5d0"
                        ],
                        [
                          0.7,
                          "#b8e186"
                        ],
                        [
                          0.8,
                          "#7fbc41"
                        ],
                        [
                          0.9,
                          "#4d9221"
                        ],
                        [
                          1,
                          "#276419"
                        ]
                      ],
                      "sequential": [
                        [
                          0,
                          "#0d0887"
                        ],
                        [
                          0.1111111111111111,
                          "#46039f"
                        ],
                        [
                          0.2222222222222222,
                          "#7201a8"
                        ],
                        [
                          0.3333333333333333,
                          "#9c179e"
                        ],
                        [
                          0.4444444444444444,
                          "#bd3786"
                        ],
                        [
                          0.5555555555555556,
                          "#d8576b"
                        ],
                        [
                          0.6666666666666666,
                          "#ed7953"
                        ],
                        [
                          0.7777777777777778,
                          "#fb9f3a"
                        ],
                        [
                          0.8888888888888888,
                          "#fdca26"
                        ],
                        [
                          1,
                          "#f0f921"
                        ]
                      ],
                      "sequentialminus": [
                        [
                          0,
                          "#0d0887"
                        ],
                        [
                          0.1111111111111111,
                          "#46039f"
                        ],
                        [
                          0.2222222222222222,
                          "#7201a8"
                        ],
                        [
                          0.3333333333333333,
                          "#9c179e"
                        ],
                        [
                          0.4444444444444444,
                          "#bd3786"
                        ],
                        [
                          0.5555555555555556,
                          "#d8576b"
                        ],
                        [
                          0.6666666666666666,
                          "#ed7953"
                        ],
                        [
                          0.7777777777777778,
                          "#fb9f3a"
                        ],
                        [
                          0.8888888888888888,
                          "#fdca26"
                        ],
                        [
                          1,
                          "#f0f921"
                        ]
                      ]
                    },
                    "colorway": [
                      "#636efa",
                      "#EF553B",
                      "#00cc96",
                      "#ab63fa",
                      "#FFA15A",
                      "#19d3f3",
                      "#FF6692",
                      "#B6E880",
                      "#FF97FF",
                      "#FECB52"
                    ],
                    "font": {
                      "color": "#2a3f5f"
                    },
                    "geo": {
                      "bgcolor": "white",
                      "lakecolor": "white",
                      "landcolor": "#E5ECF6",
                      "showlakes": true,
                      "showland": true,
                      "subunitcolor": "white"
                    },
                    "hoverlabel": {
                      "align": "left"
                    },
                    "hovermode": "closest",
                    "mapbox": {
                      "style": "light"
                    },
                    "paper_bgcolor": "white",
                    "plot_bgcolor": "#E5ECF6",
                    "polar": {
                      "angularaxis": {
                        "gridcolor": "white",
                        "linecolor": "white",
                        "ticks": ""
                      },
                      "bgcolor": "#E5ECF6",
                      "radialaxis": {
                        "gridcolor": "white",
                        "linecolor": "white",
                        "ticks": ""
                      }
                    },
                    "scene": {
                      "xaxis": {
                        "backgroundcolor": "#E5ECF6",
                        "gridcolor": "white",
                        "gridwidth": 2,
                        "linecolor": "white",
                        "showbackground": true,
                        "ticks": "",
                        "zerolinecolor": "white"
                      },
                      "yaxis": {
                        "backgroundcolor": "#E5ECF6",
                        "gridcolor": "white",
                        "gridwidth": 2,
                        "linecolor": "white",
                        "showbackground": true,
                        "ticks": "",
                        "zerolinecolor": "white"
                      },
                      "zaxis": {
                        "backgroundcolor": "#E5ECF6",
                        "gridcolor": "white",
                        "gridwidth": 2,
                        "linecolor": "white",
                        "showbackground": true,
                        "ticks": "",
                        "zerolinecolor": "white"
                      }
                    },
                    "shapedefaults": {
                      "line": {
                        "color": "#2a3f5f"
                      }
                    },
                    "ternary": {
                      "aaxis": {
                        "gridcolor": "white",
                        "linecolor": "white",
                        "ticks": ""
                      },
                      "baxis": {
                        "gridcolor": "white",
                        "linecolor": "white",
                        "ticks": ""
                      },
                      "bgcolor": "#E5ECF6",
                      "caxis": {
                        "gridcolor": "white",
                        "linecolor": "white",
                        "ticks": ""
                      }
                    },
                    "title": {
                      "x": 0.05
                    },
                    "xaxis": {
                      "automargin": true,
                      "gridcolor": "white",
                      "linecolor": "white",
                      "ticks": "",
                      "title": {
                        "standoff": 15
                      },
                      "zerolinecolor": "white",
                      "zerolinewidth": 2
                    },
                    "yaxis": {
                      "automargin": true,
                      "gridcolor": "white",
                      "linecolor": "white",
                      "ticks": "",
                      "title": {
                        "standoff": 15
                      },
                      "zerolinecolor": "white",
                      "zerolinewidth": 2
                    }
                  }
                },
                "title": {
                  "text": "QQ Plots of income"
                },
                "xaxis": {
                  "linewidth": 1,
                  "mirror": true,
                  "title": {
                    "text": "income"
                  },
                  "zeroline": false,
                  "type": "linear",
                  "range": [
                    -4.857309021410357,
                    86.2273424921946
                  ],
                  "autorange": true
                },
                "yaxis": {
                  "linewidth": 1,
                  "mirror": true,
                  "zeroline": false,
                  "type": "linear",
                  "range": [
                    -5.866691344991876,
                    85.96143977025727
                  ],
                  "autorange": true
                }
              },
              "config": {
                "showLink": false,
                "linkText": "Export to plot.ly",
                "plotlyServerURL": "https://plot.ly"
              }
            },
            "text/html": "<div>                            <div id=\"7203e7e8-c695-4e06-8c23-84ab5019ae49\" class=\"plotly-graph-div\" style=\"height:525px; width:100%;\"></div>            <script type=\"text/javascript\">                require([\"plotly\"], function(Plotly) {                    window.PLOTLYENV=window.PLOTLYENV || {};                                    if (document.getElementById(\"7203e7e8-c695-4e06-8c23-84ab5019ae49\")) {                    Plotly.newPlot(                        \"7203e7e8-c695-4e06-8c23-84ab5019ae49\",                        [{\"marker\":{\"color\":\"rgba(222,45,38,0.8)\"},\"mode\":\"markers\",\"name\":\"sample\",\"opacity\":0.6,\"x\":[2.562894280491009e-7,0.00002453311665112591,0.0002135306007952836,0.00039384040718099824,0.0006446596421196675,0.0009765532963779371,0.0014992163052517777,0.0020349388611332333,0.0024605972523927995,0.0035658371777849062,0.004242061346301566,0.004953358734139277,0.0059825901571242315,0.007596148757515743,0.009261195035428152,0.012398747429523623,0.013717621997527872,0.015430710109774856,0.0171991097863383,0.01862934212915148,0.021758185715905286,0.023517277557960955,0.025236206140657233,0.027384401177840495,0.028706900556297918,0.0316069372888953,0.03370356931401851,0.035995072990522056,0.037656098809024104,0.038771317807521036,0.04142510333435936,0.045799570240821694,0.04782961708828526,0.05127014164313634,0.05451469603152355,0.057828270487346435,0.0607451306186586,0.06382215128478391,0.06734860667789719,0.0712173802590027,0.07378024154256095,0.08166363488393,0.0849921282828289,0.08987928267850782,0.09344916392136288,0.09599527942101402,0.10063205166480185,0.10513252547923534,0.10848934854736703,0.11429779734840367,0.12206551535895549,0.12616510069876802,0.1341605604941959,0.13974656225561644,0.14864720507261195,0.15585703916691646,0.16248312701864337,0.16854980366424666,0.17475826580763248,0.18258435991510985,0.1879732779759572,0.1985876830811404,0.20586445017743077,0.21180881127436957,0.21624972152133665,0.2249994651682714,0.2353765750177811,0.24231119503652265,0.2515189133511089,0.25952120570184517,0.264911565469389,0.27505113172606344,0.2842586740371545,0.29127777495572044,0.29956117742701016,0.3056732036239137,0.31162073143531077,0.31590975181095626,0.3245628069555666,0.33288217638376993,0.34127524158184813,0.34544262870740383,0.3515905246282719,0.3549438365415142,0.36139055961849265,0.3688501670629612,0.3786304832960535,0.388616663584427,0.3965069617127737,0.40217956019095114,0.4097409911261094,0.42029114693587855,0.42453062986094847,0.43514058097929653,0.4443411040880378,0.46065450490377496,0.4693777386024087,0.479748238468023,0.4902233655721262,0.4957460669004042,0.5059695622134119,0.5187013126953225,0.5273825905754747,0.5416733305066821,0.5485239039467467,0.5549361658541881,0.5674482156378875,0.5765576671520627,0.5881093840424274,0.6052914909938993,0.6201308289869102,0.6297715285411472,0.6402477816086704,0.6529158762423564,0.6622001945415656,0.6724755266760881,0.6907109398081144,0.6989228342874139,0.7101292194751909,0.7174405689366332,0.724169155777318,0.7333364755286245,0.7498856859884063,0.7545732244955359,0.762495987955406,0.7731397376455666,0.7827017300692929,0.8001268984768024,0.8120131760942875,0.8188733056827336,0.831424518938312,0.8400450017282295,0.8470979280098201,0.8592767194756927,0.870770080642278,0.8825983187433382,0.8964223305559964,0.9007451232016981,0.9110896890216954,0.9276645825500269,0.9424617545078628,0.9533422245079016,0.9674026980317316,0.9775140340251073,0.9912700623006491,1.0027794952688704,1.0177166608702737,1.0329442402551443,1.0417828789468628,1.0511448259996348,1.0719234982248027,1.0806313602844186,1.0980019925220001,1.1142249407029472,1.1297527027268521,1.1468308077572273,1.1583023140139599,1.1747904728261513,1.1888497264530924,1.2013968658696839,1.2266711050300612,1.2370893502060794,1.2494219239849844,1.2581943734624685,1.2742955083004102,1.2849478264404204,1.2934181550961947,1.3120297370173803,1.3288133459674174,1.3415402567160983,1.3514626013905353,1.3725760400065075,1.3917827469655415,1.4010476510760195,1.4191974994561622,1.432105795314213,1.4529196490419625,1.4678169021354024,1.4778561436791353,1.5002473271355963,1.5215718138632135,1.54295878717976,1.5568370174388044,1.5699038378352337,1.5853495443619612,1.6062733162471687,1.6269988370812105,1.656297732057546,1.6683527562855653,1.6860173525601336,1.7002535228136328,1.7156187699621968,1.7244012463608085,1.739825374437208,1.75975954737812,1.7849101218420897,1.7994664387269328,1.812804744067542,1.829971884392334,1.8461035816087534,1.8640467796678228,1.8893454954680642,1.9004295771069553,1.9196596081565662,1.9365429891470685,1.9499300743652839,1.9679147481830785,1.9849658738037692,2.0048270290207775,2.018874801087022,2.0443487807544845,2.0677306910812208,2.0801191006396937,2.114763967188591,2.131630642240842,2.148352380070762,2.1690742415840747,2.1837140064328326,2.1983208342279994,2.2153206395256717,2.236185683377358,2.2492338848781843,2.265621255147999,2.2856659103696115,2.3098131823779857,2.330356696702708,2.342731260654133,2.3578453278364497,2.376603613639471,2.3933312118291656,2.4202583573723233,2.4445476285341767,2.4594708019070493,2.477123381224041,2.5011430781110713,2.5198943582383087,2.5505565028296155,2.5653917609601393,2.586640989973745,2.610814507375981,2.6231303642534276,2.6378582757564852,2.658685988911699,2.676153216380085,2.6943113154632043,2.714530335830802,2.7371593191122168,2.7569330281104683,2.781209221972637,2.8026795940138127,2.8146802373145214,2.8302337092354337,2.8701567772626304,2.8988125184946583,2.919891706885337,2.9431038154319076,2.9541408505487734,2.971960157751332,2.98826357479556,3.0094603890164717,3.0224040008738458,3.03728633253324,3.0535604186032663,3.0713491745774757,3.101909247647004,3.123461083840695,3.1372550326122792,3.156539671504401,3.1679266801042214,3.1774994147613294,3.1953009344043,3.2121245032817933,3.2317811242337475,3.258400358146905,3.278084177630324,3.2934591570900102,3.316434253682376,3.3344187472316786,3.3465233160270884,3.375280009912983,3.391668913901752,3.415829664781696,3.4301046031836107,3.4536043937061818,3.473120429672501,3.4856080126497346,3.509587258877075,3.5362347363524425,3.5566578860869353,3.5797122560962142,3.59491682553356,3.61169775132137,3.6331151990595227,3.6512227509346644,3.6827956925711316,3.7071087509925587,3.728584685687634,3.745684352911559,3.772860211518053,3.792517240098183,3.8153394360655133,3.847785107470563,3.8745720397046717,3.898456793980727,3.9135055102400385,3.9272806440532326,3.967704570757318,3.9957848910095537,4.025806877445636,4.041874996365177,4.065416505645578,4.08954992434817,4.104449385339281,4.131677262111573,4.157004862525195,4.191620577712651,4.214654990055063,4.241436712891979,4.259107351308463,4.283423266859815,4.291880725937097,4.319289963412284,4.347497132874074,4.360818913836482,4.377137435389101,4.393205160401189,4.425726901578278,4.446984799255723,4.476288405580569,4.493507877193437,4.517858191325537,4.549344890055883,4.572261528160688,4.600813064153355,4.619027790760812,4.657352965277699,4.6827942504273725,4.703350488543325,4.721072870561867,4.744991386441493,4.754007279802479,4.768295698646365,4.784889241686271,4.803792108345134,4.814856634436708,4.843769938286818,4.867812529016976,4.908147910742304,4.934781029597556,4.967236759528256,5.001327235267709,5.013162285453271,5.02953493242209,5.055374216948395,5.07420958320953,5.112064070188707,5.130101279688121,5.145223269576734,5.181542295069805,5.213142473545832,5.239891404079014,5.261440061920839,5.273985145985756,5.2872971554374,5.31171380012367,5.3325300731434355,5.368861389250463,5.3861344832281715,5.400501855112088,5.415505252606167,5.435515895762462,5.4673845102821375,5.4879505623779625,5.5056557359322404,5.532185920512864,5.549729217029125,5.566742337256906,5.60079979254621,5.609611876591917,5.631673469263544,5.662266277997476,5.687555985298573,5.699099828926975,5.71761385894926,5.744430402482258,5.770375853216313,5.784207923242947,5.7974953556075475,5.820059513882951,5.848497315978442,5.870013335269361,5.888907692174257,5.927595377554704,5.957224577312674,5.9800249314603695,6.000053527749317,6.01536281646111,6.029668320413437,6.052167287405124,6.076151558736944,6.0891107678624925,6.111167704991201,6.1302446350705155,6.161052149218913,6.182444926997914,6.219751020735755,6.245811684824273,6.288016163790699,6.309320916478761,6.354709639349399,6.394259112545289,6.413817705553433,6.430012358625838,6.463880221474085,6.479696536269982,6.507954726302474,6.540259081476319,6.571736685882668,6.593313117346977,6.624538242945757,6.654100472327583,6.672352325738077,6.700058885331282,6.728700949247965,6.739815077847688,6.765840240232812,6.797867748140928,6.8293721572777955,6.878770636171017,6.906235548777998,6.9278273234235375,6.953132638817149,6.988455885708157,7.015554211132974,7.041466850907241,7.068387897430409,7.1003772182195615,7.13335465152268,7.148887007615148,7.166124627466676,7.184911232259757,7.203359110753127,7.2340294222338954,7.283672815519216,7.307829460429177,7.3327022286388654,7.3667428873975815,7.387803812539488,7.416941387591605,7.443166265395151,7.466002829066454,7.49045636413658,7.519442960289055,7.528294376183172,7.54487421645015,7.562950562317749,7.582639445676831,7.616196154177204,7.654913222456479,7.696412242308998,7.730267093758664,7.769303577398931,7.806380910728697,7.835396351473827,7.864954955216559,7.884255609302549,7.902528439659928,7.930157797464295,7.954970866624773,8.002050624028968,8.025021181786133,8.037714820959698,8.057746579151136,8.078679665657733,8.107720500453523,8.145056270028295,8.176220755216697,8.194450337098232,8.210710164284613,8.224616444670996,8.246445011327545,8.281562781051075,8.299355599303627,8.324142644557352,8.350777537600727,8.382402381552254,8.417707267786032,8.451634699038337,8.481079882371292,8.519171991804647,8.553529592864066,8.584213157424152,8.611871642683568,8.652014052210948,8.682505658777641,8.718283227305623,8.762664848818378,8.781327319661806,8.7954948751859,8.83267425464497,8.8551374711912,8.888665368186079,8.906513972160944,8.926439263041338,8.947577477004685,8.978036432802092,9.006711082553036,9.035804040286973,9.058847961954008,9.079281118597326,9.133177351217647,9.15143211570486,9.173199682862723,9.19725292615134,9.21516948078471,9.238059339007922,9.280027944782777,9.322597957408998,9.356973721030828,9.372464929934278,9.391699973931512,9.427807460688724,9.458970893245604,9.477784938751526,9.53671560283969,9.568020235048373,9.598738175044431,9.624132963166431,9.677495374048583,9.708070609593332,9.749233881574426,9.796187953148706,9.834849894464092,9.85749101036258,9.90146957438057,9.94634671873103,9.989190422950415,10.014928952887932,10.033624946465036,10.074051523792074,10.110819555049076,10.143208419575814,10.17770802759955,10.209597905712315,10.230782503498727,10.266181465335686,10.300879421888155,10.335219101926636,10.35740222196137,10.386436033388842,10.415789223765929,10.443813660602064,10.483647668253816,10.503276294325758,10.540156349569667,10.562106328600118,10.606969004094866,10.632659488661194,10.654480468296558,10.678690325177445,10.714239133824053,10.754232566030561,10.785605329193935,10.806407737022093,10.839332675956522,10.887329446893133,10.919928987041125,10.946093116538785,10.98094699131189,11.006411013997937,11.03459627150061,11.07340120663502,11.112405239192647,11.148523438248017,11.198995714031497,11.240652837539956,11.265429962811057,11.2920257214538,11.312266135970265,11.345271659778494,11.35742850978146,11.393079808531636,11.434559621368617,11.45889035670336,11.494073912565844,11.521276686020329,11.53513619086553,11.56191494806313,11.588752675066885,11.627798490987137,11.693724573237748,11.71974293287302,11.749134588615451,11.7675679778683,11.819604442077104,11.86612277779891,11.897817067839007,11.929141405751958,11.963571679694073,11.99234138213075,12.025400606735234,12.060298793985545,12.091254506230067,12.141259928962361,12.191147379727717,12.21250409287034,12.239426540806477,12.26988671437997,12.302602137225662,12.333834952156078,12.360462751474188,12.392918522936942,12.419651830109707,12.456002409683446,12.492164316205077,12.532678822610281,12.558472888699114,12.586145227500499,12.60998311677419,12.632453506409298,12.676190570787874,12.720809389648414,12.750269169259427,12.770733600294573,12.811898367805611,12.864666491890663,12.88993137318985,12.93154183496717,12.964806205521029,13.01035384789438,13.04332345407953,13.06899318907738,13.1053079304216,13.14996253832242,13.198514417641988,13.232136754124156,13.273210046141728,13.31334756645282,13.338893119444151,13.372118199147085,13.407649723547191,13.458732363454674,13.517312110375162,13.568022844413328,13.59948653774241,13.63637703184783,13.687936090396331,13.729494215716555,13.774405471649686,13.800169236103725,13.821357397462585,13.874801165487852,13.936017437097924,13.979860419970844,14.017828410733655,14.056485883735258,14.122443268108526,14.137908577218957,14.171169165013158,14.239908981469384,14.29907494831117,14.360612811456418,14.403358301987016,14.437331718469146,14.493249917174793,14.527971714174502,14.557404379550624,14.592047404786966,14.633212471227498,14.677823018492763,14.698368182035303,14.728250801995301,14.79321454390075,14.827856000789712,14.894706206194904,14.92284846194351,14.94260040460663,14.985940848445416,15.023677785358577,15.05182092971037,15.137202151889703,15.183438390611277,15.209261221539021,15.299768724132322,15.360344004139042,15.435894391042137,15.472075152467422,15.520366116825492,15.568779068291892,15.62736509580111,15.666115224300157,15.698803495500055,15.753555588677095,15.784275456307334,15.82189820953701,15.856421262228382,15.90119041973623,15.937686614115293,15.979043148240173,16.013685629432484,16.074574686294007,16.11137949761322,16.142318360156125,16.177929008014658,16.206875400502753,16.256607642704274,16.309628644472834,16.386743226860787,16.42390350252588,16.47064062028704,16.529235252532477,16.613045868165003,16.64870940067439,16.667172491667532,16.713305323477595,16.782940630360727,16.815528209594696,16.890659864994987,16.97792852164757,17.02490366823197,17.069596720399545,17.12966802610442,17.183546935005037,17.234391731005154,17.27162001384933,17.324124514358537,17.379798450198823,17.426744309185786,17.505288961425038,17.54809420194062,17.5748084234339,17.62534811650604,17.69129865237202,17.756616372427033,17.831068325425836,17.87735051085754,17.914348116183078,17.9707251603229,18.025650190933383,18.090735301436887,18.1618762850917,18.20775120114873,18.27074884090262,18.290627824028977,18.342202967892085,18.437632459472695,18.475746058440404,18.547401035039037,18.620134919649324,18.669227568053905,18.728829606801348,18.77158242446881,18.83931857755457,18.893220843156598,18.942577327107088,19.006096580963344,19.046219570317383,19.072552883554508,19.121006904723494,19.176544382869338,19.221115541260914,19.25252918511197,19.309658344538594,19.37823196021296,19.41412726197973,19.49154572244747,19.543979862326353,19.60393750896438,19.657880903184946,19.7058595464864,19.75725121315547,19.789327870890624,19.849599016046362,19.896138050317134,19.940942067000478,20.014849976562346,20.071132814623823,20.146231748826466,20.194272635761678,20.250003146501186,20.342976104396598,20.388111172714275,20.440562645840927,20.46924091629104,20.504584371551466,20.56551900787285,20.611508157668297,20.690835123093557,20.755870617156358,20.790286446988762,20.9190691287749,20.951306445387715,21.01001803843622,21.055192873817198,21.09746475137786,21.157532452089832,21.211386226071156,21.278705997596372,21.360959558285572,21.450438416859953,21.520447623808877,21.60108506316408,21.67044092615696,21.733171239580674,21.780263837496502,21.854932455182833,21.922439989308867,21.977527115437272,22.038075341632627,22.112665380212253,22.207450820438606,22.2674642277727,22.30861295870227,22.358332576520127,22.45590973789993,22.57624307098791,22.639864934799757,22.712403028964687,22.80495391324014,22.876492681489456,22.936224712727523,22.986495636516196,23.039262299785605,23.137555387128156,23.279795555933738,23.339599315787794,23.409417473870477,23.47164943712294,23.52848465036535,23.618096883198092,23.67686276465232,23.77831570315598,23.83026846440062,23.893792952710342,23.946399553568604,24.04487097537252,24.135565698853718,24.21480740897288,24.28652769688269,24.331213161672622,24.388758215598955,24.532056785582483,24.63328900297387,24.68733018269936,24.805995336121594,24.88102173713069,25.017093158388136,25.07254720670789,25.225206887981862,25.330562347181328,25.41798935392562,25.530446147517445,25.654248718392957,25.69382621348935,25.745410094974137,25.845283779548403,25.9291786994587,26.012013177656435,26.07461652485307,26.15758275774847,26.290691183138165,26.377148161895608,26.481095652372915,26.611274959381607,26.67208630924067,26.78337918895673,26.855575588191535,26.954273418416655,27.009533144410145,27.078916886186107,27.147856827600876,27.293576603775254,27.401459313565987,27.46729743470469,27.56428579238792,27.65157563702885,27.762385140159502,27.842824242255652,28.003688925100903,28.097791897191353,28.239714654787534,28.33428805280085,28.392886480479035,28.537263087989395,28.621059591072797,28.81213443347272,28.93143880164972,29.043459890466966,29.13981684796652,29.223034892120296,29.342228077421726,29.458094758810027,29.58345059914217,29.71616896047252,29.86332383020136,29.99929576025784,30.090729442354323,30.204691348545463,30.386060419394536,30.539003712401534,30.66517058449167,30.80325783283225,30.909445144085975,31.02602056568437,31.116571771552685,31.32349723547339,31.420793043557655,31.632539932002004,31.726771934457332,31.92221702287313,32.00474407168811,32.130405821762594,32.243943336969686,32.38242302887414,32.49832162633659,32.614335099633436,32.72441148872074,32.85113969751153,32.99540148406993,33.11403177056107,33.30893685447525,33.48040784170867,33.62792857283178,33.70012597297401,33.87036437137681,34.004824927513056,34.21849416728396,34.35649718387428,34.48415032910048,34.58784828734619,34.72118082519448,34.87528265522779,35.01861763920846,35.29997258742112,35.508501756750924,35.64362118663704,35.89417817847903,36.01862438670874,36.2079441952003,36.34248926285322,36.521492063161,36.72783972762318,36.94173744570054,37.11956797047927,37.337813507411354,37.49897462541143,37.76760769094015,37.97649506004001,38.24546511689729,38.708165651538884,38.97434412405062,39.200914857739264,39.49877842892069,39.69662697611254,40.02358511907592,40.29245994224475,40.559238614452326,40.83338645140145,41.10737603200546,41.24527567863662,41.52495246729028,41.80963762451114,42.04902812402795,42.298835096094116,42.531947299319,42.78160796405176,42.965200933046575,43.229153857436195,43.488013706846694,43.92744076425193,44.315283929645034,44.84078574563037,45.44468674756915,45.75807744354869,46.588372367150455,47.12671787015603,47.64298769420465,48.258239363109084,48.77915149207047,49.128030436323975,49.52619179814065,49.89434692431778,50.40534182774531,50.97030090799552,52.1529200253796,53.09957669169265,53.686611958993424,54.53598077495552,55.4128958051448,56.87022402617223,57.54173566164168,58.81084401336375,59.859557628609195,60.98420235998752,62.719385353595904,63.64570843457854,67.07971182734937,70.39863958333831,73.76621057678516,81.37003321449481],\"y\":[0.00010592070459672281,0.00026728675705235845,0.0006059210748471423,0.0008786770313143229,0.0010974599909376894,0.0014672305947702313,0.0024777796341803647,0.003297436570739007,0.003579891313497513,0.0039024198446600115,0.003910824155013254,0.003923896614332254,0.004095543016026638,0.005026181756971462,0.005300343472336675,0.0064654987919962915,0.008818396026467182,0.01034077373329338,0.013386154155906082,0.013493186157048663,0.015540029730675382,0.01776163254283742,0.018424606190170653,0.01890676973549204,0.019078357328411136,0.01936741084758381,0.020234059645779356,0.02044146466018547,0.02066598749820567,0.02178887140539782,0.023213656093071057,0.02484146307267001,0.02616923659185346,0.027074788311419296,0.028627163156741117,0.030514313068878526,0.03210900159785081,0.0321970106390852,0.03352564617363876,0.03651983520217669,0.04003468935397157,0.04278829421625745,0.04391250724725973,0.044924623159659186,0.04665849900882933,0.04825572713251085,0.04987318457873788,0.0532479095502576,0.0616203313167544,0.06759408407145523,0.07294536451132788,0.07845300646606698,0.08309328848195868,0.08340421328337089,0.08386575090408041,0.08483383173249798,0.08583728457605239,0.08604564770315279,0.08846195115736984,0.09360789548835229,0.09392355197973312,0.09429134937475962,0.09440634702054887,0.09599510891304397,0.09858942416675578,0.09983543508136121,0.1003933935158643,0.10571959538688808,0.1110035618458033,0.11595386437906663,0.12251976483279217,0.12459333141755864,0.12536970424799987,0.12606481648832585,0.1272236821533041,0.12811398616082253,0.12914374717598795,0.1323846782304813,0.13843848918868523,0.14187938262916033,0.1435738318258809,0.1493043185172233,0.15359677859042742,0.15476768346140302,0.1560227247878188,0.15677933138047961,0.1591849962030023,0.16368654955024325,0.16506712635891574,0.16779273387748367,0.17194055407606995,0.17609056309010934,0.17779998679123252,0.17943256205993524,0.18598646234254254,0.19251086002767503,0.20178066617800927,0.21202617464174006,0.21442311587343277,0.21480865677731661,0.21636941018659353,0.22020794537677102,0.2271101538611801,0.23297428248019464,0.23381255255667405,0.23655269939941354,0.24197095363972893,0.24522841048699678,0.24729081555502902,0.2508037019268935,0.2529191646861045,0.2532511558889753,0.255122216948923,0.2692423498026271,0.2836012328723987,0.28603370996368327,0.2870595292344017,0.2882875715266602,0.2898283620430799,0.29509068357712104,0.29546568666354867,0.29607597206186864,0.2981416433590088,0.30155509649756673,0.30598060404181887,0.3105597804749381,0.3139105330657447,0.31593213643072604,0.3167326597507295,0.31718341244084747,0.31899875445914144,0.3214975647737986,0.326396415938578,0.33372832483996295,0.338276019644136,0.3423371974716898,0.3462620553108366,0.35309765497522705,0.3611779805796578,0.3639271165423575,0.3672088047709864,0.3709590082249036,0.3732376828132961,0.3810566571318034,0.3840131571348108,0.3846749241883419,0.38948677814018534,0.39444309010210454,0.39698590853573085,0.3999348916668364,0.40118978113684256,0.4013396631281253,0.40331490249828644,0.40673300053599526,0.41179327909521457,0.41659891702937946,0.420478108886641,0.42733242365110236,0.43185019607498465,0.43239600259025707,0.4334696810013027,0.44058266052607503,0.4474902402888591,0.44858584384076583,0.4520637371602501,0.4642199338889249,0.4808995059382333,0.48877119770230126,0.49422397197581536,0.5001799164379583,0.502115220311636,0.5086602766071969,0.5142481325266437,0.5332168136526516,0.5376753004281692,0.551747115366471,0.5582877978080324,0.5705171057881582,0.5782741345415968,0.5860859494449342,0.5923275008157345,0.5956147917275072,0.5991787644593463,0.6011738144656124,0.6031855489628279,0.6040835116393543,0.6131726656852772,0.6229922872555829,0.6370130653960071,0.6565549821631538,0.6636276544587774,0.6711615311573804,0.6866704561820183,0.696324485328278,0.6975832650717457,0.7021812565723183,0.7117957625891977,0.7195574058126936,0.7226056765809291,0.7277034566281628,0.7346136186862757,0.7382502979896951,0.7465710414035205,0.7678485334505925,0.7919395883127877,0.7950782353515201,0.8070207305349034,0.807409876596199,0.8176362560392375,0.8274707150757616,0.8394389625636135,0.8438916520183739,0.8469180931523812,0.8491542359254385,0.8616605539073803,0.8732879401379586,0.8739914086535328,0.8800124688201811,0.8932660453235906,0.9012555843891681,0.9096411104281672,0.9177028224210296,0.9192505905722672,0.9205008134512717,0.9253785139032544,0.9306046878590053,0.9348427523070414,0.9576915734413909,0.9790314054960081,0.9887275303592653,1.002708846279528,1.016123174145346,1.0233394465607568,1.0258829512025023,1.0321909508479772,1.0384632065106263,1.0428219114911932,1.0480428042934395,1.0561816859678594,1.062676006664625,1.063514092660938,1.0676153563378374,1.074455696694332,1.0795129152485528,1.081204003757024,1.0814158086794114,1.0829354794986454,1.0855682191770084,1.089381414103956,1.0965760491632608,1.1020986380950082,1.108060938755536,1.113785885924289,1.1145911409548643,1.1154282118963565,1.1184937982055996,1.122973559642838,1.1253494999359002,1.125804149210778,1.1294067993509527,1.1431304372833546,1.154749394208019,1.1657727877856192,1.1787659689290462,1.206895635462956,1.2322251415278718,1.233787076757464,1.2367520851215348,1.2396928617809575,1.2413559249643662,1.25307642348199,1.265886825782709,1.272462537298115,1.2798151351728484,1.2827928200045149,1.2924025920096998,1.3091483978147664,1.31870534275855,1.3259373339825467,1.334331264968698,1.343800834261458,1.36703830820599,1.3885374684023635,1.4113568050277903,1.4180239148347538,1.4197836627704097,1.420519533244661,1.4240832987158676,1.4299848468722296,1.4309281135372176,1.4339457974945082,1.4441231838782094,1.4586351418660475,1.475863383092348,1.4869994987651594,1.4919024277793285,1.5113808905838053,1.526926255627838,1.5377820983988717,1.5502993087698194,1.5596353295892451,1.570131181268971,1.573828744508045,1.5741369844521702,1.5852714320337058,1.599457279706518,1.6032464148504406,1.6078315820519027,1.6142579331341256,1.6178654149406906,1.6210186681870855,1.6234046066971721,1.6335397984991957,1.6467153579517373,1.65414373522185,1.6604319594269563,1.6697836954734102,1.6795255273081957,1.6956598521314414,1.7101532875397338,1.7135207578967622,1.7211385440393228,1.726453141285134,1.7335775702416467,1.7436769526427143,1.7531936660227396,1.760589394466248,1.7690797794768685,1.7803730887094749,1.7862681003630976,1.7890020460754839,1.790353696382844,1.796103191254109,1.8093535971677868,1.8261919919793557,1.8352699731862128,1.8395024651694794,1.8476150233600594,1.8561306519228833,1.8730386503453782,1.886895251826013,1.8893915487763584,1.897755061626326,1.9174458477264387,1.9305378607437094,1.935208954001327,1.9428154865812197,1.9504985659031864,1.966917868904445,1.9669990061841203,1.9691218407708986,1.9750516481227975,1.9871412956567371,2.008343667728041,2.028825818481705,2.041119032130978,2.042282752086198,2.062629701211886,2.0913209835454865,2.1001504989544744,2.1082920549316064,2.1295147830754866,2.14335187346234,2.1478410660672878,2.1523493866041745,2.1536087496435465,2.154899451361517,2.1572683280797555,2.1619584552771354,2.165361280989606,2.1666342668027525,2.1717683644098242,2.1812111235619858,2.1937134806838006,2.213609315677033,2.229983926537818,2.268817386828311,2.3052138070921595,2.314252160181513,2.3219724436588187,2.326366575502473,2.3337197590757963,2.3403020681445508,2.3555383160774395,2.3707051230731766,2.3750531529021224,2.3900784762220404,2.406513228501252,2.424254778455494,2.4464706626398494,2.455550440763097,2.4581574776761976,2.4748300267535934,2.49140306113278,2.4971786967240197,2.5041169351028367,2.514966430169858,2.5427664540346266,2.562452756860294,2.5640259211649004,2.5674226820713484,2.572856894089843,2.5753752881442944,2.581710773825761,2.5879422385052404,2.6058287850796464,2.6307842677096533,2.6411165238447696,2.6483171440586206,2.674649484761166,2.6834798773753614,2.697166771347854,2.7247084240836448,2.743143054910496,2.7624089165257746,2.770205573994806,2.7781542340884275,2.7811803165036117,2.7918637464793816,2.8009890196634317,2.807788329538648,2.814267984485097,2.8210016264809368,2.8279663702002225,2.8299664911009925,2.8525766725992803,2.877055331452662,2.8805250552484334,2.8888195744461536,2.904462273370084,2.920003782917624,2.9339590868850003,2.9480647430033216,2.958060842680171,2.965043170935358,2.994308330995678,3.0195814606797087,3.02341193588843,3.0321749962545264,3.0403737329190514,3.04722463121872,3.051837555544774,3.0536231018395226,3.0548598518227363,3.061401066640003,3.0713731722517013,3.0756638214990346,3.080855714935568,3.0853831802500036,3.085786306658889,3.0895655748207616,3.0996964053364846,3.1096871212910955,3.123494946973735,3.1537335993153395,3.176763754051886,3.1819946991141714,3.191800852733983,3.229935545967302,3.2670834172976404,3.2764181773537686,3.2905606974647488,3.309745647557622,3.320369440475117,3.3265780061339116,3.335376184686031,3.353066933923575,3.3755737178306298,3.3867901478285054,3.3909591979067226,3.396346825771341,3.408844665381069,3.4092099391487234,3.42333066278535,3.443395394836335,3.448133789350431,3.4502732796629894,3.458224354674032,3.4615128395251684,3.5422550334051217,3.544188273899582,3.5461491156806346,3.5461808349745603,3.5542064048734496,3.571524207356161,3.583863733874762,3.5975198575622267,3.6201124310174677,3.6437706504029777,3.658218038698649,3.6625015022900076,3.669402413501369,3.6892293759203247,3.709190410171894,3.7257707604277255,3.7416770962171113,3.7473115297866917,3.7549608146939857,3.7682253901847007,3.7780132054291125,3.8049424444987165,3.828844104477894,3.8337470420837785,3.8435801361702255,3.8667734475775584,3.8853486864641615,3.889945059027963,3.9077279098880693,3.9218774026108214,3.933124044078971,3.959398431685369,3.991097487579629,4.0081938528988434,4.018529696131663,4.03748795538688,4.0518351884341985,4.060496304992577,4.071607585802672,4.080849071024192,4.089518032038823,4.100437496015522,4.118743708346926,4.157859994428298,4.186543890266416,4.194098763060106,4.201413698375481,4.2073028743291605,4.213468726324361,4.219252758253844,4.221875718032378,4.222890869127154,4.2263530799697175,4.230162014494036,4.2312987952787395,4.236857351354608,4.245867358498631,4.2534688807398044,4.261418857153467,4.283327798239263,4.302401440227609,4.310480956895468,4.321229662309516,4.343762771825053,4.363241793626216,4.382584326057351,4.400866615161833,4.403077136386704,4.409698868482459,4.45414831724356,4.506884992690067,4.521398560772207,4.527963919424966,4.5334652558741935,4.565689231933447,4.6052263335811645,4.619129101020074,4.626080521936747,4.628363417078282,4.633374712095111,4.656676114038315,4.681533984770708,4.688840203149363,4.693154343918385,4.699104355753918,4.72744335299938,4.759327907293586,4.793109714935051,4.817849975495094,4.832619407497214,4.850947543080936,4.887638073452471,4.900986517619061,4.946108594824416,4.947925485955672,4.9804060645900154,5.013505316360049,5.049527144265752,5.050095229958729,5.051343227668793,5.056568279485139,5.065814022932225,5.0758487687960345,5.08243091869466,5.088288215136024,5.093280438372094,5.1140981880158485,5.139405867767931,5.152931767239661,5.164439513720959,5.185732267728573,5.218771228828284,5.233468237718274,5.233609430888794,5.233704161515521,5.234535152481833,5.238157102757846,5.253601992934535,5.285780181383553,5.3060814460371875,5.332049945376058,5.36679299302638,5.378357992464635,5.414846918525411,5.450170197659112,5.455885524241751,5.469109606247962,5.47963430523439,5.483023217062717,5.497194615048752,5.517820998843897,5.541005977345639,5.582484501566938,5.610095280904857,5.6290547094620775,5.64934727005516,5.657111801935827,5.672319293381207,5.683967502136857,5.691112147737831,5.697627275060208,5.698350336756963,5.7110171897005175,5.725189537370747,5.72699688367563,5.7275996933438265,5.7396574898806465,5.765160049847556,5.784965695276076,5.791861853252675,5.812808069072291,5.835536590001789,5.846586462392494,5.878195122915473,5.917612506411848,5.93693485136581,5.957152034963999,5.99205539917094,6.016720758623095,6.03412374021789,6.053325600438645,6.086440185034855,6.124785917105809,6.139797759349337,6.158206664518984,6.179454152597949,6.192588453784744,6.211440542522283,6.240025890789802,6.262175598707398,6.308731432997982,6.353687783435389,6.3697872816022585,6.39184383950409,6.4187746699999,6.456774303356738,6.481394173345778,6.490835280016223,6.525084306470739,6.560308220895452,6.570985862657805,6.592973338557769,6.608803239062617,6.615089758419513,6.625466406702966,6.637932354132879,6.646886198188794,6.661855163164942,6.715483236186466,6.7550122602822205,6.774921817221818,6.798086618576036,6.801888811901765,6.808372025836361,6.820218681655721,6.84045504104701,6.861391145554432,6.876285140356781,6.896250113640834,6.928323276316612,6.9664884163103045,6.993740188905877,7.0071379165005805,7.015241058616358,7.038341648716878,7.066696072076235,7.086781825921991,7.101743424342381,7.10968196517094,7.126862334551834,7.1409084508701755,7.1682745308723765,7.185884950117829,7.205221567951426,7.207730735272122,7.243444720086109,7.243604445079062,7.259999721829295,7.281764019243661,7.290493214812249,7.300237823849632,7.312239453206744,7.315190074327002,7.3285353024363165,7.339804105455499,7.362136624690001,7.394238367945258,7.435481389398728,7.474162600511699,7.506398765875669,7.544084743657016,7.561730402546969,7.577459693141504,7.5941791405233285,7.602986673840361,7.626640503552607,7.654577463160147,7.662790430236837,7.667797284778057,7.677023662477872,7.706351728345037,7.741418473677811,7.7729962709421025,7.820039496527329,7.872340700441268,7.91151398765315,7.938960301381984,7.973208483682885,8.01760013512248,8.046770015522515,8.051907980820758,8.070314411658433,8.090158500677004,8.142781118575932,8.201069577646056,8.213088736635815,8.225238973094868,8.233645449377368,8.258966998624903,8.28344361972311,8.290678156829056,8.309366672597132,8.323202536192298,8.331153817187452,8.33761485534902,8.347099988689935,8.386854851854029,8.420421356339485,8.424318722173512,8.42579491202851,8.44929584140522,8.487882611534989,8.524867044578421,8.555958512871918,8.570487160361747,8.578487555557789,8.598535362903927,8.6189121989989,8.623961578722728,8.642368509235077,8.66549577566502,8.680438442101043,8.689243480319501,8.71208570477593,8.742963395394206,8.768740917646243,8.798907970042215,8.83230603195203,8.85399371850077,8.87081166712726,8.893501405340956,8.92755497545578,8.956625021706255,8.966009199766363,8.986862592255994,9.00719373607308,9.015160679666224,9.021885877265676,9.029680325929446,9.039645534265134,9.059490992306316,9.086754827296645,9.161302880487526,9.255665894558888,9.32638677666401,9.369910954268022,9.398196397739373,9.434594892232454,9.470923159473864,9.492532105982777,9.521271820644515,9.548945604988235,9.552141037120453,9.556352756996766,9.64393312721973,9.73655684369999,9.751287357081573,9.762665973343477,9.78697724899889,9.826555103579505,9.883076292459775,9.939981243001547,9.995202766150413,10.03639884883492,10.046753740878398,10.056995623791385,10.065272634279278,10.080731369058652,10.097983101350753,10.138052457956926,10.175399593212326,10.331361708082248,10.512815028900498,10.548239030919884,10.584304324251086,10.616209017790359,10.701624391035374,10.708151464754607,10.927747896740184,11.03493472318138,11.07871222158363,11.079425924978503,11.154089728709575,11.161035728304135,11.216749871755617,11.254419065826415,11.316346292180993,11.323134398844918,11.325787766662858,11.367396143528413,11.398503762535832,11.51631026884675,11.522095046818096,11.606386011135099,11.661573373327439,11.721935992758056,11.733244614822723,11.762409881856293,11.803988469054925,11.823103097195936,11.842889804299396,11.880584160068823,11.932952985812681,12.01593586886441,12.07580083721064,12.165490041386892,12.249313318615219,12.257036881949755,12.277932928953458,12.305380368879518,12.336874955780115,12.373294669527514,12.42372495886457,12.479014832519027,12.500943206859866,12.54621312950713,12.596230943724962,12.612629309544428,12.632960932278312,12.667618404677093,12.719115307520688,12.74991318033013,12.77766772865662,12.868407800166029,12.977750321663638,13.04445811092942,13.081433608217782,13.10869805324523,13.13083136610096,13.226318250307152,13.332369071306942,13.37284294755117,13.394715904972966,13.426404384226636,13.484704304272148,13.583051867217293,13.666645252404127,13.694942535954883,13.737542487723147,13.788114435998745,13.848961943051474,13.915298320583872,14.01735459408582,14.128527855165963,14.1778472581642,14.192391195205236,14.243590519598353,14.295000665319531,14.319646887282213,14.370231183182419,14.452370539926907,14.522736011372462,14.596995089288262,14.680451409600472,14.765252951857857,14.847409264311654,14.916802062252685,15.006943846454146,15.105986033904943,15.199468358200237,15.239490312264124,15.280308664773921,15.365037647855262,15.415543866529099,15.492445846795029,15.567891712449143,15.57702331831549,15.625647756755122,15.69566676925207,15.728656357259354,15.737426362847746,15.774144255223852,15.868760741187629,15.936498456791647,15.972524720010153,16.00084923871533,16.064087356764457,16.151184458813074,16.230223346884227,16.35794355017475,16.490147084667832,16.60552815684894,16.751081789963628,16.860437751598674,16.956705029808376,17.095030441689087,17.166699525436876,17.215583521047392,17.349445148288694,17.471667316781964,17.52819089477113,17.6368855540268,17.752934057095477,17.79586072391239,17.857526212844455,17.935537977965335,18.054596219384756,18.17904327283572,18.264911065588834,18.345995182622463,18.494547518616436,18.815395899159466,18.928603648281708,19.04861371425763,19.062353082526126,19.124205589004816,19.12890037019871,19.506908010680505,19.50948520890765,19.5342618080369,19.555048905336662,19.62623672614948,19.86285580477931,19.89333716413982,20.138230557170914,20.180369754802296,20.364247296996165,20.8139056726898,20.897478819881627,20.941046143191752,21.112158886547974,21.132209084514088,21.15286928398782,21.15797033395843,21.222613099215828,21.30631704841969,21.484139125689033,21.89874210840788,22.27803217374209,22.443661180608636,22.553063924468887,22.667978023825317,22.869201175500052,23.026531858114957,23.083253117224878,23.170807590693393,23.547585721197088,23.911418968350898,24.273318827316803,24.83661450354996,25.07635340247216,25.270690836083933,25.661908744492038,25.9934571311047,26.429067495467805,26.846374630455752,27.03686290528588,27.70381452397782,28.43113504390598,29.017316156286824,29.709335229043482,30.055834368747167,30.2269741260919,30.467114984773005,30.93324116223403,31.686583189568374,32.25508182780878,33.4377447880335,34.89290875642841,35.748445465931354,38.097029862767],\"type\":\"scatter\"},{\"line\":{\"color\":\"blue\",\"dash\":\"dash\",\"width\":2},\"showlegend\":false,\"x\":[2.562894280491009e-7,0.00002453311665112591,0.0002135306007952836,0.00039384040718099824,0.0006446596421196675,0.0009765532963779371,0.0014992163052517777,0.0020349388611332333,0.0024605972523927995,0.0035658371777849062,0.004242061346301566,0.004953358734139277,0.0059825901571242315,0.007596148757515743,0.009261195035428152,0.012398747429523623,0.013717621997527872,0.015430710109774856,0.0171991097863383,0.01862934212915148,0.021758185715905286,0.023517277557960955,0.025236206140657233,0.027384401177840495,0.028706900556297918,0.0316069372888953,0.03370356931401851,0.035995072990522056,0.037656098809024104,0.038771317807521036,0.04142510333435936,0.045799570240821694,0.04782961708828526,0.05127014164313634,0.05451469603152355,0.057828270487346435,0.0607451306186586,0.06382215128478391,0.06734860667789719,0.0712173802590027,0.07378024154256095,0.08166363488393,0.0849921282828289,0.08987928267850782,0.09344916392136288,0.09599527942101402,0.10063205166480185,0.10513252547923534,0.10848934854736703,0.11429779734840367,0.12206551535895549,0.12616510069876802,0.1341605604941959,0.13974656225561644,0.14864720507261195,0.15585703916691646,0.16248312701864337,0.16854980366424666,0.17475826580763248,0.18258435991510985,0.1879732779759572,0.1985876830811404,0.20586445017743077,0.21180881127436957,0.21624972152133665,0.2249994651682714,0.2353765750177811,0.24231119503652265,0.2515189133511089,0.25952120570184517,0.264911565469389,0.27505113172606344,0.2842586740371545,0.29127777495572044,0.29956117742701016,0.3056732036239137,0.31162073143531077,0.31590975181095626,0.3245628069555666,0.33288217638376993,0.34127524158184813,0.34544262870740383,0.3515905246282719,0.3549438365415142,0.36139055961849265,0.3688501670629612,0.3786304832960535,0.388616663584427,0.3965069617127737,0.40217956019095114,0.4097409911261094,0.42029114693587855,0.42453062986094847,0.43514058097929653,0.4443411040880378,0.46065450490377496,0.4693777386024087,0.479748238468023,0.4902233655721262,0.4957460669004042,0.5059695622134119,0.5187013126953225,0.5273825905754747,0.5416733305066821,0.5485239039467467,0.5549361658541881,0.5674482156378875,0.5765576671520627,0.5881093840424274,0.6052914909938993,0.6201308289869102,0.6297715285411472,0.6402477816086704,0.6529158762423564,0.6622001945415656,0.6724755266760881,0.6907109398081144,0.6989228342874139,0.7101292194751909,0.7174405689366332,0.724169155777318,0.7333364755286245,0.7498856859884063,0.7545732244955359,0.762495987955406,0.7731397376455666,0.7827017300692929,0.8001268984768024,0.8120131760942875,0.8188733056827336,0.831424518938312,0.8400450017282295,0.8470979280098201,0.8592767194756927,0.870770080642278,0.8825983187433382,0.8964223305559964,0.9007451232016981,0.9110896890216954,0.9276645825500269,0.9424617545078628,0.9533422245079016,0.9674026980317316,0.9775140340251073,0.9912700623006491,1.0027794952688704,1.0177166608702737,1.0329442402551443,1.0417828789468628,1.0511448259996348,1.0719234982248027,1.0806313602844186,1.0980019925220001,1.1142249407029472,1.1297527027268521,1.1468308077572273,1.1583023140139599,1.1747904728261513,1.1888497264530924,1.2013968658696839,1.2266711050300612,1.2370893502060794,1.2494219239849844,1.2581943734624685,1.2742955083004102,1.2849478264404204,1.2934181550961947,1.3120297370173803,1.3288133459674174,1.3415402567160983,1.3514626013905353,1.3725760400065075,1.3917827469655415,1.4010476510760195,1.4191974994561622,1.432105795314213,1.4529196490419625,1.4678169021354024,1.4778561436791353,1.5002473271355963,1.5215718138632135,1.54295878717976,1.5568370174388044,1.5699038378352337,1.5853495443619612,1.6062733162471687,1.6269988370812105,1.656297732057546,1.6683527562855653,1.6860173525601336,1.7002535228136328,1.7156187699621968,1.7244012463608085,1.739825374437208,1.75975954737812,1.7849101218420897,1.7994664387269328,1.812804744067542,1.829971884392334,1.8461035816087534,1.8640467796678228,1.8893454954680642,1.9004295771069553,1.9196596081565662,1.9365429891470685,1.9499300743652839,1.9679147481830785,1.9849658738037692,2.0048270290207775,2.018874801087022,2.0443487807544845,2.0677306910812208,2.0801191006396937,2.114763967188591,2.131630642240842,2.148352380070762,2.1690742415840747,2.1837140064328326,2.1983208342279994,2.2153206395256717,2.236185683377358,2.2492338848781843,2.265621255147999,2.2856659103696115,2.3098131823779857,2.330356696702708,2.342731260654133,2.3578453278364497,2.376603613639471,2.3933312118291656,2.4202583573723233,2.4445476285341767,2.4594708019070493,2.477123381224041,2.5011430781110713,2.5198943582383087,2.5505565028296155,2.5653917609601393,2.586640989973745,2.610814507375981,2.6231303642534276,2.6378582757564852,2.658685988911699,2.676153216380085,2.6943113154632043,2.714530335830802,2.7371593191122168,2.7569330281104683,2.781209221972637,2.8026795940138127,2.8146802373145214,2.8302337092354337,2.8701567772626304,2.8988125184946583,2.919891706885337,2.9431038154319076,2.9541408505487734,2.971960157751332,2.98826357479556,3.0094603890164717,3.0224040008738458,3.03728633253324,3.0535604186032663,3.0713491745774757,3.101909247647004,3.123461083840695,3.1372550326122792,3.156539671504401,3.1679266801042214,3.1774994147613294,3.1953009344043,3.2121245032817933,3.2317811242337475,3.258400358146905,3.278084177630324,3.2934591570900102,3.316434253682376,3.3344187472316786,3.3465233160270884,3.375280009912983,3.391668913901752,3.415829664781696,3.4301046031836107,3.4536043937061818,3.473120429672501,3.4856080126497346,3.509587258877075,3.5362347363524425,3.5566578860869353,3.5797122560962142,3.59491682553356,3.61169775132137,3.6331151990595227,3.6512227509346644,3.6827956925711316,3.7071087509925587,3.728584685687634,3.745684352911559,3.772860211518053,3.792517240098183,3.8153394360655133,3.847785107470563,3.8745720397046717,3.898456793980727,3.9135055102400385,3.9272806440532326,3.967704570757318,3.9957848910095537,4.025806877445636,4.041874996365177,4.065416505645578,4.08954992434817,4.104449385339281,4.131677262111573,4.157004862525195,4.191620577712651,4.214654990055063,4.241436712891979,4.259107351308463,4.283423266859815,4.291880725937097,4.319289963412284,4.347497132874074,4.360818913836482,4.377137435389101,4.393205160401189,4.425726901578278,4.446984799255723,4.476288405580569,4.493507877193437,4.517858191325537,4.549344890055883,4.572261528160688,4.600813064153355,4.619027790760812,4.657352965277699,4.6827942504273725,4.703350488543325,4.721072870561867,4.744991386441493,4.754007279802479,4.768295698646365,4.784889241686271,4.803792108345134,4.814856634436708,4.843769938286818,4.867812529016976,4.908147910742304,4.934781029597556,4.967236759528256,5.001327235267709,5.013162285453271,5.02953493242209,5.055374216948395,5.07420958320953,5.112064070188707,5.130101279688121,5.145223269576734,5.181542295069805,5.213142473545832,5.239891404079014,5.261440061920839,5.273985145985756,5.2872971554374,5.31171380012367,5.3325300731434355,5.368861389250463,5.3861344832281715,5.400501855112088,5.415505252606167,5.435515895762462,5.4673845102821375,5.4879505623779625,5.5056557359322404,5.532185920512864,5.549729217029125,5.566742337256906,5.60079979254621,5.609611876591917,5.631673469263544,5.662266277997476,5.687555985298573,5.699099828926975,5.71761385894926,5.744430402482258,5.770375853216313,5.784207923242947,5.7974953556075475,5.820059513882951,5.848497315978442,5.870013335269361,5.888907692174257,5.927595377554704,5.957224577312674,5.9800249314603695,6.000053527749317,6.01536281646111,6.029668320413437,6.052167287405124,6.076151558736944,6.0891107678624925,6.111167704991201,6.1302446350705155,6.161052149218913,6.182444926997914,6.219751020735755,6.245811684824273,6.288016163790699,6.309320916478761,6.354709639349399,6.394259112545289,6.413817705553433,6.430012358625838,6.463880221474085,6.479696536269982,6.507954726302474,6.540259081476319,6.571736685882668,6.593313117346977,6.624538242945757,6.654100472327583,6.672352325738077,6.700058885331282,6.728700949247965,6.739815077847688,6.765840240232812,6.797867748140928,6.8293721572777955,6.878770636171017,6.906235548777998,6.9278273234235375,6.953132638817149,6.988455885708157,7.015554211132974,7.041466850907241,7.068387897430409,7.1003772182195615,7.13335465152268,7.148887007615148,7.166124627466676,7.184911232259757,7.203359110753127,7.2340294222338954,7.283672815519216,7.307829460429177,7.3327022286388654,7.3667428873975815,7.387803812539488,7.416941387591605,7.443166265395151,7.466002829066454,7.49045636413658,7.519442960289055,7.528294376183172,7.54487421645015,7.562950562317749,7.582639445676831,7.616196154177204,7.654913222456479,7.696412242308998,7.730267093758664,7.769303577398931,7.806380910728697,7.835396351473827,7.864954955216559,7.884255609302549,7.902528439659928,7.930157797464295,7.954970866624773,8.002050624028968,8.025021181786133,8.037714820959698,8.057746579151136,8.078679665657733,8.107720500453523,8.145056270028295,8.176220755216697,8.194450337098232,8.210710164284613,8.224616444670996,8.246445011327545,8.281562781051075,8.299355599303627,8.324142644557352,8.350777537600727,8.382402381552254,8.417707267786032,8.451634699038337,8.481079882371292,8.519171991804647,8.553529592864066,8.584213157424152,8.611871642683568,8.652014052210948,8.682505658777641,8.718283227305623,8.762664848818378,8.781327319661806,8.7954948751859,8.83267425464497,8.8551374711912,8.888665368186079,8.906513972160944,8.926439263041338,8.947577477004685,8.978036432802092,9.006711082553036,9.035804040286973,9.058847961954008,9.079281118597326,9.133177351217647,9.15143211570486,9.173199682862723,9.19725292615134,9.21516948078471,9.238059339007922,9.280027944782777,9.322597957408998,9.356973721030828,9.372464929934278,9.391699973931512,9.427807460688724,9.458970893245604,9.477784938751526,9.53671560283969,9.568020235048373,9.598738175044431,9.624132963166431,9.677495374048583,9.708070609593332,9.749233881574426,9.796187953148706,9.834849894464092,9.85749101036258,9.90146957438057,9.94634671873103,9.989190422950415,10.014928952887932,10.033624946465036,10.074051523792074,10.110819555049076,10.143208419575814,10.17770802759955,10.209597905712315,10.230782503498727,10.266181465335686,10.300879421888155,10.335219101926636,10.35740222196137,10.386436033388842,10.415789223765929,10.443813660602064,10.483647668253816,10.503276294325758,10.540156349569667,10.562106328600118,10.606969004094866,10.632659488661194,10.654480468296558,10.678690325177445,10.714239133824053,10.754232566030561,10.785605329193935,10.806407737022093,10.839332675956522,10.887329446893133,10.919928987041125,10.946093116538785,10.98094699131189,11.006411013997937,11.03459627150061,11.07340120663502,11.112405239192647,11.148523438248017,11.198995714031497,11.240652837539956,11.265429962811057,11.2920257214538,11.312266135970265,11.345271659778494,11.35742850978146,11.393079808531636,11.434559621368617,11.45889035670336,11.494073912565844,11.521276686020329,11.53513619086553,11.56191494806313,11.588752675066885,11.627798490987137,11.693724573237748,11.71974293287302,11.749134588615451,11.7675679778683,11.819604442077104,11.86612277779891,11.897817067839007,11.929141405751958,11.963571679694073,11.99234138213075,12.025400606735234,12.060298793985545,12.091254506230067,12.141259928962361,12.191147379727717,12.21250409287034,12.239426540806477,12.26988671437997,12.302602137225662,12.333834952156078,12.360462751474188,12.392918522936942,12.419651830109707,12.456002409683446,12.492164316205077,12.532678822610281,12.558472888699114,12.586145227500499,12.60998311677419,12.632453506409298,12.676190570787874,12.720809389648414,12.750269169259427,12.770733600294573,12.811898367805611,12.864666491890663,12.88993137318985,12.93154183496717,12.964806205521029,13.01035384789438,13.04332345407953,13.06899318907738,13.1053079304216,13.14996253832242,13.198514417641988,13.232136754124156,13.273210046141728,13.31334756645282,13.338893119444151,13.372118199147085,13.407649723547191,13.458732363454674,13.517312110375162,13.568022844413328,13.59948653774241,13.63637703184783,13.687936090396331,13.729494215716555,13.774405471649686,13.800169236103725,13.821357397462585,13.874801165487852,13.936017437097924,13.979860419970844,14.017828410733655,14.056485883735258,14.122443268108526,14.137908577218957,14.171169165013158,14.239908981469384,14.29907494831117,14.360612811456418,14.403358301987016,14.437331718469146,14.493249917174793,14.527971714174502,14.557404379550624,14.592047404786966,14.633212471227498,14.677823018492763,14.698368182035303,14.728250801995301,14.79321454390075,14.827856000789712,14.894706206194904,14.92284846194351,14.94260040460663,14.985940848445416,15.023677785358577,15.05182092971037,15.137202151889703,15.183438390611277,15.209261221539021,15.299768724132322,15.360344004139042,15.435894391042137,15.472075152467422,15.520366116825492,15.568779068291892,15.62736509580111,15.666115224300157,15.698803495500055,15.753555588677095,15.784275456307334,15.82189820953701,15.856421262228382,15.90119041973623,15.937686614115293,15.979043148240173,16.013685629432484,16.074574686294007,16.11137949761322,16.142318360156125,16.177929008014658,16.206875400502753,16.256607642704274,16.309628644472834,16.386743226860787,16.42390350252588,16.47064062028704,16.529235252532477,16.613045868165003,16.64870940067439,16.667172491667532,16.713305323477595,16.782940630360727,16.815528209594696,16.890659864994987,16.97792852164757,17.02490366823197,17.069596720399545,17.12966802610442,17.183546935005037,17.234391731005154,17.27162001384933,17.324124514358537,17.379798450198823,17.426744309185786,17.505288961425038,17.54809420194062,17.5748084234339,17.62534811650604,17.69129865237202,17.756616372427033,17.831068325425836,17.87735051085754,17.914348116183078,17.9707251603229,18.025650190933383,18.090735301436887,18.1618762850917,18.20775120114873,18.27074884090262,18.290627824028977,18.342202967892085,18.437632459472695,18.475746058440404,18.547401035039037,18.620134919649324,18.669227568053905,18.728829606801348,18.77158242446881,18.83931857755457,18.893220843156598,18.942577327107088,19.006096580963344,19.046219570317383,19.072552883554508,19.121006904723494,19.176544382869338,19.221115541260914,19.25252918511197,19.309658344538594,19.37823196021296,19.41412726197973,19.49154572244747,19.543979862326353,19.60393750896438,19.657880903184946,19.7058595464864,19.75725121315547,19.789327870890624,19.849599016046362,19.896138050317134,19.940942067000478,20.014849976562346,20.071132814623823,20.146231748826466,20.194272635761678,20.250003146501186,20.342976104396598,20.388111172714275,20.440562645840927,20.46924091629104,20.504584371551466,20.56551900787285,20.611508157668297,20.690835123093557,20.755870617156358,20.790286446988762,20.9190691287749,20.951306445387715,21.01001803843622,21.055192873817198,21.09746475137786,21.157532452089832,21.211386226071156,21.278705997596372,21.360959558285572,21.450438416859953,21.520447623808877,21.60108506316408,21.67044092615696,21.733171239580674,21.780263837496502,21.854932455182833,21.922439989308867,21.977527115437272,22.038075341632627,22.112665380212253,22.207450820438606,22.2674642277727,22.30861295870227,22.358332576520127,22.45590973789993,22.57624307098791,22.639864934799757,22.712403028964687,22.80495391324014,22.876492681489456,22.936224712727523,22.986495636516196,23.039262299785605,23.137555387128156,23.279795555933738,23.339599315787794,23.409417473870477,23.47164943712294,23.52848465036535,23.618096883198092,23.67686276465232,23.77831570315598,23.83026846440062,23.893792952710342,23.946399553568604,24.04487097537252,24.135565698853718,24.21480740897288,24.28652769688269,24.331213161672622,24.388758215598955,24.532056785582483,24.63328900297387,24.68733018269936,24.805995336121594,24.88102173713069,25.017093158388136,25.07254720670789,25.225206887981862,25.330562347181328,25.41798935392562,25.530446147517445,25.654248718392957,25.69382621348935,25.745410094974137,25.845283779548403,25.9291786994587,26.012013177656435,26.07461652485307,26.15758275774847,26.290691183138165,26.377148161895608,26.481095652372915,26.611274959381607,26.67208630924067,26.78337918895673,26.855575588191535,26.954273418416655,27.009533144410145,27.078916886186107,27.147856827600876,27.293576603775254,27.401459313565987,27.46729743470469,27.56428579238792,27.65157563702885,27.762385140159502,27.842824242255652,28.003688925100903,28.097791897191353,28.239714654787534,28.33428805280085,28.392886480479035,28.537263087989395,28.621059591072797,28.81213443347272,28.93143880164972,29.043459890466966,29.13981684796652,29.223034892120296,29.342228077421726,29.458094758810027,29.58345059914217,29.71616896047252,29.86332383020136,29.99929576025784,30.090729442354323,30.204691348545463,30.386060419394536,30.539003712401534,30.66517058449167,30.80325783283225,30.909445144085975,31.02602056568437,31.116571771552685,31.32349723547339,31.420793043557655,31.632539932002004,31.726771934457332,31.92221702287313,32.00474407168811,32.130405821762594,32.243943336969686,32.38242302887414,32.49832162633659,32.614335099633436,32.72441148872074,32.85113969751153,32.99540148406993,33.11403177056107,33.30893685447525,33.48040784170867,33.62792857283178,33.70012597297401,33.87036437137681,34.004824927513056,34.21849416728396,34.35649718387428,34.48415032910048,34.58784828734619,34.72118082519448,34.87528265522779,35.01861763920846,35.29997258742112,35.508501756750924,35.64362118663704,35.89417817847903,36.01862438670874,36.2079441952003,36.34248926285322,36.521492063161,36.72783972762318,36.94173744570054,37.11956797047927,37.337813507411354,37.49897462541143,37.76760769094015,37.97649506004001,38.24546511689729,38.708165651538884,38.97434412405062,39.200914857739264,39.49877842892069,39.69662697611254,40.02358511907592,40.29245994224475,40.559238614452326,40.83338645140145,41.10737603200546,41.24527567863662,41.52495246729028,41.80963762451114,42.04902812402795,42.298835096094116,42.531947299319,42.78160796405176,42.965200933046575,43.229153857436195,43.488013706846694,43.92744076425193,44.315283929645034,44.84078574563037,45.44468674756915,45.75807744354869,46.588372367150455,47.12671787015603,47.64298769420465,48.258239363109084,48.77915149207047,49.128030436323975,49.52619179814065,49.89434692431778,50.40534182774531,50.97030090799552,52.1529200253796,53.09957669169265,53.686611958993424,54.53598077495552,55.4128958051448,56.87022402617223,57.54173566164168,58.81084401336375,59.859557628609195,60.98420235998752,62.719385353595904,63.64570843457854,67.07971182734937,70.39863958333831,73.76621057678516,81.37003321449481],\"y\":[2.562894280491009e-7,0.00002453311665112591,0.0002135306007952836,0.00039384040718099824,0.0006446596421196675,0.0009765532963779371,0.0014992163052517777,0.0020349388611332333,0.0024605972523927995,0.0035658371777849062,0.004242061346301566,0.004953358734139277,0.0059825901571242315,0.007596148757515743,0.009261195035428152,0.012398747429523623,0.013717621997527872,0.015430710109774856,0.0171991097863383,0.01862934212915148,0.021758185715905286,0.023517277557960955,0.025236206140657233,0.027384401177840495,0.028706900556297918,0.0316069372888953,0.03370356931401851,0.035995072990522056,0.037656098809024104,0.038771317807521036,0.04142510333435936,0.045799570240821694,0.04782961708828526,0.05127014164313634,0.05451469603152355,0.057828270487346435,0.0607451306186586,0.06382215128478391,0.06734860667789719,0.0712173802590027,0.07378024154256095,0.08166363488393,0.0849921282828289,0.08987928267850782,0.09344916392136288,0.09599527942101402,0.10063205166480185,0.10513252547923534,0.10848934854736703,0.11429779734840367,0.12206551535895549,0.12616510069876802,0.1341605604941959,0.13974656225561644,0.14864720507261195,0.15585703916691646,0.16248312701864337,0.16854980366424666,0.17475826580763248,0.18258435991510985,0.1879732779759572,0.1985876830811404,0.20586445017743077,0.21180881127436957,0.21624972152133665,0.2249994651682714,0.2353765750177811,0.24231119503652265,0.2515189133511089,0.25952120570184517,0.264911565469389,0.27505113172606344,0.2842586740371545,0.29127777495572044,0.29956117742701016,0.3056732036239137,0.31162073143531077,0.31590975181095626,0.3245628069555666,0.33288217638376993,0.34127524158184813,0.34544262870740383,0.3515905246282719,0.3549438365415142,0.36139055961849265,0.3688501670629612,0.3786304832960535,0.388616663584427,0.3965069617127737,0.40217956019095114,0.4097409911261094,0.42029114693587855,0.42453062986094847,0.43514058097929653,0.4443411040880378,0.46065450490377496,0.4693777386024087,0.479748238468023,0.4902233655721262,0.4957460669004042,0.5059695622134119,0.5187013126953225,0.5273825905754747,0.5416733305066821,0.5485239039467467,0.5549361658541881,0.5674482156378875,0.5765576671520627,0.5881093840424274,0.6052914909938993,0.6201308289869102,0.6297715285411472,0.6402477816086704,0.6529158762423564,0.6622001945415656,0.6724755266760881,0.6907109398081144,0.6989228342874139,0.7101292194751909,0.7174405689366332,0.724169155777318,0.7333364755286245,0.7498856859884063,0.7545732244955359,0.762495987955406,0.7731397376455666,0.7827017300692929,0.8001268984768024,0.8120131760942875,0.8188733056827336,0.831424518938312,0.8400450017282295,0.8470979280098201,0.8592767194756927,0.870770080642278,0.8825983187433382,0.8964223305559964,0.9007451232016981,0.9110896890216954,0.9276645825500269,0.9424617545078628,0.9533422245079016,0.9674026980317316,0.9775140340251073,0.9912700623006491,1.0027794952688704,1.0177166608702737,1.0329442402551443,1.0417828789468628,1.0511448259996348,1.0719234982248027,1.0806313602844186,1.0980019925220001,1.1142249407029472,1.1297527027268521,1.1468308077572273,1.1583023140139599,1.1747904728261513,1.1888497264530924,1.2013968658696839,1.2266711050300612,1.2370893502060794,1.2494219239849844,1.2581943734624685,1.2742955083004102,1.2849478264404204,1.2934181550961947,1.3120297370173803,1.3288133459674174,1.3415402567160983,1.3514626013905353,1.3725760400065075,1.3917827469655415,1.4010476510760195,1.4191974994561622,1.432105795314213,1.4529196490419625,1.4678169021354024,1.4778561436791353,1.5002473271355963,1.5215718138632135,1.54295878717976,1.5568370174388044,1.5699038378352337,1.5853495443619612,1.6062733162471687,1.6269988370812105,1.656297732057546,1.6683527562855653,1.6860173525601336,1.7002535228136328,1.7156187699621968,1.7244012463608085,1.739825374437208,1.75975954737812,1.7849101218420897,1.7994664387269328,1.812804744067542,1.829971884392334,1.8461035816087534,1.8640467796678228,1.8893454954680642,1.9004295771069553,1.9196596081565662,1.9365429891470685,1.9499300743652839,1.9679147481830785,1.9849658738037692,2.0048270290207775,2.018874801087022,2.0443487807544845,2.0677306910812208,2.0801191006396937,2.114763967188591,2.131630642240842,2.148352380070762,2.1690742415840747,2.1837140064328326,2.1983208342279994,2.2153206395256717,2.236185683377358,2.2492338848781843,2.265621255147999,2.2856659103696115,2.3098131823779857,2.330356696702708,2.342731260654133,2.3578453278364497,2.376603613639471,2.3933312118291656,2.4202583573723233,2.4445476285341767,2.4594708019070493,2.477123381224041,2.5011430781110713,2.5198943582383087,2.5505565028296155,2.5653917609601393,2.586640989973745,2.610814507375981,2.6231303642534276,2.6378582757564852,2.658685988911699,2.676153216380085,2.6943113154632043,2.714530335830802,2.7371593191122168,2.7569330281104683,2.781209221972637,2.8026795940138127,2.8146802373145214,2.8302337092354337,2.8701567772626304,2.8988125184946583,2.919891706885337,2.9431038154319076,2.9541408505487734,2.971960157751332,2.98826357479556,3.0094603890164717,3.0224040008738458,3.03728633253324,3.0535604186032663,3.0713491745774757,3.101909247647004,3.123461083840695,3.1372550326122792,3.156539671504401,3.1679266801042214,3.1774994147613294,3.1953009344043,3.2121245032817933,3.2317811242337475,3.258400358146905,3.278084177630324,3.2934591570900102,3.316434253682376,3.3344187472316786,3.3465233160270884,3.375280009912983,3.391668913901752,3.415829664781696,3.4301046031836107,3.4536043937061818,3.473120429672501,3.4856080126497346,3.509587258877075,3.5362347363524425,3.5566578860869353,3.5797122560962142,3.59491682553356,3.61169775132137,3.6331151990595227,3.6512227509346644,3.6827956925711316,3.7071087509925587,3.728584685687634,3.745684352911559,3.772860211518053,3.792517240098183,3.8153394360655133,3.847785107470563,3.8745720397046717,3.898456793980727,3.9135055102400385,3.9272806440532326,3.967704570757318,3.9957848910095537,4.025806877445636,4.041874996365177,4.065416505645578,4.08954992434817,4.104449385339281,4.131677262111573,4.157004862525195,4.191620577712651,4.214654990055063,4.241436712891979,4.259107351308463,4.283423266859815,4.291880725937097,4.319289963412284,4.347497132874074,4.360818913836482,4.377137435389101,4.393205160401189,4.425726901578278,4.446984799255723,4.476288405580569,4.493507877193437,4.517858191325537,4.549344890055883,4.572261528160688,4.600813064153355,4.619027790760812,4.657352965277699,4.6827942504273725,4.703350488543325,4.721072870561867,4.744991386441493,4.754007279802479,4.768295698646365,4.784889241686271,4.803792108345134,4.814856634436708,4.843769938286818,4.867812529016976,4.908147910742304,4.934781029597556,4.967236759528256,5.001327235267709,5.013162285453271,5.02953493242209,5.055374216948395,5.07420958320953,5.112064070188707,5.130101279688121,5.145223269576734,5.181542295069805,5.213142473545832,5.239891404079014,5.261440061920839,5.273985145985756,5.2872971554374,5.31171380012367,5.3325300731434355,5.368861389250463,5.3861344832281715,5.400501855112088,5.415505252606167,5.435515895762462,5.4673845102821375,5.4879505623779625,5.5056557359322404,5.532185920512864,5.549729217029125,5.566742337256906,5.60079979254621,5.609611876591917,5.631673469263544,5.662266277997476,5.687555985298573,5.699099828926975,5.71761385894926,5.744430402482258,5.770375853216313,5.784207923242947,5.7974953556075475,5.820059513882951,5.848497315978442,5.870013335269361,5.888907692174257,5.927595377554704,5.957224577312674,5.9800249314603695,6.000053527749317,6.01536281646111,6.029668320413437,6.052167287405124,6.076151558736944,6.0891107678624925,6.111167704991201,6.1302446350705155,6.161052149218913,6.182444926997914,6.219751020735755,6.245811684824273,6.288016163790699,6.309320916478761,6.354709639349399,6.394259112545289,6.413817705553433,6.430012358625838,6.463880221474085,6.479696536269982,6.507954726302474,6.540259081476319,6.571736685882668,6.593313117346977,6.624538242945757,6.654100472327583,6.672352325738077,6.700058885331282,6.728700949247965,6.739815077847688,6.765840240232812,6.797867748140928,6.8293721572777955,6.878770636171017,6.906235548777998,6.9278273234235375,6.953132638817149,6.988455885708157,7.015554211132974,7.041466850907241,7.068387897430409,7.1003772182195615,7.13335465152268,7.148887007615148,7.166124627466676,7.184911232259757,7.203359110753127,7.2340294222338954,7.283672815519216,7.307829460429177,7.3327022286388654,7.3667428873975815,7.387803812539488,7.416941387591605,7.443166265395151,7.466002829066454,7.49045636413658,7.519442960289055,7.528294376183172,7.54487421645015,7.562950562317749,7.582639445676831,7.616196154177204,7.654913222456479,7.696412242308998,7.730267093758664,7.769303577398931,7.806380910728697,7.835396351473827,7.864954955216559,7.884255609302549,7.902528439659928,7.930157797464295,7.954970866624773,8.002050624028968,8.025021181786133,8.037714820959698,8.057746579151136,8.078679665657733,8.107720500453523,8.145056270028295,8.176220755216697,8.194450337098232,8.210710164284613,8.224616444670996,8.246445011327545,8.281562781051075,8.299355599303627,8.324142644557352,8.350777537600727,8.382402381552254,8.417707267786032,8.451634699038337,8.481079882371292,8.519171991804647,8.553529592864066,8.584213157424152,8.611871642683568,8.652014052210948,8.682505658777641,8.718283227305623,8.762664848818378,8.781327319661806,8.7954948751859,8.83267425464497,8.8551374711912,8.888665368186079,8.906513972160944,8.926439263041338,8.947577477004685,8.978036432802092,9.006711082553036,9.035804040286973,9.058847961954008,9.079281118597326,9.133177351217647,9.15143211570486,9.173199682862723,9.19725292615134,9.21516948078471,9.238059339007922,9.280027944782777,9.322597957408998,9.356973721030828,9.372464929934278,9.391699973931512,9.427807460688724,9.458970893245604,9.477784938751526,9.53671560283969,9.568020235048373,9.598738175044431,9.624132963166431,9.677495374048583,9.708070609593332,9.749233881574426,9.796187953148706,9.834849894464092,9.85749101036258,9.90146957438057,9.94634671873103,9.989190422950415,10.014928952887932,10.033624946465036,10.074051523792074,10.110819555049076,10.143208419575814,10.17770802759955,10.209597905712315,10.230782503498727,10.266181465335686,10.300879421888155,10.335219101926636,10.35740222196137,10.386436033388842,10.415789223765929,10.443813660602064,10.483647668253816,10.503276294325758,10.540156349569667,10.562106328600118,10.606969004094866,10.632659488661194,10.654480468296558,10.678690325177445,10.714239133824053,10.754232566030561,10.785605329193935,10.806407737022093,10.839332675956522,10.887329446893133,10.919928987041125,10.946093116538785,10.98094699131189,11.006411013997937,11.03459627150061,11.07340120663502,11.112405239192647,11.148523438248017,11.198995714031497,11.240652837539956,11.265429962811057,11.2920257214538,11.312266135970265,11.345271659778494,11.35742850978146,11.393079808531636,11.434559621368617,11.45889035670336,11.494073912565844,11.521276686020329,11.53513619086553,11.56191494806313,11.588752675066885,11.627798490987137,11.693724573237748,11.71974293287302,11.749134588615451,11.7675679778683,11.819604442077104,11.86612277779891,11.897817067839007,11.929141405751958,11.963571679694073,11.99234138213075,12.025400606735234,12.060298793985545,12.091254506230067,12.141259928962361,12.191147379727717,12.21250409287034,12.239426540806477,12.26988671437997,12.302602137225662,12.333834952156078,12.360462751474188,12.392918522936942,12.419651830109707,12.456002409683446,12.492164316205077,12.532678822610281,12.558472888699114,12.586145227500499,12.60998311677419,12.632453506409298,12.676190570787874,12.720809389648414,12.750269169259427,12.770733600294573,12.811898367805611,12.864666491890663,12.88993137318985,12.93154183496717,12.964806205521029,13.01035384789438,13.04332345407953,13.06899318907738,13.1053079304216,13.14996253832242,13.198514417641988,13.232136754124156,13.273210046141728,13.31334756645282,13.338893119444151,13.372118199147085,13.407649723547191,13.458732363454674,13.517312110375162,13.568022844413328,13.59948653774241,13.63637703184783,13.687936090396331,13.729494215716555,13.774405471649686,13.800169236103725,13.821357397462585,13.874801165487852,13.936017437097924,13.979860419970844,14.017828410733655,14.056485883735258,14.122443268108526,14.137908577218957,14.171169165013158,14.239908981469384,14.29907494831117,14.360612811456418,14.403358301987016,14.437331718469146,14.493249917174793,14.527971714174502,14.557404379550624,14.592047404786966,14.633212471227498,14.677823018492763,14.698368182035303,14.728250801995301,14.79321454390075,14.827856000789712,14.894706206194904,14.92284846194351,14.94260040460663,14.985940848445416,15.023677785358577,15.05182092971037,15.137202151889703,15.183438390611277,15.209261221539021,15.299768724132322,15.360344004139042,15.435894391042137,15.472075152467422,15.520366116825492,15.568779068291892,15.62736509580111,15.666115224300157,15.698803495500055,15.753555588677095,15.784275456307334,15.82189820953701,15.856421262228382,15.90119041973623,15.937686614115293,15.979043148240173,16.013685629432484,16.074574686294007,16.11137949761322,16.142318360156125,16.177929008014658,16.206875400502753,16.256607642704274,16.309628644472834,16.386743226860787,16.42390350252588,16.47064062028704,16.529235252532477,16.613045868165003,16.64870940067439,16.667172491667532,16.713305323477595,16.782940630360727,16.815528209594696,16.890659864994987,16.97792852164757,17.02490366823197,17.069596720399545,17.12966802610442,17.183546935005037,17.234391731005154,17.27162001384933,17.324124514358537,17.379798450198823,17.426744309185786,17.505288961425038,17.54809420194062,17.5748084234339,17.62534811650604,17.69129865237202,17.756616372427033,17.831068325425836,17.87735051085754,17.914348116183078,17.9707251603229,18.025650190933383,18.090735301436887,18.1618762850917,18.20775120114873,18.27074884090262,18.290627824028977,18.342202967892085,18.437632459472695,18.475746058440404,18.547401035039037,18.620134919649324,18.669227568053905,18.728829606801348,18.77158242446881,18.83931857755457,18.893220843156598,18.942577327107088,19.006096580963344,19.046219570317383,19.072552883554508,19.121006904723494,19.176544382869338,19.221115541260914,19.25252918511197,19.309658344538594,19.37823196021296,19.41412726197973,19.49154572244747,19.543979862326353,19.60393750896438,19.657880903184946,19.7058595464864,19.75725121315547,19.789327870890624,19.849599016046362,19.896138050317134,19.940942067000478,20.014849976562346,20.071132814623823,20.146231748826466,20.194272635761678,20.250003146501186,20.342976104396598,20.388111172714275,20.440562645840927,20.46924091629104,20.504584371551466,20.56551900787285,20.611508157668297,20.690835123093557,20.755870617156358,20.790286446988762,20.9190691287749,20.951306445387715,21.01001803843622,21.055192873817198,21.09746475137786,21.157532452089832,21.211386226071156,21.278705997596372,21.360959558285572,21.450438416859953,21.520447623808877,21.60108506316408,21.67044092615696,21.733171239580674,21.780263837496502,21.854932455182833,21.922439989308867,21.977527115437272,22.038075341632627,22.112665380212253,22.207450820438606,22.2674642277727,22.30861295870227,22.358332576520127,22.45590973789993,22.57624307098791,22.639864934799757,22.712403028964687,22.80495391324014,22.876492681489456,22.936224712727523,22.986495636516196,23.039262299785605,23.137555387128156,23.279795555933738,23.339599315787794,23.409417473870477,23.47164943712294,23.52848465036535,23.618096883198092,23.67686276465232,23.77831570315598,23.83026846440062,23.893792952710342,23.946399553568604,24.04487097537252,24.135565698853718,24.21480740897288,24.28652769688269,24.331213161672622,24.388758215598955,24.532056785582483,24.63328900297387,24.68733018269936,24.805995336121594,24.88102173713069,25.017093158388136,25.07254720670789,25.225206887981862,25.330562347181328,25.41798935392562,25.530446147517445,25.654248718392957,25.69382621348935,25.745410094974137,25.845283779548403,25.9291786994587,26.012013177656435,26.07461652485307,26.15758275774847,26.290691183138165,26.377148161895608,26.481095652372915,26.611274959381607,26.67208630924067,26.78337918895673,26.855575588191535,26.954273418416655,27.009533144410145,27.078916886186107,27.147856827600876,27.293576603775254,27.401459313565987,27.46729743470469,27.56428579238792,27.65157563702885,27.762385140159502,27.842824242255652,28.003688925100903,28.097791897191353,28.239714654787534,28.33428805280085,28.392886480479035,28.537263087989395,28.621059591072797,28.81213443347272,28.93143880164972,29.043459890466966,29.13981684796652,29.223034892120296,29.342228077421726,29.458094758810027,29.58345059914217,29.71616896047252,29.86332383020136,29.99929576025784,30.090729442354323,30.204691348545463,30.386060419394536,30.539003712401534,30.66517058449167,30.80325783283225,30.909445144085975,31.02602056568437,31.116571771552685,31.32349723547339,31.420793043557655,31.632539932002004,31.726771934457332,31.92221702287313,32.00474407168811,32.130405821762594,32.243943336969686,32.38242302887414,32.49832162633659,32.614335099633436,32.72441148872074,32.85113969751153,32.99540148406993,33.11403177056107,33.30893685447525,33.48040784170867,33.62792857283178,33.70012597297401,33.87036437137681,34.004824927513056,34.21849416728396,34.35649718387428,34.48415032910048,34.58784828734619,34.72118082519448,34.87528265522779,35.01861763920846,35.29997258742112,35.508501756750924,35.64362118663704,35.89417817847903,36.01862438670874,36.2079441952003,36.34248926285322,36.521492063161,36.72783972762318,36.94173744570054,37.11956797047927,37.337813507411354,37.49897462541143,37.76760769094015,37.97649506004001,38.24546511689729,38.708165651538884,38.97434412405062,39.200914857739264,39.49877842892069,39.69662697611254,40.02358511907592,40.29245994224475,40.559238614452326,40.83338645140145,41.10737603200546,41.24527567863662,41.52495246729028,41.80963762451114,42.04902812402795,42.298835096094116,42.531947299319,42.78160796405176,42.965200933046575,43.229153857436195,43.488013706846694,43.92744076425193,44.315283929645034,44.84078574563037,45.44468674756915,45.75807744354869,46.588372367150455,47.12671787015603,47.64298769420465,48.258239363109084,48.77915149207047,49.128030436323975,49.52619179814065,49.89434692431778,50.40534182774531,50.97030090799552,52.1529200253796,53.09957669169265,53.686611958993424,54.53598077495552,55.4128958051448,56.87022402617223,57.54173566164168,58.81084401336375,59.859557628609195,60.98420235998752,62.719385353595904,63.64570843457854,67.07971182734937,70.39863958333831,73.76621057678516,81.37003321449481],\"type\":\"scatter\"}],                        {\"paper_bgcolor\":\"rgb(255, 255, 255)\",\"plot_bgcolor\":\"rgb(255, 255, 255)\",\"template\":{\"data\":{\"barpolar\":[{\"marker\":{\"line\":{\"color\":\"#E5ECF6\",\"width\":0.5},\"pattern\":{\"fillmode\":\"overlay\",\"size\":10,\"solidity\":0.2}},\"type\":\"barpolar\"}],\"bar\":[{\"error_x\":{\"color\":\"#2a3f5f\"},\"error_y\":{\"color\":\"#2a3f5f\"},\"marker\":{\"line\":{\"color\":\"#E5ECF6\",\"width\":0.5},\"pattern\":{\"fillmode\":\"overlay\",\"size\":10,\"solidity\":0.2}},\"type\":\"bar\"}],\"carpet\":[{\"aaxis\":{\"endlinecolor\":\"#2a3f5f\",\"gridcolor\":\"white\",\"linecolor\":\"white\",\"minorgridcolor\":\"white\",\"startlinecolor\":\"#2a3f5f\"},\"baxis\":{\"endlinecolor\":\"#2a3f5f\",\"gridcolor\":\"white\",\"linecolor\":\"white\",\"minorgridcolor\":\"white\",\"startlinecolor\":\"#2a3f5f\"},\"type\":\"carpet\"}],\"choropleth\":[{\"colorbar\":{\"outlinewidth\":0,\"ticks\":\"\"},\"type\":\"choropleth\"}],\"contourcarpet\":[{\"colorbar\":{\"outlinewidth\":0,\"ticks\":\"\"},\"type\":\"contourcarpet\"}],\"contour\":[{\"colorbar\":{\"outlinewidth\":0,\"ticks\":\"\"},\"colorscale\":[[0.0,\"#0d0887\"],[0.1111111111111111,\"#46039f\"],[0.2222222222222222,\"#7201a8\"],[0.3333333333333333,\"#9c179e\"],[0.4444444444444444,\"#bd3786\"],[0.5555555555555556,\"#d8576b\"],[0.6666666666666666,\"#ed7953\"],[0.7777777777777778,\"#fb9f3a\"],[0.8888888888888888,\"#fdca26\"],[1.0,\"#f0f921\"]],\"type\":\"contour\"}],\"heatmapgl\":[{\"colorbar\":{\"outlinewidth\":0,\"ticks\":\"\"},\"colorscale\":[[0.0,\"#0d0887\"],[0.1111111111111111,\"#46039f\"],[0.2222222222222222,\"#7201a8\"],[0.3333333333333333,\"#9c179e\"],[0.4444444444444444,\"#bd3786\"],[0.5555555555555556,\"#d8576b\"],[0.6666666666666666,\"#ed7953\"],[0.7777777777777778,\"#fb9f3a\"],[0.8888888888888888,\"#fdca26\"],[1.0,\"#f0f921\"]],\"type\":\"heatmapgl\"}],\"heatmap\":[{\"colorbar\":{\"outlinewidth\":0,\"ticks\":\"\"},\"colorscale\":[[0.0,\"#0d0887\"],[0.1111111111111111,\"#46039f\"],[0.2222222222222222,\"#7201a8\"],[0.3333333333333333,\"#9c179e\"],[0.4444444444444444,\"#bd3786\"],[0.5555555555555556,\"#d8576b\"],[0.6666666666666666,\"#ed7953\"],[0.7777777777777778,\"#fb9f3a\"],[0.8888888888888888,\"#fdca26\"],[1.0,\"#f0f921\"]],\"type\":\"heatmap\"}],\"histogram2dcontour\":[{\"colorbar\":{\"outlinewidth\":0,\"ticks\":\"\"},\"colorscale\":[[0.0,\"#0d0887\"],[0.1111111111111111,\"#46039f\"],[0.2222222222222222,\"#7201a8\"],[0.3333333333333333,\"#9c179e\"],[0.4444444444444444,\"#bd3786\"],[0.5555555555555556,\"#d8576b\"],[0.6666666666666666,\"#ed7953\"],[0.7777777777777778,\"#fb9f3a\"],[0.8888888888888888,\"#fdca26\"],[1.0,\"#f0f921\"]],\"type\":\"histogram2dcontour\"}],\"histogram2d\":[{\"colorbar\":{\"outlinewidth\":0,\"ticks\":\"\"},\"colorscale\":[[0.0,\"#0d0887\"],[0.1111111111111111,\"#46039f\"],[0.2222222222222222,\"#7201a8\"],[0.3333333333333333,\"#9c179e\"],[0.4444444444444444,\"#bd3786\"],[0.5555555555555556,\"#d8576b\"],[0.6666666666666666,\"#ed7953\"],[0.7777777777777778,\"#fb9f3a\"],[0.8888888888888888,\"#fdca26\"],[1.0,\"#f0f921\"]],\"type\":\"histogram2d\"}],\"histogram\":[{\"marker\":{\"pattern\":{\"fillmode\":\"overlay\",\"size\":10,\"solidity\":0.2}},\"type\":\"histogram\"}],\"mesh3d\":[{\"colorbar\":{\"outlinewidth\":0,\"ticks\":\"\"},\"type\":\"mesh3d\"}],\"parcoords\":[{\"line\":{\"colorbar\":{\"outlinewidth\":0,\"ticks\":\"\"}},\"type\":\"parcoords\"}],\"pie\":[{\"automargin\":true,\"type\":\"pie\"}],\"scatter3d\":[{\"line\":{\"colorbar\":{\"outlinewidth\":0,\"ticks\":\"\"}},\"marker\":{\"colorbar\":{\"outlinewidth\":0,\"ticks\":\"\"}},\"type\":\"scatter3d\"}],\"scattercarpet\":[{\"marker\":{\"colorbar\":{\"outlinewidth\":0,\"ticks\":\"\"}},\"type\":\"scattercarpet\"}],\"scattergeo\":[{\"marker\":{\"colorbar\":{\"outlinewidth\":0,\"ticks\":\"\"}},\"type\":\"scattergeo\"}],\"scattergl\":[{\"marker\":{\"colorbar\":{\"outlinewidth\":0,\"ticks\":\"\"}},\"type\":\"scattergl\"}],\"scattermapbox\":[{\"marker\":{\"colorbar\":{\"outlinewidth\":0,\"ticks\":\"\"}},\"type\":\"scattermapbox\"}],\"scatterpolargl\":[{\"marker\":{\"colorbar\":{\"outlinewidth\":0,\"ticks\":\"\"}},\"type\":\"scatterpolargl\"}],\"scatterpolar\":[{\"marker\":{\"colorbar\":{\"outlinewidth\":0,\"ticks\":\"\"}},\"type\":\"scatterpolar\"}],\"scatter\":[{\"marker\":{\"colorbar\":{\"outlinewidth\":0,\"ticks\":\"\"}},\"type\":\"scatter\"}],\"scatterternary\":[{\"marker\":{\"colorbar\":{\"outlinewidth\":0,\"ticks\":\"\"}},\"type\":\"scatterternary\"}],\"surface\":[{\"colorbar\":{\"outlinewidth\":0,\"ticks\":\"\"},\"colorscale\":[[0.0,\"#0d0887\"],[0.1111111111111111,\"#46039f\"],[0.2222222222222222,\"#7201a8\"],[0.3333333333333333,\"#9c179e\"],[0.4444444444444444,\"#bd3786\"],[0.5555555555555556,\"#d8576b\"],[0.6666666666666666,\"#ed7953\"],[0.7777777777777778,\"#fb9f3a\"],[0.8888888888888888,\"#fdca26\"],[1.0,\"#f0f921\"]],\"type\":\"surface\"}],\"table\":[{\"cells\":{\"fill\":{\"color\":\"#EBF0F8\"},\"line\":{\"color\":\"white\"}},\"header\":{\"fill\":{\"color\":\"#C8D4E3\"},\"line\":{\"color\":\"white\"}},\"type\":\"table\"}]},\"layout\":{\"annotationdefaults\":{\"arrowcolor\":\"#2a3f5f\",\"arrowhead\":0,\"arrowwidth\":1},\"autotypenumbers\":\"strict\",\"coloraxis\":{\"colorbar\":{\"outlinewidth\":0,\"ticks\":\"\"}},\"colorscale\":{\"diverging\":[[0,\"#8e0152\"],[0.1,\"#c51b7d\"],[0.2,\"#de77ae\"],[0.3,\"#f1b6da\"],[0.4,\"#fde0ef\"],[0.5,\"#f7f7f7\"],[0.6,\"#e6f5d0\"],[0.7,\"#b8e186\"],[0.8,\"#7fbc41\"],[0.9,\"#4d9221\"],[1,\"#276419\"]],\"sequential\":[[0.0,\"#0d0887\"],[0.1111111111111111,\"#46039f\"],[0.2222222222222222,\"#7201a8\"],[0.3333333333333333,\"#9c179e\"],[0.4444444444444444,\"#bd3786\"],[0.5555555555555556,\"#d8576b\"],[0.6666666666666666,\"#ed7953\"],[0.7777777777777778,\"#fb9f3a\"],[0.8888888888888888,\"#fdca26\"],[1.0,\"#f0f921\"]],\"sequentialminus\":[[0.0,\"#0d0887\"],[0.1111111111111111,\"#46039f\"],[0.2222222222222222,\"#7201a8\"],[0.3333333333333333,\"#9c179e\"],[0.4444444444444444,\"#bd3786\"],[0.5555555555555556,\"#d8576b\"],[0.6666666666666666,\"#ed7953\"],[0.7777777777777778,\"#fb9f3a\"],[0.8888888888888888,\"#fdca26\"],[1.0,\"#f0f921\"]]},\"colorway\":[\"#636efa\",\"#EF553B\",\"#00cc96\",\"#ab63fa\",\"#FFA15A\",\"#19d3f3\",\"#FF6692\",\"#B6E880\",\"#FF97FF\",\"#FECB52\"],\"font\":{\"color\":\"#2a3f5f\"},\"geo\":{\"bgcolor\":\"white\",\"lakecolor\":\"white\",\"landcolor\":\"#E5ECF6\",\"showlakes\":true,\"showland\":true,\"subunitcolor\":\"white\"},\"hoverlabel\":{\"align\":\"left\"},\"hovermode\":\"closest\",\"mapbox\":{\"style\":\"light\"},\"paper_bgcolor\":\"white\",\"plot_bgcolor\":\"#E5ECF6\",\"polar\":{\"angularaxis\":{\"gridcolor\":\"white\",\"linecolor\":\"white\",\"ticks\":\"\"},\"bgcolor\":\"#E5ECF6\",\"radialaxis\":{\"gridcolor\":\"white\",\"linecolor\":\"white\",\"ticks\":\"\"}},\"scene\":{\"xaxis\":{\"backgroundcolor\":\"#E5ECF6\",\"gridcolor\":\"white\",\"gridwidth\":2,\"linecolor\":\"white\",\"showbackground\":true,\"ticks\":\"\",\"zerolinecolor\":\"white\"},\"yaxis\":{\"backgroundcolor\":\"#E5ECF6\",\"gridcolor\":\"white\",\"gridwidth\":2,\"linecolor\":\"white\",\"showbackground\":true,\"ticks\":\"\",\"zerolinecolor\":\"white\"},\"zaxis\":{\"backgroundcolor\":\"#E5ECF6\",\"gridcolor\":\"white\",\"gridwidth\":2,\"linecolor\":\"white\",\"showbackground\":true,\"ticks\":\"\",\"zerolinecolor\":\"white\"}},\"shapedefaults\":{\"line\":{\"color\":\"#2a3f5f\"}},\"ternary\":{\"aaxis\":{\"gridcolor\":\"white\",\"linecolor\":\"white\",\"ticks\":\"\"},\"baxis\":{\"gridcolor\":\"white\",\"linecolor\":\"white\",\"ticks\":\"\"},\"bgcolor\":\"#E5ECF6\",\"caxis\":{\"gridcolor\":\"white\",\"linecolor\":\"white\",\"ticks\":\"\"}},\"title\":{\"x\":0.05},\"xaxis\":{\"automargin\":true,\"gridcolor\":\"white\",\"linecolor\":\"white\",\"ticks\":\"\",\"title\":{\"standoff\":15},\"zerolinecolor\":\"white\",\"zerolinewidth\":2},\"yaxis\":{\"automargin\":true,\"gridcolor\":\"white\",\"linecolor\":\"white\",\"ticks\":\"\",\"title\":{\"standoff\":15},\"zerolinecolor\":\"white\",\"zerolinewidth\":2}}},\"title\":{\"text\":\"QQ Plots of income\"},\"xaxis\":{\"linewidth\":1,\"mirror\":true,\"title\":{\"text\":\"income\"},\"zeroline\":false},\"yaxis\":{\"linewidth\":1,\"mirror\":true,\"zeroline\":false}},                        {\"responsive\": true}                    ).then(function(){\n                            \nvar gd = document.getElementById('7203e7e8-c695-4e06-8c23-84ab5019ae49');\nvar x = new MutationObserver(function (mutations, observer) {{\n        var display = window.getComputedStyle(gd).display;\n        if (!display || display === 'none') {{\n            console.log([gd, 'removed!']);\n            Plotly.purge(gd);\n            observer.disconnect();\n        }}\n}});\n\n// Listen for the removal of the full notebook cells\nvar notebookContainer = gd.closest('#notebook-container');\nif (notebookContainer) {{\n    x.observe(notebookContainer, {childList: true});\n}}\n\n// Listen for the clearing of the current output cell\nvar outputEl = gd.closest('.output');\nif (outputEl) {{\n    x.observe(outputEl, {childList: true});\n}}\n\n                        })                };                });            </script>        </div>"
          },
          "metadata": {}
        }
      ]
    },
    {
      "cell_type": "markdown",
      "metadata": {
        "originalKey": "8e655fe2-bd3a-45ef-831d-db1f53ae9d47",
        "showInput": false,
        "customInput": null
      },
      "source": [
        "# Adjusting Sample to Population (ipw and cbps)"
      ]
    },
    {
      "cell_type": "markdown",
      "metadata": {
        "originalKey": "e9b761e7-f127-4d2a-ae0b-8b69c37a74ff",
        "showInput": false,
        "customInput": null
      },
      "source": [
        "Next, we adjust the sample to the target. The default method to be used is 'ipw' (which uses inverse probability/propensity weights, after running logistic regression with lasso regularization)."
      ]
    },
    {
      "cell_type": "code",
      "metadata": {
        "originalKey": "13820836-9701-49fb-9b2c-e12babb1a01e",
        "showInput": true,
        "customInput": null,
        "collapsed": false,
        "requestMsgId": "54a7dcfc-d43d-4c0a-8f1f-af3422174b87",
        "customOutput": null,
        "executionStartTime": 1669112580111,
        "executionStopTime": 1669112583174
      },
      "source": [
        "# Using ipw to fit survey weights\n",
        "adjusted_ipw = sample_with_target.adjust(max_de=None)"
      ],
      "execution_count": 16,
      "outputs": [
        {
          "output_type": "stream",
          "name": "stderr",
          "text": [
            "INFO (2022-11-22 02:23:00,149) [ipw/ipw (line 408)]: Starting ipw function\n"
          ]
        },
        {
          "output_type": "stream",
          "name": "stderr",
          "text": [
            "INFO (2022-11-22 02:23:00,157) [adjustment/apply_transformations (line 236)]: Adding the variables: []\n"
          ]
        },
        {
          "output_type": "stream",
          "name": "stderr",
          "text": [
            "INFO (2022-11-22 02:23:00,158) [adjustment/apply_transformations (line 237)]: Transforming the variables: ['age_group', 'gender', 'income']\n"
          ]
        },
        {
          "output_type": "stream",
          "name": "stderr",
          "text": [
            "INFO (2022-11-22 02:23:00,220) [adjustment/apply_transformations (line 274)]: Final variables in output: ['age_group', 'gender', 'income']\n"
          ]
        },
        {
          "output_type": "stream",
          "name": "stderr",
          "text": [
            "INFO (2022-11-22 02:23:00,260) [ipw/ipw (line 442)]: Building model matrix\n"
          ]
        },
        {
          "output_type": "stream",
          "name": "stderr",
          "text": [
            "INFO (2022-11-22 02:23:00,438) [ipw/ipw (line 466)]: The formula used to build the model matrix: ['income + gender + age_group + _is_na_gender']\n"
          ]
        },
        {
          "output_type": "stream",
          "name": "stderr",
          "text": [
            "INFO (2022-11-22 02:23:00,439) [ipw/ipw (line 469)]: The number of columns in the model matrix: 16\n"
          ]
        },
        {
          "output_type": "stream",
          "name": "stderr",
          "text": [
            "INFO (2022-11-22 02:23:00,440) [ipw/ipw (line 470)]: The number of rows in the model matrix: 11000\n"
          ]
        },
        {
          "output_type": "stream",
          "name": "stderr",
          "text": [
            "INFO (2022-11-22 02:23:00,464) [ipw/ipw (line 501)]: Fitting logistic model\n"
          ]
        },
        {
          "output_type": "stream",
          "name": "stderr",
          "text": [
            "INFO (2022-11-22 02:23:03,089) [ipw/ipw (line 573)]: Chosen lambda for cv: [0.01386604]\n"
          ]
        },
        {
          "output_type": "stream",
          "name": "stderr",
          "text": [
            "INFO (2022-11-22 02:23:03,091) [ipw/ipw (line 581)]: Proportion null deviance explained [0.17374302]\n"
          ]
        }
      ]
    },
    {
      "cell_type": "code",
      "metadata": {
        "originalKey": "286a4060-e0eb-4c19-8792-82913e779c25",
        "showInput": true,
        "customInput": null,
        "collapsed": false,
        "requestMsgId": "416bab15-f1e5-4736-928f-0c02b56f3e31",
        "customOutput": null,
        "executionStartTime": 1669112613234,
        "executionStopTime": 1669112621874
      },
      "source": [
        "adjusted_cbps = sample_with_target.adjust(method = \"cbps\")"
      ],
      "execution_count": 17,
      "outputs": [
        {
          "output_type": "stream",
          "name": "stderr",
          "text": [
            "INFO (2022-11-22 02:23:33,272) [cbps/cbps (line 409)]: Starting cbps function\n"
          ]
        },
        {
          "output_type": "stream",
          "name": "stderr",
          "text": [
            "INFO (2022-11-22 02:23:33,281) [adjustment/apply_transformations (line 236)]: Adding the variables: []\n"
          ]
        },
        {
          "output_type": "stream",
          "name": "stderr",
          "text": [
            "INFO (2022-11-22 02:23:33,282) [adjustment/apply_transformations (line 237)]: Transforming the variables: ['age_group', 'gender', 'income']\n"
          ]
        },
        {
          "output_type": "stream",
          "name": "stderr",
          "text": [
            "INFO (2022-11-22 02:23:33,336) [adjustment/apply_transformations (line 274)]: Final variables in output: ['age_group', 'gender', 'income']\n"
          ]
        },
        {
          "output_type": "stream",
          "name": "stderr",
          "text": [
            "INFO (2022-11-22 02:23:33,548) [cbps/cbps (line 460)]: The formula used to build the model matrix: ['income + gender + age_group + _is_na_gender']\n"
          ]
        },
        {
          "output_type": "stream",
          "name": "stderr",
          "text": [
            "INFO (2022-11-22 02:23:33,553) [cbps/cbps (line 472)]: The number of columns in the model matrix: 16\n"
          ]
        },
        {
          "output_type": "stream",
          "name": "stderr",
          "text": [
            "INFO (2022-11-22 02:23:33,554) [cbps/cbps (line 473)]: The number of rows in the model matrix: 11000\n"
          ]
        },
        {
          "output_type": "stream",
          "name": "stderr",
          "text": [
            "INFO (2022-11-22 02:23:33,659) [cbps/cbps (line 535)]: Finding initial estimator for GMM optimization\n"
          ]
        },
        {
          "output_type": "stream",
          "name": "stderr",
          "text": [
            "INFO (2022-11-22 02:23:33,984) [cbps/cbps (line 562)]: Finding initial estimator for GMM optimization that minimizes the balance loss\n"
          ]
        },
        {
          "output_type": "stream",
          "name": "stderr",
          "text": [
            "WARNING (2022-11-22 02:23:36,366) [cbps/cbps (line 579)]: Convergence of bal_loss function has failed due to 'Maximum number of function evaluations has been exceeded.'\n"
          ]
        },
        {
          "output_type": "stream",
          "name": "stderr",
          "text": [
            "INFO (2022-11-22 02:23:36,368) [cbps/cbps (line 597)]: Running GMM optimization\n"
          ]
        },
        {
          "output_type": "stream",
          "name": "stderr",
          "text": [
            "WARNING (2022-11-22 02:23:39,235) [cbps/cbps (line 612)]: Convergence of gmm_loss function with gmm_init start point has failed due to 'Maximum number of function evaluations has been exceeded.'\n"
          ]
        },
        {
          "output_type": "stream",
          "name": "stderr",
          "text": [
            "WARNING (2022-11-22 02:23:41,660) [cbps/cbps (line 630)]: Convergence of gmm_loss function with beta_balance start point has failed due to 'Maximum number of function evaluations has been exceeded.'\n"
          ]
        },
        {
          "output_type": "stream",
          "name": "stderr",
          "text": [
            "INFO (2022-11-22 02:23:41,681) [cbps/cbps (line 726)]: Done cbps function\n"
          ]
        }
      ]
    },
    {
      "cell_type": "code",
      "metadata": {
        "originalKey": "04aa8559-ea40-45c2-bf50-7b5c3c411a7f",
        "showInput": true,
        "customInput": null,
        "collapsed": false,
        "requestMsgId": "d8f5ddd9-ad8a-495b-838a-5284bb188451",
        "customOutput": null,
        "executionStartTime": 1669112633221,
        "executionStopTime": 1669112633229
      },
      "source": [
        "print(adjusted_ipw)"
      ],
      "execution_count": 18,
      "outputs": [
        {
          "output_type": "stream",
          "name": "stdout",
          "text": [
            "\n        Adjusted balance Sample object with target set using ipw\n        1000 observations x 3 variables: gender,age_group,income\n        id_column: id, weight_column: weight,\n        outcome_columns: happiness\n        \n            target:\n                 \n\t        balance Sample object\n\t        10000 observations x 3 variables: gender,age_group,income\n\t        id_column: id, weight_column: weight,\n\t        outcome_columns: None\n\t        \n            3 common variables: age_group,gender,income\n            \n"
          ]
        }
      ]
    },
    {
      "cell_type": "code",
      "metadata": {
        "originalKey": "f2a78b44-8000-4ec2-8abb-b6a5efdf9e1b",
        "showInput": true,
        "customInput": null,
        "collapsed": false,
        "requestMsgId": "dbfb5065-8a58-46f9-8096-a2fccf2b7d48",
        "customOutput": null,
        "executionStartTime": 1669112637982,
        "executionStopTime": 1669112637990
      },
      "source": [
        "# the adjusted object will look the same as ipw \n",
        "print(adjusted_cbps)"
      ],
      "execution_count": 19,
      "outputs": [
        {
          "output_type": "stream",
          "name": "stdout",
          "text": [
            "\n        Adjusted balance Sample object with target set using cbps\n        1000 observations x 3 variables: gender,age_group,income\n        id_column: id, weight_column: weight,\n        outcome_columns: happiness\n        \n            target:\n                 \n\t        balance Sample object\n\t        10000 observations x 3 variables: gender,age_group,income\n\t        id_column: id, weight_column: weight,\n\t        outcome_columns: None\n\t        \n            3 common variables: age_group,gender,income\n            \n"
          ]
        }
      ]
    },
    {
      "cell_type": "markdown",
      "metadata": {
        "originalKey": "adae8e09-1593-4344-aa2d-49234c3492c3",
        "showInput": false,
        "customInput": null
      },
      "source": [
        "# Evaluation of the Results (CBPS vs IPW)"
      ]
    },
    {
      "cell_type": "markdown",
      "metadata": {
        "originalKey": "5041c183-de1d-45f3-81a1-2d80ec776afd",
        "showInput": false,
        "customInput": null
      },
      "source": [
        "We can get a basic summary of the results:"
      ]
    },
    {
      "cell_type": "code",
      "metadata": {
        "originalKey": "a09fb0be-982c-4f7d-acb7-4627c97c6b92",
        "showInput": true,
        "customInput": null,
        "collapsed": false,
        "requestMsgId": "58608cc0-143c-47ec-b6bf-69c8ede318d7",
        "executionStopTime": 1669114652026,
        "customOutput": null,
        "executionStartTime": 1669114651563
      },
      "source": [
        "print(adjusted_ipw.summary())"
      ],
      "execution_count": 20,
      "outputs": [
        {
          "output_type": "stream",
          "name": "stdout",
          "text": [
            "Covar ASMD reduction: 62.3%, design effect: 2.249\nCovar ASMD (7 variables): 0.335 -> 0.126\nModel performance: Model proportion deviance explained: 0.174\n"
          ]
        }
      ]
    },
    {
      "cell_type": "code",
      "metadata": {
        "originalKey": "4fdf7a88-5b62-4b4b-907b-025f6243d63b",
        "showInput": true,
        "customInput": null,
        "collapsed": false,
        "requestMsgId": "c1693c24-ac47-4d5b-b4df-c50eee3a2405",
        "customOutput": null,
        "executionStartTime": 1669114652672,
        "executionStopTime": 1669114653164
      },
      "source": [
        "print(adjusted_cbps.summary())"
      ],
      "execution_count": 21,
      "outputs": [
        {
          "output_type": "stream",
          "name": "stdout",
          "text": [
            "Covar ASMD reduction: 83.7%, design effect: 3.646\nCovar ASMD (7 variables): 0.335 -> 0.055\n\n"
          ]
        }
      ]
    },
    {
      "cell_type": "markdown",
      "metadata": {
        "originalKey": "3344d78e-64a0-40a8-a21d-372bdbb82276",
        "showInput": false,
        "customInput": null
      },
      "source": [
        "We can see that CBPS did a better job in terms of ASMD reduction. Let's look at it per feature:"
      ]
    },
    {
      "cell_type": "markdown",
      "metadata": {
        "originalKey": "ca175fd7-3d45-4d5f-adba-99d35064204e",
        "showInput": false,
        "customInput": null
      },
      "source": [
        "We see an improvement in the average ASMD. We can look at detailed list of ASMD values per variables using the following call."
      ],
      "attachments": {}
    },
    {
      "cell_type": "code",
      "metadata": {
        "originalKey": "782bdb85-2750-40bf-baed-bdda98e4fc8a",
        "showInput": true,
        "customInput": null,
        "collapsed": false,
        "requestMsgId": "fac54182-0eac-48e9-a26a-54665fd9cfd3",
        "customOutput": null,
        "executionStartTime": 1669114729536,
        "executionStopTime": 1669114730030
      },
      "source": [
        "print(\"ipw:\")\n",
        "print(adjusted_ipw.covars().asmd().T)\n",
        "print(\"\\ncbps:\")\n",
        "print(adjusted_cbps.covars().asmd().T)"
      ],
      "execution_count": 23,
      "outputs": [
        {
          "output_type": "stream",
          "name": "stdout",
          "text": [
            "ipw:\n"
          ]
        },
        {
          "output_type": "stream",
          "name": "stdout",
          "text": [
            "source                  self  unadjusted  unadjusted - self\nage_group[T.25-34]  0.040094    0.025375          -0.014719\nage_group[T.35-44]  0.019792    0.277771           0.257980\nage_group[T.45+]    0.137361    0.396127           0.258765\ngender[Female]      0.089228    0.375699           0.286472\ngender[Male]        0.061820    0.379314           0.317494\ngender[_NA]         0.047739    0.006296          -0.041444\nincome              0.246918    0.517721           0.270802\nmean(asmd)          0.126310    0.334860           0.208551\n\ncbps:\n"
          ]
        },
        {
          "output_type": "stream",
          "name": "stdout",
          "text": [
            "source                  self  unadjusted  unadjusted - self\nage_group[T.25-34]  0.000019    0.025375           0.025357\nage_group[T.35-44]  0.044301    0.277771           0.233470\nage_group[T.45+]    0.087002    0.396127           0.309125\ngender[Female]      0.013026    0.375699           0.362673\ngender[Male]        0.003963    0.379314           0.375350\ngender[_NA]         0.029592    0.006296          -0.023296\nincome              0.104624    0.517721           0.413097\nmean(asmd)          0.054642    0.334860           0.280219\n"
          ]
        }
      ]
    },
    {
      "cell_type": "markdown",
      "metadata": {
        "originalKey": "77790240-f43c-4062-b44b-8eb218088553",
        "showInput": false,
        "customInput": null
      },
      "source": [
        "It's easier to learn about the biases by just running `.covars().plot()` on our adjusted object."
      ]
    },
    {
      "cell_type": "code",
      "metadata": {
        "originalKey": "dfd6cbab-46e0-445e-8c6a-dc0b02abc8b2",
        "showInput": true,
        "customInput": null,
        "collapsed": false,
        "requestMsgId": "b958c681-c1b2-4650-b037-598014478978",
        "customOutput": null,
        "executionStartTime": 1669114786952,
        "executionStopTime": 1669114788038
      },
      "source": [
        "adjusted_ipw.covars().plot(library = \"seaborn\", dist_type = \"kde\")"
      ],
      "execution_count": 26,
      "outputs": [
        {
          "output_type": "display_data",
          "data": {
            "text/plain": "<Figure size 504x1512 with 3 Axes>",
            "image/png": "[encoded data removed]"
          },
          "metadata": {
            "bento_obj_id": "139827533761360",
            "needs_background": "light"
          }
        }
      ]
    },
    {
      "cell_type": "code",
      "metadata": {
        "originalKey": "9eca87e2-2b7a-409e-8ad6-4ea0f9e22c99",
        "showInput": true,
        "customInput": null,
        "collapsed": false,
        "requestMsgId": "c9375f4b-c578-49a1-bfb9-4358d9f85936",
        "customOutput": null,
        "executionStartTime": 1669114791353,
        "executionStopTime": 1669114792400
      },
      "source": [
        "adjusted_cbps.covars().plot(library = \"seaborn\", dist_type = \"kde\")"
      ],
      "execution_count": 27,
      "outputs": [
        {
          "output_type": "display_data",
          "data": {
            "text/plain": "<Figure size 504x1512 with 3 Axes>",
            "image/png": "[encoded data removed]"
          },
          "metadata": {
            "bento_obj_id": "139827532523936",
            "needs_background": "light"
          }
        }
      ]
    },
    {
      "cell_type": "markdown",
      "metadata": {
        "originalKey": "1befccb8-86e3-411b-b063-1a1dfa515305",
        "showInput": false,
        "customInput": null
      },
      "source": [
        "We can also use different plots, using the seaborn library, for example with the \"kde\" dist_type."
      ]
    },
    {
      "cell_type": "markdown",
      "metadata": {
        "originalKey": "a3a6d262-0f5b-43ac-96f1-27f1e9f09b69",
        "showInput": false,
        "customInput": null
      },
      "source": [
        "### Understanding the weights"
      ],
      "attachments": {}
    },
    {
      "cell_type": "markdown",
      "metadata": {
        "originalKey": "f742bb04-f697-4546-8701-b0d00deab3df",
        "showInput": false,
        "customInput": null
      },
      "source": [
        "And get the design effect using:"
      ]
    },
    {
      "cell_type": "code",
      "metadata": {
        "originalKey": "b400695b-3cb4-456a-86b9-343b2091bc7a",
        "showInput": true,
        "customInput": null,
        "collapsed": false,
        "requestMsgId": "68583595-3b26-4f28-8951-612b30897507",
        "customOutput": null,
        "executionStartTime": 1669114873487,
        "executionStopTime": 1669114873494
      },
      "source": [
        "print(\"ipw:\")\n",
        "print(adjusted_ipw.weights().design_effect())\n",
        "print(\"\\ncbps:\")\n",
        "print(adjusted_cbps.weights().design_effect())\n",
        ""
      ],
      "execution_count": 28,
      "outputs": [
        {
          "output_type": "stream",
          "name": "stdout",
          "text": [
            "ipw:\n2.2493789945583806\n\ncbps:\n3.6458147446619216\n"
          ]
        }
      ]
    },
    {
      "cell_type": "markdown",
      "metadata": {
        "originalKey": "3cdc9a51-fbcc-49e2-ab39-2ee9bc0bd32d",
        "showInput": false,
        "customInput": null
      },
      "source": [
        "# Outcome analysis"
      ]
    },
    {
      "cell_type": "code",
      "metadata": {
        "originalKey": "5bf0ee49-f479-4f7d-a960-d9ba00a48bdc",
        "showInput": true,
        "customInput": null,
        "collapsed": false,
        "requestMsgId": "a61e3a4a-f9f6-4d87-a6a9-18d65d074ec6",
        "customOutput": null,
        "executionStartTime": 1669114897155,
        "executionStopTime": 1669114897460
      },
      "source": [
        "print(adjusted_ipw.outcomes().summary())\n",
        "adjusted_ipw.outcomes().plot()"
      ],
      "execution_count": 29,
      "outputs": [
        {
          "output_type": "stream",
          "name": "stderr",
          "text": [
            "WARNING (2022-11-22 03:01:37,240) [balancedf_class/target_response_rates (line 1307)]: Sample does not have target set\n"
          ]
        },
        {
          "output_type": "stream",
          "name": "stdout",
          "text": [
            "1 outcomes: ['happiness']\nMean outcomes:\n            happiness\nsource               \nself        54.221388\nunadjusted  48.392784\n\nResponse rates (relative to number of respondents in sample):\n   happiness\nn     1000.0\n%      100.0\n\n\n\n"
          ]
        },
        {
          "output_type": "display_data",
          "data": {
            "text/plain": "<Figure size 504x504 with 1 Axes>",
            "image/png": "[encoded data removed]"
          },
          "metadata": {
            "bento_obj_id": "139827528719376",
            "needs_background": "light"
          }
        }
      ]
    },
    {
      "cell_type": "markdown",
      "metadata": {
        "originalKey": "91af4618-dcc3-41da-883f-aee43fedb724",
        "showInput": false,
        "customInput": null
      },
      "source": [
        "The estimated mean happiness according to our sample is 48 without any adjustment and 54 with adjustment.  The following show the distribution of happinnes:"
      ],
      "attachments": {}
    },
    {
      "cell_type": "code",
      "metadata": {
        "originalKey": "dca7dc51-8feb-4af8-acf8-e9aade59d535",
        "showInput": true,
        "customInput": null,
        "collapsed": false,
        "requestMsgId": "e84ae997-9275-4c6d-a772-60c357221a93",
        "customOutput": null,
        "executionStartTime": 1669114906781,
        "executionStopTime": 1669114907073
      },
      "source": [
        "print(adjusted_cbps.outcomes().summary())\n",
        "adjusted_cbps.outcomes().plot()"
      ],
      "execution_count": 30,
      "outputs": [
        {
          "output_type": "stream",
          "name": "stderr",
          "text": [
            "WARNING (2022-11-22 03:01:46,849) [balancedf_class/target_response_rates (line 1307)]: Sample does not have target set\n"
          ]
        },
        {
          "output_type": "stream",
          "name": "stdout",
          "text": [
            "1 outcomes: ['happiness']\nMean outcomes:\n            happiness\nsource               \nself        55.821948\nunadjusted  48.392784\n\nResponse rates (relative to number of respondents in sample):\n   happiness\nn     1000.0\n%      100.0\n\n\n\n"
          ]
        },
        {
          "output_type": "display_data",
          "data": {
            "text/plain": "<Figure size 504x504 with 1 Axes>",
            "image/png": "[encoded data removed]"
          },
          "metadata": {
            "bento_obj_id": "139827528083968",
            "needs_background": "light"
          }
        }
      ]
    },
    {
      "cell_type": "markdown",
      "metadata": {
        "originalKey": "18e06d47-9993-4a0b-a1b7-c43629a9445b",
        "showInput": false,
        "customInput": null
      },
      "source": [
        "As we can see, CBPS has a larger design effect, but also fixes more of the ASMD and has an impact on the outcome. So there are pros and cons for each of the two methods."
      ],
      "attachments": {}
    },
    {
      "cell_type": "markdown",
      "metadata": {
        "originalKey": "0407042b-95d1-44fe-b09b-633f28d68288",
        "showInput": false,
        "customInput": null
      },
      "source": [
        "# Downloading data"
      ]
    },
    {
      "cell_type": "markdown",
      "metadata": {
        "originalKey": "30ee1017-37cc-4c6d-ac35-06727974e63a",
        "showInput": false,
        "customInput": null
      },
      "source": [
        "Finally, we can prepare the data to be downloaded for future analyses."
      ],
      "attachments": {}
    },
    {
      "cell_type": "code",
      "metadata": {
        "trusted": true,
        "originalKey": "4e557adb-2fed-4c9a-98db-1ac5d382159c",
        "collapsed": false,
        "requestMsgId": "ace2afa0-f278-42c9-b210-ff48dfae05f4",
        "customOutput": null,
        "executionStartTime": 1669115147956,
        "executionStopTime": 1669115147969
      },
      "source": [
        "adjusted_cbps.to_download()"
      ],
      "execution_count": 31,
      "outputs": [
        {
          "output_type": "execute_result",
          "data": {
            "text/plain": "/tmp/tmp_balance_out_1f25078f-bf5e-4a43-b32f-adeddcc570a5.csv",
            "text/html": "Click here to download: <a href='/tmp/tmp_balance_out_1f25078f-bf5e-4a43-b32f-adeddcc570a5.csv' target='_blank'>/tmp/tmp_balance_out_1f25078f-bf5e-4a43-b32f-adeddcc570a5.csv</a><br>"
          },
          "metadata": {
            "bento_obj_id": "139827529073856"
          },
          "execution_count": 31
        }
      ]
    },
    {
      "cell_type": "code",
      "metadata": {
        "originalKey": "8734899a-d81a-4251-bff0-2e9b2ff774b7",
        "showInput": true,
        "customInput": null,
        "collapsed": false,
        "requestMsgId": "1c8b8dab-8b15-41db-831a-e6e2a3fed58c",
        "customOutput": null,
        "executionStartTime": 1669115151892,
        "executionStopTime": 1669115151959
      },
      "source": [
        "# We can prepare the data to be exported as csv - showing the first 500 charaacters for simplicity:\n",
        "adjusted_cbps.to_csv()[0:500]"
      ],
      "execution_count": 32,
      "outputs": [
        {
          "output_type": "execute_result",
          "data": {
            "text/plain": "'id,gender,age_group,income,happiness,weight\\n0,Female,25-34,1.0384632065106263,55.9757637459091,12.161826248734409\\n1,Male,45+,0.21460348629627557,58.645154141877306,2.7434938191419875\\n2,Male,35-44,2.3221372597327745,42.28565260361035,7.3386456005085385\\n3,,18-24,0.08606802599581903,49.21098472260077,2.537419452793263\\n4,,35-44,17.156958197550072,49.33084508361814,33.11812092746495\\n5,,35-44,4.257130738748466,67.46904416515795,13.01780976853926\\n6,,25-34,1.0092927734150772,40.03387164850365,6.83468834'"
          },
          "metadata": {
            "bento_obj_id": "139826723115392"
          },
          "execution_count": 32
        }
      ]
    },
    {
      "cell_type": "code",
      "execution_count": null,
      "metadata": {
        "originalKey": "f53e86e2-1430-4266-8ce9-af3725310aba",
        "showInput": true,
        "customInput": null,
        "collapsed": false,
        "requestMsgId": "f53e86e2-1430-4266-8ce9-af3725310aba",
        "customOutput": null,
        "executionStartTime": 1669093206785,
        "executionStopTime": 1669093206890
      },
      "source": [
        "# Sessions info\n",
        "import session_info\n",
        "session_info.show(html=False, dependencies=True)"
      ],
      "outputs": []
    },
    {
      "cell_type": "code",
      "metadata": {
        "originalKey": "a2bd9ef0-fa82-4d33-923e-db9f2e34002b",
        "showInput": true,
        "customInput": null,
        "collapsed": false,
        "requestMsgId": "a2bd9ef0-fa82-4d33-923e-db9f2e34002b",
        "customOutput": null,
        "executionStartTime": 1669093207066,
        "executionStopTime": 1669093207169
      },
      "source": [
        ""
      ],
      "execution_count": 28,
      "outputs": []
    },
    {
      "cell_type": "code",
      "metadata": {
        "originalKey": "d92d4f88-72b5-45da-873d-ea185b6ceb89",
        "showInput": true,
        "customInput": null,
        "collapsed": false,
        "requestMsgId": "d92d4f88-72b5-45da-873d-ea185b6ceb89",
        "customOutput": null,
        "executionStartTime": 1669093207351,
        "executionStopTime": 1669093207465
      },
      "source": [
        ""
      ],
      "execution_count": 28,
      "outputs": []
    }
  ],
 "metadata": {
  "captumWidgetMessage": {},
  "dataExplorerConfig": {},
  "kernelspec": {
   "display_name": "Python 3 (ipykernel)",
   "language": "python",
   "name": "python3"
  },
  "language_info": {
   "codemirror_mode": {
    "name": "ipython",
    "version": 3
   },
   "file_extension": ".py",
   "mimetype": "text/x-python",
   "name": "python",
   "nbconvert_exporter": "python",
   "pygments_lexer": "ipython3",
   "version": "3.9.2"
  },
  "last_kernel_id": "c3b1455f-e38f-456b-93d0-30bb986a13c1",
  "last_msg_id": "9c18e41f-6fecac803e00a64bdc0e960e_175",
  "last_server_session_id": "e9565ab9-c26f-47a6-84c2-db16db62b238",
  "outputWidgetContext": {}
 },
 "nbformat": 4,
 "nbformat_minor": 2
}
