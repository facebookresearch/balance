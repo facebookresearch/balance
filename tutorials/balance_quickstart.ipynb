{
  "metadata": {
    "dataExplorerConfig": {},
    "bento_stylesheets": {
      "bento/extensions/flow/main.css": true,
      "bento/extensions/kernel_selector/main.css": true,
      "bento/extensions/kernel_ui/main.css": true,
      "bento/extensions/new_kernel/main.css": true,
      "bento/extensions/system_usage/main.css": true,
      "bento/extensions/theme/main.css": true
    },
    "kernelspec": {
      "name": "bento_kernel_core_stats",
      "display_name": "core_stats",
      "language": "python",
      "metadata": {
        "kernel_name": "bento_kernel_core_stats",
        "nightly_builds": true,
        "fbpkg_supported": true,
        "cinder_runtime": true,
        "ipyflow_runtime": false,
        "is_prebuilt": true
      },
      "cinder_runtime": true,
      "ipyflow_runtime": false
    },
    "language_info": {
      "name": "python",
      "version": "3.6.3rc1+",
      "mimetype": "text/x-python",
      "codemirror_mode": {
        "name": "ipython",
        "version": 3
      },
      "pygments_lexer": "ipython3",
      "nbconvert_exporter": "python",
      "file_extension": ".py"
    },
    "last_server_session_id": "e9565ab9-c26f-47a6-84c2-db16db62b238",
    "last_kernel_id": "c3b1455f-e38f-456b-93d0-30bb986a13c1",
    "last_base_url": "https://devvm4410.lla0.facebook.com:8090/",
    "last_msg_id": "ad1a3910-56ffa0f77929dae949bcc515_45",
    "captumWidgetMessage": {},
    "outputWidgetContext": {}
  },
  "nbformat": 4,
  "nbformat_minor": 2,
  "cells": [
    {
      "cell_type": "markdown",
      "metadata": {
        "collapsed": true,
        "originalKey": "b09e243b-4de0-4211-aee8-80ed3b05499a",
        "showInput": false
      },
      "source": [
        "# balance Quickstart: Analyzing and adjusting the bias on a simulated toy dataset\n",
        "\n",
        "'balance' is a Python package that is maintained and released by the Core Data Science Tel-Aviv team in Meta. 'balance' performs and evaluates bias reduction by weighting for a broad set of experimental and observational use cases.\n",
        "\n",
        "Although balance is written in Python, you don't need a deep Python understanding to use it. In fact, you can just use this notebook, load your data, change some variables and re-run the notebook and produce your own weights!\n",
        "\n",
        "This quickstart demonstrates re-weighting specific simulated data, but if you have a different usecase or want more comprehensive documentation, you can check out the comprehensive balance tutorial."
      ]
    },
    {
      "cell_type": "markdown",
      "metadata": {
        "originalKey": "2433e17f-776a-48d1-8c58-dc6bed72277d",
        "showInput": false
      },
      "source": [
        "## Analysis\n",
        "\n",
        "There are four main steps to analysis with balance:\n",
        "- load data\n",
        "- check diagnostics before adjustment\n",
        "- perform adjustment + check diagnostics\n",
        "- output results\n",
        "\n",
        "Let's dive right in!"
      ]
    },
    {
      "cell_type": "markdown",
      "metadata": {
        "originalKey": "72611c31-352b-40f0-93f2-49fcbf582b50",
        "showInput": false,
        "customInput": null
      },
      "source": [
        "## Example dataset\n",
        "\n",
        "The following is a toy simulated dataset."
      ]
    },
    {
      "cell_type": "code",
      "metadata": {
        "originalKey": "4572707f-deaf-4da1-ad08-858ab59e42ba",
        "showInput": true,
        "customInput": null,
        "collapsed": false,
        "requestMsgId": "4572707f-deaf-4da1-ad08-858ab59e42ba",
        "customOutput": null,
        "executionStartTime": 1668352967721,
        "executionStopTime": 1668352969962
      },
      "source": [
        "from balance import load_data"
      ],
      "execution_count": null,
      "outputs": []
    },
    {
      "cell_type": "code",
      "metadata": {
        "originalKey": "047a998a-0477-40a1-8074-532da36b44be",
        "showInput": true,
        "customInput": null,
        "collapsed": false,
        "requestMsgId": "047a998a-0477-40a1-8074-532da36b44be",
        "customOutput": null,
        "executionStartTime": 1668352977008,
        "executionStopTime": 1668352977050
      },
      "source": [
        "target_df, sample_df = load_data()\n",
        "\n",
        "print(\"target_df: \\n\", target_df.head())\n",
        "print(\"sample_df: \\n\", sample_df.head())"
      ],
      "execution_count": null,
      "outputs": []
    },
    {
      "cell_type": "markdown",
      "metadata": {
        "originalKey": "00b6ff3d-1b45-49ea-907a-24b73b3931f7",
        "showInput": false,
        "customInput": null
      },
      "source": [
        "In practice, one can use pandas loading function(such as `read_csv()`) to import data into the DataFrame objects `sample_df` and `target_df`."
      ],
      "attachments": {}
    },
    {
      "cell_type": "markdown",
      "metadata": {
        "originalKey": "c0ac8b78-ce71-4bf6-ae4a-a2c2f7928968",
        "showInput": false
      },
      "source": [
        "# Load data into a Sample object\n",
        "\n",
        "The first thing to do is to import the `Sample` class from balance. All of the data we're going to be working with, sample or population, will be stored in objects of the `Sample` class."
      ]
    },
    {
      "cell_type": "code",
      "metadata": {
        "originalKey": "f89270ae-a983-4918-92c7-68504faaf604",
        "showInput": true,
        "customInput": null,
        "customOutput": null
      },
      "source": [
        "from balance import Sample"
      ],
      "execution_count": null,
      "outputs": []
    },
    {
      "cell_type": "markdown",
      "metadata": {
        "originalKey": "e9ab2c0c-2726-49bf-b2f5-222386d5d426",
        "showInput": false
      },
      "source": [
        "Using the Sample class, we can fill it with a \"sample\" we want to adjust, and also a \"target\" we want to adjust towards."
      ]
    },
    {
      "cell_type": "markdown",
      "metadata": {
        "originalKey": "da4c009d-66bf-4980-960f-9e8bb5352c36",
        "showInput": false,
        "customInput": null
      },
      "source": [
        "We turn the two input pandas DataFrame objects we created (or loaded) into a balance.Sample objects, by using the `.from_frame()` "
      ]
    },
    {
      "cell_type": "code",
      "metadata": {
        "originalKey": "bf42eea2-6e91-4cea-b7e0-e2950b5233c5",
        "showInput": true,
        "customInput": null,
        "collapsed": false,
        "requestMsgId": "bf42eea2-6e91-4cea-b7e0-e2950b5233c5",
        "customOutput": null,
        "executionStartTime": 1668349181913,
        "executionStopTime": 1668349182452
      },
      "source": [
        "sample = Sample.from_frame(sample_df, outcome_columns=[\"happiness\"])\n",
        "target = Sample.from_frame(target_df)"
      ],
      "execution_count": null,
      "outputs": []
    },
    {
      "cell_type": "markdown",
      "metadata": {
        "originalKey": "261f25c9-4027-4e29-9734-aa14b99f1293",
        "showInput": false,
        "customInput": null,
        "collapsed": false,
        "requestMsgId": "261f25c9-4027-4e29-9734-aa14b99f1293",
        "customOutput": null,
        "executionStartTime": 1667643333353,
        "executionStopTime": 1667643333368
      },
      "source": [
        "If we use the `.df` property call, we can see the DataFrame stored in sample. We can see how we have a new weight column that was added (it will all have 1s) in the importing of the DataFrames into a `balance.Sample` object."
      ],
      "attachments": {}
    },
    {
      "cell_type": "code",
      "metadata": {
        "originalKey": "f36c3e82-d832-494d-a839-28e54f9543ea",
        "showInput": true,
        "customInput": null,
        "collapsed": false,
        "requestMsgId": "f36c3e82-d832-494d-a839-28e54f9543ea",
        "executionStopTime": 1668349186638,
        "customOutput": null,
        "executionStartTime": 1668349186629
      },
      "source": [
        "sample.df.info()"
      ],
      "execution_count": null,
      "outputs": []
    },
    {
      "cell_type": "markdown",
      "metadata": {
        "originalKey": "3166f8ed-85f1-41de-b545-cb006ef40e4c",
        "showInput": false,
        "customInput": null
      },
      "source": [
        "We can get a quick overview text of each Sample object, but just calling it."
      ]
    },
    {
      "cell_type": "markdown",
      "metadata": {
        "originalKey": "72ca5928-7a45-4c1c-bf99-1eed1543c0e5",
        "showInput": false
      },
      "source": [
        "Let's take a look at what this produces:"
      ]
    },
    {
      "cell_type": "code",
      "metadata": {
        "originalKey": "2edbf6b6-e5a6-4c06-b7b7-c8e0640ccf0f",
        "showInput": true,
        "customInput": null,
        "collapsed": false,
        "requestMsgId": "2edbf6b6-e5a6-4c06-b7b7-c8e0640ccf0f",
        "customOutput": null,
        "executionStartTime": 1668349188446,
        "executionStopTime": 1668349188456
      },
      "source": [
        "sample"
      ],
      "execution_count": null,
      "outputs": []
    },
    {
      "cell_type": "code",
      "metadata": {
        "originalKey": "8920e57d-7a3e-481d-9ca3-b58eef792620",
        "showInput": true,
        "customInput": null,
        "collapsed": false,
        "requestMsgId": "8920e57d-7a3e-481d-9ca3-b58eef792620",
        "customOutput": null,
        "executionStartTime": 1668349189487,
        "executionStopTime": 1668349189498
      },
      "source": [
        "target"
      ],
      "execution_count": null,
      "outputs": []
    },
    {
      "cell_type": "markdown",
      "metadata": {
        "originalKey": "9d10cb9c-34fa-4f24-bd70-d95d11a9a035",
        "showInput": false,
        "customInput": null
      },
      "source": [
        "Next, we combine the sample object with the target object. This is what will allow us to adjust the sample to the target."
      ]
    },
    {
      "cell_type": "code",
      "metadata": {
        "originalKey": "94b9cf51-7e8e-442c-bee0-d1c72c0b76fd",
        "showInput": true,
        "customInput": null,
        "collapsed": false,
        "requestMsgId": "94b9cf51-7e8e-442c-bee0-d1c72c0b76fd",
        "customOutput": null,
        "executionStartTime": 1668349192602,
        "executionStopTime": 1668349192687
      },
      "source": [
        "sample_with_target = sample.set_target(target)"
      ],
      "execution_count": null,
      "outputs": []
    },
    {
      "cell_type": "markdown",
      "metadata": {
        "originalKey": "92467c57-07cc-48dc-b07e-a6ca083d5ab8",
        "showInput": false,
        "customInput": null
      },
      "source": [
        "Looking on `sample_with_target` now, it has the target atteched:"
      ],
      "attachments": {}
    },
    {
      "cell_type": "code",
      "metadata": {
        "originalKey": "9ba66760-d1d1-46e1-916c-c9ecf6d0e930",
        "showInput": true,
        "customInput": null,
        "collapsed": false,
        "requestMsgId": "9ba66760-d1d1-46e1-916c-c9ecf6d0e930",
        "customOutput": null,
        "executionStartTime": 1668349194112,
        "executionStopTime": 1668349194189
      },
      "source": [
        "sample_with_target"
      ],
      "execution_count": null,
      "outputs": []
    },
    {
      "cell_type": "markdown",
      "metadata": {
        "originalKey": "7c4b3b6f-56e9-423d-8f1b-87bb64355086",
        "showInput": false,
        "customInput": null
      },
      "source": [
        "# Pre-Adjustment Diagnostics"
      ]
    },
    {
      "cell_type": "markdown",
      "metadata": {
        "originalKey": "debd7a86-d3bc-4555-ab29-eb5380b90119",
        "showInput": false
      },
      "source": [
        "We can use `.covars()` and then followup with `.mean()` and `.plot()` (barplots and qqplots) to get some basic diagnostics on what we got.\n",
        "\n",
        "We can see how:\n",
        "- The proportion of missing values in gender is similar in sample and target.\n",
        "- We have younger people in the sample as compared to the target.\n",
        "- We have more females than males in the sample, as compared to around 50-50 split for the (non NA) target.\n",
        "- Income is more right skewed in the target as compared to the sample."
      ]
    },
    {
      "cell_type": "code",
      "metadata": {
        "originalKey": "af7b2a0b-b25a-427e-a594-784b2a8d1b4b",
        "showInput": true,
        "customInput": null,
        "collapsed": false,
        "requestMsgId": "af7b2a0b-b25a-427e-a594-784b2a8d1b4b",
        "customOutput": null,
        "executionStartTime": 1668349205110,
        "executionStopTime": 1668349205215
      },
      "source": [
        "sample_with_target.covars().mean().T"
      ],
      "execution_count": null,
      "outputs": []
    },
    {
      "cell_type": "code",
      "metadata": {
        "trusted": true,
        "originalKey": "f055ff76-e5de-410c-96e5-647c261be008",
        "collapsed": false,
        "requestMsgId": "f055ff76-e5de-410c-96e5-647c261be008",
        "customOutput": null,
        "executionStartTime": 1668349216624,
        "executionStopTime": 1668349217727
      },
      "source": [
        "sample_with_target.covars().plot()"
      ],
      "execution_count": null,
      "outputs": []
    },
    {
      "cell_type": "markdown",
      "metadata": {
        "originalKey": "8e655fe2-bd3a-45ef-831d-db1f53ae9d47",
        "showInput": false,
        "customInput": null
      },
      "source": [
        "# Adjusting Sample to Population"
      ]
    },
    {
      "cell_type": "markdown",
      "metadata": {
        "originalKey": "e9b761e7-f127-4d2a-ae0b-8b69c37a74ff",
        "showInput": false,
        "customInput": null
      },
      "source": [
        "Next, we adjust the sample to the target. The default method to be used is 'ipw' (which uses inverse probability/propensity weights, after running logistic regression with lasso regularization)."
      ]
    },
    {
      "cell_type": "code",
      "metadata": {
        "originalKey": "74ceec8a-7b0c-408e-bc1c-71ee269edcf5",
        "showInput": true,
        "customInput": null,
        "collapsed": false,
        "requestMsgId": "74ceec8a-7b0c-408e-bc1c-71ee269edcf5",
        "customOutput": null,
        "executionStartTime": 1668349225553,
        "executionStopTime": 1668349228634
      },
      "source": [
        "# Using ipw to fit survey weights\n",
        "adjust = sample_with_target.adjust(max_de=None)"
      ],
      "execution_count": null,
      "outputs": []
    },
    {
      "cell_type": "code",
      "metadata": {
        "originalKey": "91ed5520-8584-4b40-b7f5-3333f5b242d2",
        "showInput": true,
        "customInput": null,
        "collapsed": false,
        "requestMsgId": "91ed5520-8584-4b40-b7f5-3333f5b242d2",
        "customOutput": null,
        "executionStartTime": 1668349229017,
        "executionStopTime": 1668349229025
      },
      "source": [
        "print(adjust)"
      ],
      "execution_count": null,
      "outputs": []
    },
    {
      "cell_type": "markdown",
      "metadata": {
        "originalKey": "adae8e09-1593-4344-aa2d-49234c3492c3",
        "showInput": false,
        "customInput": null
      },
      "source": [
        "# Evaluation of the Results"
      ]
    },
    {
      "cell_type": "markdown",
      "metadata": {
        "originalKey": "5041c183-de1d-45f3-81a1-2d80ec776afd",
        "showInput": false,
        "customInput": null
      },
      "source": [
        "We can get a basic summary of the results:"
      ]
    },
    {
      "cell_type": "code",
      "metadata": {
        "originalKey": "a6a76c35-d761-4b9a-8343-aff929d48ffc",
        "showInput": true,
        "customInput": null,
        "collapsed": false,
        "requestMsgId": "a6a76c35-d761-4b9a-8343-aff929d48ffc",
        "executionStopTime": 1668349239770,
        "customOutput": null,
        "executionStartTime": 1668349239299
      },
      "source": [
        "print(adjust.summary())"
      ],
      "execution_count": null,
      "outputs": []
    },
    {
      "cell_type": "markdown",
      "metadata": {
        "originalKey": "ca175fd7-3d45-4d5f-adba-99d35064204e",
        "showInput": false,
        "customInput": null
      },
      "source": [
        "We see an improvement in the average ASMD. We can look at detailed list of ASMD values per variables using the following call."
      ],
      "attachments": {}
    },
    {
      "cell_type": "code",
      "metadata": {
        "originalKey": "a70421e7-38d7-4a89-8a20-9bf2f0e87b36",
        "showInput": true,
        "customInput": null,
        "collapsed": false,
        "requestMsgId": "a70421e7-38d7-4a89-8a20-9bf2f0e87b36",
        "customOutput": null,
        "executionStartTime": 1668349246849,
        "executionStopTime": 1668349247051
      },
      "source": [
        "adjust.covars().asmd().T"
      ],
      "execution_count": null,
      "outputs": []
    },
    {
      "cell_type": "markdown",
      "metadata": {
        "originalKey": "77790240-f43c-4062-b44b-8eb218088553",
        "showInput": false,
        "customInput": null
      },
      "source": [
        "It's easier to learn about the biases by just running `.covars().plot()` on our adjusted object."
      ]
    },
    {
      "cell_type": "code",
      "metadata": {
        "originalKey": "3ad82ce8-1ff4-4f68-8187-7c571fe8cd11",
        "showInput": true,
        "customInput": null,
        "collapsed": false,
        "requestMsgId": "3ad82ce8-1ff4-4f68-8187-7c571fe8cd11",
        "customOutput": null,
        "executionStartTime": 1668349264117,
        "executionStopTime": 1668349265040
      },
      "source": [
        "adjust.covars().plot()"
      ],
      "execution_count": null,
      "outputs": []
    },
    {
      "cell_type": "markdown",
      "metadata": {
        "originalKey": "1befccb8-86e3-411b-b063-1a1dfa515305",
        "showInput": false,
        "customInput": null
      },
      "source": [
        "We can also use different plots, using the seaborn library, for example with the \"kde\" dist_type."
      ]
    },
    {
      "cell_type": "code",
      "metadata": {
        "originalKey": "b1edf35d-8c37-410f-8b54-84bea8d2375e",
        "showInput": true,
        "customInput": null,
        "collapsed": false,
        "requestMsgId": "b1edf35d-8c37-410f-8b54-84bea8d2375e",
        "customOutput": null,
        "executionStartTime": 1668349269309,
        "executionStopTime": 1668349270365
      },
      "source": [
        "# This shows how we could use seaborn to plot a kernel density estimation\n",
        "adjust.covars().plot(library = \"seaborn\", dist_type = \"kde\")"
      ],
      "execution_count": null,
      "outputs": []
    },
    {
      "cell_type": "markdown",
      "metadata": {
        "originalKey": "a3a6d262-0f5b-43ac-96f1-27f1e9f09b69",
        "showInput": false,
        "customInput": null
      },
      "source": [
        "### Understanding the weights"
      ],
      "attachments": {}
    },
    {
      "cell_type": "markdown",
      "metadata": {
        "originalKey": "70ff16e2-0179-4559-a983-92bb859c8b13",
        "showInput": false,
        "customInput": null
      },
      "source": [
        "We can also at the distribution of weights using the following call."
      ],
      "attachments": {}
    },
    {
      "cell_type": "code",
      "metadata": {
        "originalKey": "662ec25b-2137-47e0-a16b-d9c7b93e2fe0",
        "showInput": true,
        "customInput": null,
        "collapsed": false,
        "requestMsgId": "662ec25b-2137-47e0-a16b-d9c7b93e2fe0",
        "customOutput": null,
        "executionStartTime": 1668091190546,
        "executionStopTime": 1668091190824
      },
      "source": [
        "adjust.weights().plot()"
      ],
      "execution_count": null,
      "outputs": []
    },
    {
      "cell_type": "markdown",
      "metadata": {
        "originalKey": "f742bb04-f697-4546-8701-b0d00deab3df",
        "showInput": false,
        "customInput": null
      },
      "source": [
        "And get the design effect using:"
      ]
    },
    {
      "cell_type": "code",
      "metadata": {
        "originalKey": "1d169b23-6620-4767-8810-7503205f6507",
        "showInput": true,
        "customInput": null,
        "collapsed": false,
        "requestMsgId": "1d169b23-6620-4767-8810-7503205f6507",
        "customOutput": null,
        "executionStartTime": 1668349273948,
        "executionStopTime": 1668349273955
      },
      "source": [
        "adjust.weights().design_effect()"
      ],
      "execution_count": null,
      "outputs": []
    },
    {
      "cell_type": "markdown",
      "metadata": {
        "originalKey": "3cdc9a51-fbcc-49e2-ab39-2ee9bc0bd32d",
        "showInput": false,
        "customInput": null
      },
      "source": [
        "# Outcome analysis"
      ]
    },
    {
      "cell_type": "code",
      "metadata": {
        "originalKey": "9acb3b34-3028-4c0e-b8db-22d32289f9dc",
        "showInput": true,
        "customInput": null,
        "collapsed": false,
        "requestMsgId": "9acb3b34-3028-4c0e-b8db-22d32289f9dc",
        "customOutput": null,
        "executionStartTime": 1668349276698,
        "executionStopTime": 1668349276756
      },
      "source": [
        "print(adjust.outcomes().summary())"
      ],
      "execution_count": null,
      "outputs": []
    },
    {
      "cell_type": "markdown",
      "metadata": {
        "originalKey": "91af4618-dcc3-41da-883f-aee43fedb724",
        "showInput": false,
        "customInput": null
      },
      "source": [
        "The estimated mean happiness according to our sample is 48 without any adjustment and 54 with adjustment.  The following show the distribution of happinnes:"
      ],
      "attachments": {}
    },
    {
      "cell_type": "code",
      "metadata": {
        "originalKey": "ce164743-7b83-441a-81bc-e08fc2128644",
        "showInput": true,
        "customInput": null,
        "collapsed": false,
        "requestMsgId": "ce164743-7b83-441a-81bc-e08fc2128644",
        "customOutput": null,
        "executionStartTime": 1668349281089,
        "executionStopTime": 1668349281282
      },
      "source": [
        "adjust.outcomes().plot()"
      ],
      "execution_count": null,
      "outputs": []
    },
    {
      "cell_type": "markdown",
      "metadata": {
        "originalKey": "0407042b-95d1-44fe-b09b-633f28d68288",
        "showInput": false,
        "customInput": null
      },
      "source": [
        "# Downloading data"
      ]
    },
    {
      "cell_type": "markdown",
      "metadata": {
        "originalKey": "30ee1017-37cc-4c6d-ac35-06727974e63a",
        "showInput": false,
        "customInput": null
      },
      "source": [
        "Finally, we can prepare the data to be downloaded for future analyses."
      ],
      "attachments": {}
    },
    {
      "cell_type": "code",
      "metadata": {
        "trusted": true,
        "originalKey": "045ed6b8-bc97-4e61-92d4-ad7f27d9fd57",
        "collapsed": false,
        "requestMsgId": "045ed6b8-bc97-4e61-92d4-ad7f27d9fd57",
        "customOutput": null,
        "executionStartTime": 1668091191875,
        "executionStopTime": 1668091191893
      },
      "source": [
        "adjust.to_download()"
      ],
      "execution_count": null,
      "outputs": []
    },
    {
      "cell_type": "code",
      "metadata": {
        "originalKey": "fd86dc24-52b3-46a6-a577-c5b7cd302532",
        "showInput": true,
        "customInput": null,
        "collapsed": false,
        "requestMsgId": "fd86dc24-52b3-46a6-a577-c5b7cd302532",
        "customOutput": null,
        "executionStartTime": 1668349295322,
        "executionStopTime": 1668349295382
      },
      "source": [
        "# We can prepare the data to be exported as csv - showing the first 500 charaacters for simplicity:\n",
        "adjust.to_csv()[0:500]"
      ],
      "execution_count": null,
      "outputs": []
    },
    {
      "cell_type": "code",
      "metadata": {
        "originalKey": "5662016a-d47b-4da7-9d2f-e2864e272e86",
        "showInput": true,
        "customInput": null,
        "collapsed": false,
        "requestMsgId": "5662016a-d47b-4da7-9d2f-e2864e272e86",
        "customOutput": null,
        "executionStartTime": 1668091192188,
        "executionStopTime": 1668091192289
      },
      "source": [
        ""
      ],
      "execution_count": null,
      "outputs": []
    }
  ]
}
