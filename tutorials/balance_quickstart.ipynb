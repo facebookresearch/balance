{
  "metadata": {
    "dataExplorerConfig": {},
    "kernelspec": {
      "name": "python3",
      "display_name": "python3",
      "language": "python",
      "metadata": {
        "kernel_name": "bento_kernel_core_stats",
        "nightly_builds": true,
        "fbpkg_supported": true,
        "cinder_runtime": true,
        "ipyflow_runtime": false,
        "is_prebuilt": true
      },
      "cinder_runtime": true,
      "ipyflow_runtime": false
    },
    "last_server_session_id": "e9565ab9-c26f-47a6-84c2-db16db62b238",
    "last_kernel_id": "c3b1455f-e38f-456b-93d0-30bb986a13c1",
    "last_base_url": "https://devvm4410.lla0.facebook.com:8090/",
    "last_msg_id": "9c18e41f-6fecac803e00a64bdc0e960e_175",
    "captumWidgetMessage": {},
    "outputWidgetContext": {}
  },
  "nbformat": 4,
  "nbformat_minor": 2,
  "cells": [
    {
      "cell_type": "markdown",
      "metadata": {
        "collapsed": true,
        "originalKey": "b09e243b-4de0-4211-aee8-80ed3b05499a",
        "showInput": false
      },
      "source": [
        "# balance Quickstart: Analyzing and adjusting the bias on a simulated toy dataset\n",
        "\n",
        "'balance' is a Python package that is maintained and released by the Core Data Science Tel-Aviv team in Meta. 'balance' performs and evaluates bias reduction by weighting for a broad set of experimental and observational use cases.\n",
        "\n",
        "Although balance is written in Python, you don't need a deep Python understanding to use it. In fact, you can just use this notebook, load your data, change some variables and re-run the notebook and produce your own weights!\n",
        "\n",
        "This quickstart demonstrates re-weighting specific simulated data, but if you have a different usecase or want more comprehensive documentation, you can check out the comprehensive balance tutorial."
      ],
      "outputs": []
    },
    {
      "cell_type": "markdown",
      "metadata": {
        "originalKey": "2433e17f-776a-48d1-8c58-dc6bed72277d",
        "showInput": false
      },
      "source": [
        "## Analysis\n",
        "\n",
        "There are four main steps to analysis with balance:\n",
        "- load data\n",
        "- check diagnostics before adjustment\n",
        "- perform adjustment + check diagnostics\n",
        "- output results\n",
        "\n",
        "Let's dive right in!"
      ],
      "outputs": []
    },
    {
      "cell_type": "markdown",
      "metadata": {
        "originalKey": "72611c31-352b-40f0-93f2-49fcbf582b50",
        "showInput": false,
        "customInput": null
      },
      "source": [
        "## Example dataset\n",
        "\n",
        "The following is a toy simulated dataset."
      ],
      "outputs": []
    },
    {
      "cell_type": "code",
      "metadata": {
        "originalKey": "c46a2f2c-fd50-4c1f-9b97-004adad2efad",
        "showInput": true,
        "customInput": null,
        "collapsed": false,
        "requestMsgId": "82a6aab8-baf4-4c0b-a350-0bfcf741dd40",
        "customOutput": null,
        "executionStartTime": 1668534866847,
        "executionStopTime": 1668534866870
      },
      "source": [
        "from balance import load_data"
      ],
      "execution_count": 1,
      "outputs": []
    },
    {
      "cell_type": "code",
      "metadata": {
        "originalKey": "1fd6a250-9e1a-42a8-8456-159d104b8daf",
        "showInput": true,
        "customInput": null,
        "collapsed": false,
        "requestMsgId": "c1bf7334-6119-40ef-b811-f38e04877373",
        "customOutput": null,
        "executionStartTime": 1668534867140,
        "executionStopTime": 1668534867181
      },
      "source": [
        "target_df, sample_df = load_data()\n",
        "\n",
        "print(\"target_df: \\n\", target_df.head())\n",
        "print(\"sample_df: \\n\", sample_df.head())"
      ],
      "execution_count": 2,
      "outputs": []
    },
    {
      "cell_type": "code",
      "metadata": {
        "originalKey": "e65c4651-da58-43ca-be69-be097a066a45",
        "showInput": true,
        "customInput": null,
        "collapsed": false,
        "requestMsgId": "81609589-5468-41d6-ad4a-27bbb063c595",
        "customOutput": null,
        "executionStartTime": 1668534867352,
        "executionStopTime": 1668534867371
      },
      "source": [
        "target_df.head().round(2).to_dict()\n",
        "# sample_df.shape"
      ],
      "execution_count": 3,
      "outputs": []
    },
    {
      "cell_type": "markdown",
      "metadata": {
        "originalKey": "00b6ff3d-1b45-49ea-907a-24b73b3931f7",
        "showInput": false,
        "customInput": null
      },
      "source": [
        "In practice, one can use pandas loading function(such as `read_csv()`) to import data into the DataFrame objects `sample_df` and `target_df`."
      ],
      "attachments": {},
      "outputs": []
    },
    {
      "cell_type": "markdown",
      "metadata": {
        "originalKey": "c0ac8b78-ce71-4bf6-ae4a-a2c2f7928968",
        "showInput": false
      },
      "source": [
        "# Load data into a Sample object\n",
        "\n",
        "The first thing to do is to import the `Sample` class from balance. All of the data we're going to be working with, sample or population, will be stored in objects of the `Sample` class."
      ],
      "outputs": []
    },
    {
      "cell_type": "code",
      "metadata": {
        "originalKey": "456b389f-9795-46d0-a5f4-e42fd48c4b71",
        "showInput": true,
        "customInput": null,
        "customOutput": null,
        "collapsed": false,
        "requestMsgId": "f0ac11e4-700e-43ed-94c9-0d85e6e51eb1",
        "executionStartTime": 1668534867560,
        "executionStopTime": 1668534867569
      },
      "source": [
        "from balance import Sample"
      ],
      "execution_count": 4,
      "outputs": []
    },
    {
      "cell_type": "markdown",
      "metadata": {
        "originalKey": "e9ab2c0c-2726-49bf-b2f5-222386d5d426",
        "showInput": false
      },
      "source": [
        "Using the Sample class, we can fill it with a \"sample\" we want to adjust, and also a \"target\" we want to adjust towards."
      ],
      "outputs": []
    },
    {
      "cell_type": "markdown",
      "metadata": {
        "originalKey": "da4c009d-66bf-4980-960f-9e8bb5352c36",
        "showInput": false,
        "customInput": null
      },
      "source": [
        "We turn the two input pandas DataFrame objects we created (or loaded) into a balance.Sample objects, by using the `.from_frame()` "
      ],
      "outputs": []
    },
    {
      "cell_type": "code",
      "metadata": {
        "originalKey": "e6ffd844-3ca1-43f3-b298-4ae10369a8dc",
        "showInput": true,
        "customInput": null,
        "collapsed": false,
        "requestMsgId": "53755e42-91cc-410b-9e11-424d8c5e7478",
        "customOutput": null,
        "executionStartTime": 1668534867864,
        "executionStopTime": 1668534868623
      },
      "source": [
        "sample = Sample.from_frame(sample_df, outcome_columns=[\"happiness\"])\n",
        "target = Sample.from_frame(target_df)"
      ],
      "execution_count": 5,
      "outputs": []
    },
    {
      "cell_type": "markdown",
      "metadata": {
        "originalKey": "261f25c9-4027-4e29-9734-aa14b99f1293",
        "showInput": false,
        "customInput": null,
        "collapsed": false,
        "requestMsgId": "261f25c9-4027-4e29-9734-aa14b99f1293",
        "customOutput": null,
        "executionStartTime": 1667643333353,
        "executionStopTime": 1667643333368
      },
      "source": [
        "If we use the `.df` property call, we can see the DataFrame stored in sample. We can see how we have a new weight column that was added (it will all have 1s) in the importing of the DataFrames into a `balance.Sample` object."
      ],
      "attachments": {},
      "outputs": []
    },
    {
      "cell_type": "code",
      "metadata": {
        "originalKey": "b9e3b96d-e6e8-41f4-81b3-e8e005879ed6",
        "showInput": true,
        "customInput": null,
        "collapsed": false,
        "requestMsgId": "18ecaba1-19a6-4270-869d-d3f7f67c8a0d",
        "executionStopTime": 1668534870318,
        "customOutput": null,
        "executionStartTime": 1668534870209
      },
      "source": [
        "sample.df.info()"
      ],
      "execution_count": 6,
      "outputs": []
    },
    {
      "cell_type": "markdown",
      "metadata": {
        "originalKey": "3166f8ed-85f1-41de-b545-cb006ef40e4c",
        "showInput": false,
        "customInput": null
      },
      "source": [
        "We can get a quick overview text of each Sample object, but just calling it."
      ],
      "outputs": []
    },
    {
      "cell_type": "markdown",
      "metadata": {
        "originalKey": "72ca5928-7a45-4c1c-bf99-1eed1543c0e5",
        "showInput": false
      },
      "source": [
        "Let's take a look at what this produces:"
      ],
      "outputs": []
    },
    {
      "cell_type": "code",
      "metadata": {
        "originalKey": "3ace2c99-baf8-4032-8669-e9e7008bbec7",
        "showInput": true,
        "customInput": null,
        "collapsed": false,
        "requestMsgId": "2843f687-b395-466a-a21c-a152994cc7af",
        "customOutput": null,
        "executionStartTime": 1668534870525,
        "executionStopTime": 1668534870544
      },
      "source": [
        "sample"
      ],
      "execution_count": 7,
      "outputs": []
    },
    {
      "cell_type": "code",
      "metadata": {
        "originalKey": "6077219e-ce37-489b-aa47-2e1bbda45aeb",
        "showInput": true,
        "customInput": null,
        "collapsed": false,
        "requestMsgId": "65c0adbc-e012-4bd3-b4c7-75ee5ca55c27",
        "customOutput": null,
        "executionStartTime": 1668534870700,
        "executionStopTime": 1668534870757
      },
      "source": [
        "target"
      ],
      "execution_count": 8,
      "outputs": []
    },
    {
      "cell_type": "markdown",
      "metadata": {
        "originalKey": "9d10cb9c-34fa-4f24-bd70-d95d11a9a035",
        "showInput": false,
        "customInput": null
      },
      "source": [
        "Next, we combine the sample object with the target object. This is what will allow us to adjust the sample to the target."
      ],
      "outputs": []
    },
    {
      "cell_type": "code",
      "metadata": {
        "originalKey": "f436bd61-f87e-42f0-9bbc-265848f3ffe4",
        "showInput": true,
        "customInput": null,
        "collapsed": false,
        "requestMsgId": "e9d72a66-d812-4f96-872d-e474ab35151f",
        "customOutput": null,
        "executionStartTime": 1668534870939,
        "executionStopTime": 1668534871052
      },
      "source": [
        "sample_with_target = sample.set_target(target)"
      ],
      "execution_count": 9,
      "outputs": []
    },
    {
      "cell_type": "markdown",
      "metadata": {
        "originalKey": "92467c57-07cc-48dc-b07e-a6ca083d5ab8",
        "showInput": false,
        "customInput": null
      },
      "source": [
        "Looking on `sample_with_target` now, it has the target atteched:"
      ],
      "attachments": {},
      "outputs": []
    },
    {
      "cell_type": "code",
      "metadata": {
        "originalKey": "7ceacd45-f494-44ee-a6cb-b6fc0bc7044d",
        "showInput": true,
        "customInput": null,
        "collapsed": false,
        "requestMsgId": "e062c87e-766f-414e-8cf6-4b095d766ec5",
        "customOutput": null,
        "executionStartTime": 1668534871215,
        "executionStopTime": 1668534871385
      },
      "source": [
        "sample_with_target"
      ],
      "execution_count": 10,
      "outputs": []
    },
    {
      "cell_type": "markdown",
      "metadata": {
        "originalKey": "7c4b3b6f-56e9-423d-8f1b-87bb64355086",
        "showInput": false,
        "customInput": null
      },
      "source": [
        "# Pre-Adjustment Diagnostics"
      ],
      "outputs": []
    },
    {
      "cell_type": "markdown",
      "metadata": {
        "originalKey": "debd7a86-d3bc-4555-ab29-eb5380b90119",
        "showInput": false
      },
      "source": [
        "We can use `.covars()` and then followup with `.mean()` and `.plot()` (barplots and qqplots) to get some basic diagnostics on what we got.\n",
        "\n",
        "We can see how:\n",
        "- The proportion of missing values in gender is similar in sample and target.\n",
        "- We have younger people in the sample as compared to the target.\n",
        "- We have more females than males in the sample, as compared to around 50-50 split for the (non NA) target.\n",
        "- Income is more right skewed in the target as compared to the sample."
      ],
      "outputs": []
    },
    {
      "cell_type": "code",
      "metadata": {
        "originalKey": "5918954a-7b6a-44cd-94db-8e5e4d27dc4b",
        "showInput": true,
        "customInput": null,
        "collapsed": false,
        "requestMsgId": "3e945e42-d068-4e09-9892-9db939bb760e",
        "customOutput": null,
        "executionStartTime": 1668534871710,
        "executionStopTime": 1668534871897
      },
      "source": [
        "print(sample_with_target.covars().mean().T)"
      ],
      "execution_count": 11,
      "outputs": []
    },
    {
      "cell_type": "code",
      "metadata": {
        "originalKey": "59b1f159-6d40-40ce-a93a-567893c30c0b",
        "showInput": true,
        "customInput": null,
        "collapsed": false,
        "requestMsgId": "1dee80cc-efd8-4eac-9413-5760bb6dbafb",
        "executionStopTime": 1668534872429,
        "customOutput": null,
        "executionStartTime": 1668534872220
      },
      "source": [
        "print(sample_with_target.covars().asmd().T)"
      ],
      "execution_count": 12,
      "outputs": []
    },
    {
      "cell_type": "code",
      "metadata": {
        "originalKey": "a3f50085-9c50-485d-b5a2-2bb018b6560f",
        "showInput": true,
        "customInput": null,
        "collapsed": false,
        "requestMsgId": "912e003b-b0d3-481d-9016-dcc5c6103408",
        "customOutput": null,
        "executionStartTime": 1668534872769,
        "executionStopTime": 1668534872907
      },
      "source": [
        "print(sample_with_target.covars().asmd(aggregate_by_main_covar = True).T)"
      ],
      "execution_count": 13,
      "outputs": []
    },
    {
      "cell_type": "code",
      "metadata": {
        "trusted": true,
        "originalKey": "32f2dc6a-aaaf-45c9-8c1a-28922947db19",
        "collapsed": false,
        "requestMsgId": "995a0b13-5615-4377-986f-0a39fc120033",
        "customOutput": null,
        "executionStartTime": 1668534873237,
        "executionStopTime": 1668534875126
      },
      "source": [
        "sample_with_target.covars().plot()"
      ],
      "execution_count": 14,
      "outputs": []
    },
    {
      "cell_type": "markdown",
      "metadata": {
        "originalKey": "8e655fe2-bd3a-45ef-831d-db1f53ae9d47",
        "showInput": false,
        "customInput": null
      },
      "source": [
        "# Adjusting Sample to Population"
      ],
      "outputs": []
    },
    {
      "cell_type": "markdown",
      "metadata": {
        "originalKey": "e9b761e7-f127-4d2a-ae0b-8b69c37a74ff",
        "showInput": false,
        "customInput": null
      },
      "source": [
        "Next, we adjust the sample to the target. The default method to be used is 'ipw' (which uses inverse probability/propensity weights, after running logistic regression with lasso regularization)."
      ],
      "outputs": []
    },
    {
      "cell_type": "code",
      "metadata": {
        "originalKey": "8fa4914c-2064-4021-8b2b-9e15fccaae71",
        "showInput": true,
        "customInput": null,
        "collapsed": false,
        "requestMsgId": "b51693a1-e63a-4481-b932-49282c1ab185",
        "customOutput": null,
        "executionStartTime": 1668534875322,
        "executionStopTime": 1668534878594
      },
      "source": [
        "# Using ipw to fit survey weights\n",
        "adjusted = sample_with_target.adjust(max_de=None)"
      ],
      "execution_count": 15,
      "outputs": []
    },
    {
      "cell_type": "code",
      "metadata": {
        "originalKey": "1d2ddd80-60b6-4e19-9474-a5f426571eb1",
        "showInput": true,
        "customInput": null,
        "collapsed": false,
        "requestMsgId": "12863414-a7b1-4787-9e59-493bb7c9921c",
        "customOutput": null,
        "executionStartTime": 1668534878811,
        "executionStopTime": 1668534878842
      },
      "source": [
        "print(adjusted)"
      ],
      "execution_count": 16,
      "outputs": []
    },
    {
      "cell_type": "markdown",
      "metadata": {
        "originalKey": "adae8e09-1593-4344-aa2d-49234c3492c3",
        "showInput": false,
        "customInput": null
      },
      "source": [
        "# Evaluation of the Results"
      ],
      "outputs": []
    },
    {
      "cell_type": "markdown",
      "metadata": {
        "originalKey": "5041c183-de1d-45f3-81a1-2d80ec776afd",
        "showInput": false,
        "customInput": null
      },
      "source": [
        "We can get a basic summary of the results:"
      ],
      "outputs": []
    },
    {
      "cell_type": "code",
      "metadata": {
        "originalKey": "02757ed2-865f-4598-8f27-4366ffde3329",
        "showInput": true,
        "customInput": null,
        "collapsed": false,
        "requestMsgId": "cf9f6cb2-e48e-4be0-a720-6eef5e7a97e0",
        "executionStopTime": 1668534879553,
        "customOutput": null,
        "executionStartTime": 1668534879095
      },
      "source": [
        "print(adjusted.summary())"
      ],
      "execution_count": 17,
      "outputs": []
    },
    {
      "cell_type": "code",
      "metadata": {
        "originalKey": "f73d44dc-da58-4966-b05c-d023866afb6c",
        "showInput": true,
        "customInput": null,
        "collapsed": false,
        "requestMsgId": "f5a73885-b866-4f8c-8dfc-0e0802782a2a",
        "customOutput": null,
        "executionStartTime": 1668534879756,
        "executionStopTime": 1668534879924
      },
      "source": [
        "print(adjusted.covars().mean().T)"
      ],
      "execution_count": 18,
      "outputs": []
    },
    {
      "cell_type": "markdown",
      "metadata": {
        "originalKey": "ca175fd7-3d45-4d5f-adba-99d35064204e",
        "showInput": false,
        "customInput": null
      },
      "source": [
        "We see an improvement in the average ASMD. We can look at detailed list of ASMD values per variables using the following call."
      ],
      "attachments": {},
      "outputs": []
    },
    {
      "cell_type": "code",
      "metadata": {
        "originalKey": "caf1ee36-1541-4b3d-bd25-0bdffaf4ac0a",
        "showInput": true,
        "customInput": null,
        "collapsed": false,
        "requestMsgId": "824d418b-994e-4ebf-be27-1d378f5419fe",
        "customOutput": null,
        "executionStartTime": 1668534880128,
        "executionStopTime": 1668534880342
      },
      "source": [
        "print(adjusted.covars().asmd().T)"
      ],
      "execution_count": 19,
      "outputs": []
    },
    {
      "cell_type": "markdown",
      "metadata": {
        "originalKey": "77790240-f43c-4062-b44b-8eb218088553",
        "showInput": false,
        "customInput": null
      },
      "source": [
        "It's easier to learn about the biases by just running `.covars().plot()` on our adjusted object."
      ],
      "outputs": []
    },
    {
      "cell_type": "code",
      "metadata": {
        "originalKey": "4bf718b2-05bd-4d09-a221-de5655d534bc",
        "showInput": true,
        "customInput": null,
        "collapsed": false,
        "requestMsgId": "ed4910eb-b6db-4974-ab4e-cf9271397e5b",
        "customOutput": null,
        "executionStartTime": 1668534880547,
        "executionStopTime": 1668534881795
      },
      "source": [
        "adjusted.covars().plot()"
      ],
      "execution_count": 20,
      "outputs": []
    },
    {
      "cell_type": "markdown",
      "metadata": {
        "originalKey": "1befccb8-86e3-411b-b063-1a1dfa515305",
        "showInput": false,
        "customInput": null
      },
      "source": [
        "We can also use different plots, using the seaborn library, for example with the \"kde\" dist_type."
      ],
      "outputs": []
    },
    {
      "cell_type": "code",
      "metadata": {
        "originalKey": "ba2847cf-6b61-43c0-9bd4-b1175d3c9bfa",
        "showInput": true,
        "customInput": null,
        "collapsed": false,
        "requestMsgId": "4b06fd9f-1fec-4da3-ab47-2a84aaade645",
        "customOutput": null,
        "executionStartTime": 1668534882129,
        "executionStopTime": 1668534883149
      },
      "source": [
        "# This shows how we could use seaborn to plot a kernel density estimation\n",
        "adjusted.covars().plot(library = \"seaborn\", dist_type = \"kde\")"
      ],
      "execution_count": 21,
      "outputs": []
    },
    {
      "cell_type": "markdown",
      "metadata": {
        "originalKey": "a3a6d262-0f5b-43ac-96f1-27f1e9f09b69",
        "showInput": false,
        "customInput": null
      },
      "source": [
        "### Understanding the weights"
      ],
      "attachments": {},
      "outputs": []
    },
    {
      "cell_type": "markdown",
      "metadata": {
        "originalKey": "70ff16e2-0179-4559-a983-92bb859c8b13",
        "showInput": false,
        "customInput": null
      },
      "source": [
        "We can look at the distribution of weights using the following call."
      ],
      "attachments": {},
      "outputs": []
    },
    {
      "cell_type": "code",
      "metadata": {
        "originalKey": "1481b0d7-8062-48c9-89f0-803a03df06e0",
        "showInput": true,
        "customInput": null,
        "collapsed": false,
        "requestMsgId": "2fcb96fb-87db-424b-8ccc-ef915baab87e",
        "customOutput": null,
        "executionStartTime": 1668534883349,
        "executionStopTime": 1668534883641
      },
      "source": [
        "adjusted.weights().plot()"
      ],
      "execution_count": 22,
      "outputs": []
    },
    {
      "cell_type": "markdown",
      "metadata": {
        "originalKey": "f742bb04-f697-4546-8701-b0d00deab3df",
        "showInput": false,
        "customInput": null
      },
      "source": [
        "And get the design effect using:"
      ],
      "outputs": []
    },
    {
      "cell_type": "code",
      "metadata": {
        "originalKey": "88183802-b7d5-48bf-875c-134d80185e95",
        "showInput": true,
        "customInput": null,
        "collapsed": false,
        "requestMsgId": "83424e15-db4c-4185-8477-c3f010180154",
        "customOutput": null,
        "executionStartTime": 1668534883833,
        "executionStopTime": 1668534883864
      },
      "source": [
        "adjusted.weights().design_effect()"
      ],
      "execution_count": 23,
      "outputs": []
    },
    {
      "cell_type": "markdown",
      "metadata": {
        "originalKey": "3cdc9a51-fbcc-49e2-ab39-2ee9bc0bd32d",
        "showInput": false,
        "customInput": null
      },
      "source": [
        "# Outcome analysis"
      ],
      "outputs": []
    },
    {
      "cell_type": "code",
      "metadata": {
        "originalKey": "99daa0d4-0f44-44ca-8e91-a7a727366d10",
        "showInput": true,
        "customInput": null,
        "collapsed": false,
        "requestMsgId": "2e036bf2-fb2f-4393-b264-493d431091c7",
        "customOutput": null,
        "executionStartTime": 1668534884056,
        "executionStopTime": 1668534884138
      },
      "source": [
        "print(adjusted.outcomes().summary())"
      ],
      "execution_count": 24,
      "outputs": []
    },
    {
      "cell_type": "markdown",
      "metadata": {
        "originalKey": "91af4618-dcc3-41da-883f-aee43fedb724",
        "showInput": false,
        "customInput": null
      },
      "source": [
        "The estimated mean happiness according to our sample is 48 without any adjustment and 54 with adjustment.  The following show the distribution of happinnes:"
      ],
      "attachments": {},
      "outputs": []
    },
    {
      "cell_type": "code",
      "metadata": {
        "originalKey": "9c4cfe92-a3ea-48d4-82ca-4fb150a6c409",
        "showInput": true,
        "customInput": null,
        "collapsed": false,
        "requestMsgId": "6214da34-b972-42cc-a2fe-7f6f65f9db64",
        "customOutput": null,
        "executionStartTime": 1668534884410,
        "executionStopTime": 1668534884648
      },
      "source": [
        "adjusted.outcomes().plot()"
      ],
      "execution_count": 25,
      "outputs": []
    },
    {
      "cell_type": "markdown",
      "metadata": {
        "originalKey": "0407042b-95d1-44fe-b09b-633f28d68288",
        "showInput": false,
        "customInput": null
      },
      "source": [
        "# Downloading data"
      ],
      "outputs": []
    },
    {
      "cell_type": "markdown",
      "metadata": {
        "originalKey": "30ee1017-37cc-4c6d-ac35-06727974e63a",
        "showInput": false,
        "customInput": null
      },
      "source": [
        "Finally, we can prepare the data to be downloaded for future analyses."
      ],
      "attachments": {},
      "outputs": []
    },
    {
      "cell_type": "code",
      "metadata": {
        "trusted": true,
        "originalKey": "033f43fc-9ab7-4238-afde-038c4cd24746",
        "collapsed": false,
        "requestMsgId": "7d6e0e0d-5329-4f3b-9b05-a14c96bcbbde",
        "customOutput": null,
        "executionStartTime": 1668534884833,
        "executionStopTime": 1668534884854
      },
      "source": [
        "adjusted.to_download()"
      ],
      "execution_count": 26,
      "outputs": []
    },
    {
      "cell_type": "code",
      "metadata": {
        "originalKey": "250c11d1-3d83-4cef-8aa4-3e6f805cf46a",
        "showInput": true,
        "customInput": null,
        "collapsed": false,
        "requestMsgId": "c45248e6-1b98-47b2-bf03-408e909481ad",
        "customOutput": null,
        "executionStartTime": 1668534885026,
        "executionStopTime": 1668534885136
      },
      "source": [
        "# We can prepare the data to be exported as csv - showing the first 500 charaacters for simplicity:\n",
        "adjusted.to_csv()[0:500]"
      ],
      "execution_count": 27,
      "outputs": []
    },
    {
      "cell_type": "code",
      "metadata": {
        "originalKey": "21a4e132-389d-43c6-8e51-d7574a91539b",
        "showInput": true,
        "customInput": null,
        "collapsed": false,
        "requestMsgId": "f9a8e478-64ba-4efe-8723-18036316e676",
        "customOutput": null,
        "executionStartTime": 1668534885276,
        "executionStopTime": 1668534885378
      },
      "source": [
        ""
      ],
      "execution_count": 27,
      "outputs": []
    }
  ]
}
